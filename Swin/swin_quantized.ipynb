{
 "cells": [
  {
   "cell_type": "code",
   "execution_count": 1,
   "metadata": {},
   "outputs": [
    {
     "name": "stderr",
     "output_type": "stream",
     "text": [
      "/home/bmw/anaconda3/envs/swin_bhanu/lib/python3.10/site-packages/onnxscript/converter.py:823: FutureWarning: 'onnxscript.values.Op.param_schemas' is deprecated in version 0.1 and will be removed in the future. Please use '.op_signature' instead.\n",
      "  param_schemas = callee.param_schemas()\n",
      "/home/bmw/anaconda3/envs/swin_bhanu/lib/python3.10/site-packages/onnxscript/converter.py:823: FutureWarning: 'onnxscript.values.OnnxFunction.param_schemas' is deprecated in version 0.1 and will be removed in the future. Please use '.op_signature' instead.\n",
      "  param_schemas = callee.param_schemas()\n"
     ]
    },
    {
     "name": "stdout",
     "output_type": "stream",
     "text": [
      "2025-03-02 17:18:22,544 - root - INFO - AIMET\n"
     ]
    },
    {
     "name": "stderr",
     "output_type": "stream",
     "text": [
      "/home/bmw/anaconda3/envs/swin_bhanu/lib/python3.10/site-packages/torch/overrides.py:110: UserWarning: 'has_cuda' is deprecated, please use 'torch.backends.cuda.is_built()'\n",
      "  torch.has_cuda,\n",
      "/home/bmw/anaconda3/envs/swin_bhanu/lib/python3.10/site-packages/torch/overrides.py:111: UserWarning: 'has_cudnn' is deprecated, please use 'torch.backends.cudnn.is_available()'\n",
      "  torch.has_cudnn,\n",
      "/home/bmw/anaconda3/envs/swin_bhanu/lib/python3.10/site-packages/torch/overrides.py:117: UserWarning: 'has_mps' is deprecated, please use 'torch.backends.mps.is_built()'\n",
      "  torch.has_mps,\n",
      "/home/bmw/anaconda3/envs/swin_bhanu/lib/python3.10/site-packages/torch/overrides.py:118: UserWarning: 'has_mkldnn' is deprecated, please use 'torch.backends.mkldnn.is_available()'\n",
      "  torch.has_mkldnn,\n"
     ]
    }
   ],
   "source": [
    "import torch\n",
    "import timm\n",
    "from tqdm import tqdm\n",
    "from aimet_torch.batch_norm_fold import fold_all_batch_norms\n",
    "from aimet_torch.model_preparer import prepare_model\n",
    "from aimet_torch.model_validator.model_validator import ModelValidator\n",
    "import aimet_torch.quantsim as qsim\n",
    "from torchvision import transforms, datasets\n",
    "from torch.utils.data import DataLoader\n",
    "from torch.utils.data import Subset"
   ]
  },
  {
   "cell_type": "code",
   "execution_count": 2,
   "metadata": {},
   "outputs": [
    {
     "name": "stderr",
     "output_type": "stream",
     "text": [
      "/home/bmw/anaconda3/envs/swin_bhanu/lib/python3.10/site-packages/torch/functional.py:504: UserWarning: torch.meshgrid: in an upcoming release, it will be required to pass the indexing argument. (Triggered internally at ../aten/src/ATen/native/TensorShape.cpp:3526.)\n",
      "  return _VF.meshgrid(tensors, **kwargs)  # type: ignore[attr-defined]\n"
     ]
    },
    {
     "name": "stdout",
     "output_type": "stream",
     "text": [
      "2025-03-02 17:18:26,369 - timm.models.helpers - INFO - Loading pretrained weights from url (https://github.com/SwinTransformer/storage/releases/download/v1.0.0/swin_tiny_patch4_window7_224.pth)\n"
     ]
    },
    {
     "data": {
      "text/plain": [
       "SwinTransformer(\n",
       "  (patch_embed): PatchEmbed(\n",
       "    (proj): Conv2d(3, 96, kernel_size=(4, 4), stride=(4, 4))\n",
       "    (norm): LayerNorm((96,), eps=1e-05, elementwise_affine=True)\n",
       "  )\n",
       "  (pos_drop): Dropout(p=0.0, inplace=False)\n",
       "  (layers): Sequential(\n",
       "    (0): BasicLayer(\n",
       "      dim=96, input_resolution=(56, 56), depth=2\n",
       "      (blocks): ModuleList(\n",
       "        (0): SwinTransformerBlock(\n",
       "          (norm1): LayerNorm((96,), eps=1e-05, elementwise_affine=True)\n",
       "          (attn): WindowAttention(\n",
       "            (qkv): Linear(in_features=96, out_features=288, bias=True)\n",
       "            (attn_drop): Dropout(p=0.0, inplace=False)\n",
       "            (proj): Linear(in_features=96, out_features=96, bias=True)\n",
       "            (proj_drop): Dropout(p=0.0, inplace=False)\n",
       "            (softmax): Softmax(dim=-1)\n",
       "          )\n",
       "          (drop_path): Identity()\n",
       "          (norm2): LayerNorm((96,), eps=1e-05, elementwise_affine=True)\n",
       "          (mlp): Mlp(\n",
       "            (fc1): Linear(in_features=96, out_features=384, bias=True)\n",
       "            (act): GELU(approximate='none')\n",
       "            (fc2): Linear(in_features=384, out_features=96, bias=True)\n",
       "            (drop): Dropout(p=0.0, inplace=False)\n",
       "          )\n",
       "        )\n",
       "        (1): SwinTransformerBlock(\n",
       "          (norm1): LayerNorm((96,), eps=1e-05, elementwise_affine=True)\n",
       "          (attn): WindowAttention(\n",
       "            (qkv): Linear(in_features=96, out_features=288, bias=True)\n",
       "            (attn_drop): Dropout(p=0.0, inplace=False)\n",
       "            (proj): Linear(in_features=96, out_features=96, bias=True)\n",
       "            (proj_drop): Dropout(p=0.0, inplace=False)\n",
       "            (softmax): Softmax(dim=-1)\n",
       "          )\n",
       "          (drop_path): DropPath()\n",
       "          (norm2): LayerNorm((96,), eps=1e-05, elementwise_affine=True)\n",
       "          (mlp): Mlp(\n",
       "            (fc1): Linear(in_features=96, out_features=384, bias=True)\n",
       "            (act): GELU(approximate='none')\n",
       "            (fc2): Linear(in_features=384, out_features=96, bias=True)\n",
       "            (drop): Dropout(p=0.0, inplace=False)\n",
       "          )\n",
       "        )\n",
       "      )\n",
       "      (downsample): PatchMerging(\n",
       "        input_resolution=(56, 56), dim=96\n",
       "        (reduction): Linear(in_features=384, out_features=192, bias=False)\n",
       "        (norm): LayerNorm((384,), eps=1e-05, elementwise_affine=True)\n",
       "      )\n",
       "    )\n",
       "    (1): BasicLayer(\n",
       "      dim=192, input_resolution=(28, 28), depth=2\n",
       "      (blocks): ModuleList(\n",
       "        (0-1): 2 x SwinTransformerBlock(\n",
       "          (norm1): LayerNorm((192,), eps=1e-05, elementwise_affine=True)\n",
       "          (attn): WindowAttention(\n",
       "            (qkv): Linear(in_features=192, out_features=576, bias=True)\n",
       "            (attn_drop): Dropout(p=0.0, inplace=False)\n",
       "            (proj): Linear(in_features=192, out_features=192, bias=True)\n",
       "            (proj_drop): Dropout(p=0.0, inplace=False)\n",
       "            (softmax): Softmax(dim=-1)\n",
       "          )\n",
       "          (drop_path): DropPath()\n",
       "          (norm2): LayerNorm((192,), eps=1e-05, elementwise_affine=True)\n",
       "          (mlp): Mlp(\n",
       "            (fc1): Linear(in_features=192, out_features=768, bias=True)\n",
       "            (act): GELU(approximate='none')\n",
       "            (fc2): Linear(in_features=768, out_features=192, bias=True)\n",
       "            (drop): Dropout(p=0.0, inplace=False)\n",
       "          )\n",
       "        )\n",
       "      )\n",
       "      (downsample): PatchMerging(\n",
       "        input_resolution=(28, 28), dim=192\n",
       "        (reduction): Linear(in_features=768, out_features=384, bias=False)\n",
       "        (norm): LayerNorm((768,), eps=1e-05, elementwise_affine=True)\n",
       "      )\n",
       "    )\n",
       "    (2): BasicLayer(\n",
       "      dim=384, input_resolution=(14, 14), depth=6\n",
       "      (blocks): ModuleList(\n",
       "        (0-5): 6 x SwinTransformerBlock(\n",
       "          (norm1): LayerNorm((384,), eps=1e-05, elementwise_affine=True)\n",
       "          (attn): WindowAttention(\n",
       "            (qkv): Linear(in_features=384, out_features=1152, bias=True)\n",
       "            (attn_drop): Dropout(p=0.0, inplace=False)\n",
       "            (proj): Linear(in_features=384, out_features=384, bias=True)\n",
       "            (proj_drop): Dropout(p=0.0, inplace=False)\n",
       "            (softmax): Softmax(dim=-1)\n",
       "          )\n",
       "          (drop_path): DropPath()\n",
       "          (norm2): LayerNorm((384,), eps=1e-05, elementwise_affine=True)\n",
       "          (mlp): Mlp(\n",
       "            (fc1): Linear(in_features=384, out_features=1536, bias=True)\n",
       "            (act): GELU(approximate='none')\n",
       "            (fc2): Linear(in_features=1536, out_features=384, bias=True)\n",
       "            (drop): Dropout(p=0.0, inplace=False)\n",
       "          )\n",
       "        )\n",
       "      )\n",
       "      (downsample): PatchMerging(\n",
       "        input_resolution=(14, 14), dim=384\n",
       "        (reduction): Linear(in_features=1536, out_features=768, bias=False)\n",
       "        (norm): LayerNorm((1536,), eps=1e-05, elementwise_affine=True)\n",
       "      )\n",
       "    )\n",
       "    (3): BasicLayer(\n",
       "      dim=768, input_resolution=(7, 7), depth=2\n",
       "      (blocks): ModuleList(\n",
       "        (0-1): 2 x SwinTransformerBlock(\n",
       "          (norm1): LayerNorm((768,), eps=1e-05, elementwise_affine=True)\n",
       "          (attn): WindowAttention(\n",
       "            (qkv): Linear(in_features=768, out_features=2304, bias=True)\n",
       "            (attn_drop): Dropout(p=0.0, inplace=False)\n",
       "            (proj): Linear(in_features=768, out_features=768, bias=True)\n",
       "            (proj_drop): Dropout(p=0.0, inplace=False)\n",
       "            (softmax): Softmax(dim=-1)\n",
       "          )\n",
       "          (drop_path): DropPath()\n",
       "          (norm2): LayerNorm((768,), eps=1e-05, elementwise_affine=True)\n",
       "          (mlp): Mlp(\n",
       "            (fc1): Linear(in_features=768, out_features=3072, bias=True)\n",
       "            (act): GELU(approximate='none')\n",
       "            (fc2): Linear(in_features=3072, out_features=768, bias=True)\n",
       "            (drop): Dropout(p=0.0, inplace=False)\n",
       "          )\n",
       "        )\n",
       "      )\n",
       "    )\n",
       "  )\n",
       "  (norm): LayerNorm((768,), eps=1e-05, elementwise_affine=True)\n",
       "  (avgpool): AdaptiveAvgPool1d(output_size=1)\n",
       "  (head): Linear(in_features=768, out_features=1000, bias=True)\n",
       ")"
      ]
     },
     "execution_count": 2,
     "metadata": {},
     "output_type": "execute_result"
    }
   ],
   "source": [
    "model = timm.create_model(\"swin_tiny_patch4_window7_224\", pretrained=True)\n",
    "model.eval()"
   ]
  },
  {
   "cell_type": "code",
   "execution_count": 3,
   "metadata": {},
   "outputs": [],
   "source": [
    "def validate_pytorch(model, dataloader, device, subset=False):\n",
    "    model.eval()\n",
    "    top1_correct = 0\n",
    "    top5_correct = 0\n",
    "    total = 0\n",
    "\n",
    "    with torch.no_grad():\n",
    "        for i, (images, labels) in enumerate(tqdm(dataloader, desc=\"Validating PyTorch Model\", leave=False)):\n",
    "            images, labels = images.to(device), labels.to(device)\n",
    "            outputs = model(images)\n",
    "            _, pred_top1 = outputs.topk(1, dim=1)\n",
    "            _, pred_top5 = outputs.topk(5, dim=1)\n",
    "\n",
    "            top1_correct += (pred_top1.squeeze() == labels).sum().item()\n",
    "            top5_correct += sum([labels[i] in pred_top5[i] for i in range(len(labels))])\n",
    "            total += labels.size(0)\n",
    "\n",
    "            if subset and total >= 100:  # Validate only the first 100 samples for subset check\n",
    "                break\n",
    "\n",
    "    top1_acc = 100 * top1_correct / total\n",
    "    top5_acc = 100 * top5_correct / total\n",
    "    return top1_acc, top5_acc"
   ]
  },
  {
   "cell_type": "code",
   "execution_count": 4,
   "metadata": {},
   "outputs": [
    {
     "name": "stdout",
     "output_type": "stream",
     "text": [
      "torch.Size([32, 3, 224, 224]) torch.Size([32])\n"
     ]
    }
   ],
   "source": [
    "transform = transforms.Compose([\n",
    "    transforms.Resize(256),\n",
    "    transforms.CenterCrop(224),\n",
    "    transforms.ToTensor(),\n",
    "    transforms.Normalize(mean=[0.485, 0.456, 0.406], std=[0.229, 0.224, 0.225]),\n",
    "])\n",
    "dataset = datasets.ImageFolder(\"/media/bmw/datasets/imagenet-1k/val\", transform=transform)\n",
    "\n",
    "subset_size = 1000\n",
    "subset_indices = list(range(subset_size))  # Taking first 1000 samples\n",
    "subset_dataset = Subset(dataset, subset_indices)\n",
    "\n",
    "# Create DataLoader for the subset\n",
    "BATCH_SIZE = 32\n",
    "subset_loader = DataLoader(subset_dataset, batch_size=BATCH_SIZE, shuffle=True, num_workers=4)\n",
    "\n",
    "# Verify DataLoader\n",
    "for images, labels in subset_loader:\n",
    "    print(images.shape, labels.shape)  # Example output: torch.Size([32, 3, 224, 224]) torch.Size([32])\n",
    "    break  # Print only the first batch\n",
    "\n",
    "dataloader = DataLoader(dataset, batch_size=64, shuffle=False, num_workers=4, pin_memory=True)\n",
    "\n",
    "device = torch.device(\"cpu\")"
   ]
  },
  {
   "cell_type": "code",
   "execution_count": 5,
   "metadata": {},
   "outputs": [
    {
     "name": "stdout",
     "output_type": "stream",
     "text": [
      "\n",
      "Preparing and validating the model for quantization...\n",
      "2025-03-02 17:18:37,031 - ModelPreparer - INFO - Functional         : Adding new module for node: {layers.0.blocks.0.module_floordiv} \n",
      "2025-03-02 17:18:37,031 - ModelPreparer - INFO - Functional         : Adding new module for node: {layers.0.blocks.0.module_floordiv_1} \n",
      "2025-03-02 17:18:37,032 - ModelPreparer - INFO - Functional         : Adding new module for node: {layers.0.blocks.0.attn.module_floordiv_2} \n",
      "2025-03-02 17:18:37,032 - ModelPreparer - INFO - Functional         : Adding new module for node: {layers.0.blocks.0.attn.module_mul} \n",
      "2025-03-02 17:18:37,032 - ModelPreparer - INFO - Functional         : Adding new module for node: {layers.0.blocks.0.attn.module_matmul} \n",
      "2025-03-02 17:18:37,033 - ModelPreparer - INFO - Functional         : Adding new module for node: {layers.0.blocks.0.attn.module_add} \n",
      "2025-03-02 17:18:37,033 - ModelPreparer - INFO - Functional         : Adding new module for node: {layers.0.blocks.0.attn.module_matmul_1} \n",
      "2025-03-02 17:18:37,033 - ModelPreparer - INFO - Functional         : Adding new module for node: {layers.0.blocks.0.module_floordiv_3} \n",
      "2025-03-02 17:18:37,034 - ModelPreparer - INFO - Functional         : Adding new module for node: {layers.0.blocks.0.module_add_1} \n",
      "2025-03-02 17:18:37,034 - ModelPreparer - INFO - Reused/Duplicate   : Adding new module for node: {layers.0.blocks.0.mlp.module_drop_1} \n",
      "2025-03-02 17:18:37,035 - ModelPreparer - INFO - Reused/Duplicate   : Adding new module for node: {layers.0.blocks.0.module_drop_path_1} \n",
      "2025-03-02 17:18:37,035 - ModelPreparer - INFO - Functional         : Adding new module for node: {layers.0.blocks.0.module_add_2} \n",
      "2025-03-02 17:18:37,035 - ModelPreparer - INFO - Functional         : Adding new module for node: {layers.0.blocks.1.module_floordiv_4} \n",
      "2025-03-02 17:18:37,036 - ModelPreparer - INFO - Functional         : Adding new module for node: {layers.0.blocks.1.module_floordiv_5} \n",
      "2025-03-02 17:18:37,036 - ModelPreparer - INFO - Functional         : Adding new module for node: {layers.0.blocks.1.attn.module_floordiv_6} \n",
      "2025-03-02 17:18:37,036 - ModelPreparer - INFO - Functional         : Adding new module for node: {layers.0.blocks.1.attn.module_mul_1} \n",
      "2025-03-02 17:18:37,037 - ModelPreparer - INFO - Functional         : Adding new module for node: {layers.0.blocks.1.attn.module_matmul_2} \n",
      "2025-03-02 17:18:37,037 - ModelPreparer - INFO - Functional         : Adding new module for node: {layers.0.blocks.1.attn.module_add_3} \n",
      "2025-03-02 17:18:37,038 - ModelPreparer - INFO - Functional         : Adding new module for node: {layers.0.blocks.1.attn.module_floordiv_7} \n",
      "2025-03-02 17:18:37,038 - ModelPreparer - INFO - Functional         : Adding new module for node: {layers.0.blocks.1.attn.module_add_4} \n",
      "2025-03-02 17:18:37,038 - ModelPreparer - INFO - Functional         : Adding new module for node: {layers.0.blocks.1.attn.module_matmul_3} \n",
      "2025-03-02 17:18:37,039 - ModelPreparer - INFO - Functional         : Adding new module for node: {layers.0.blocks.1.module_floordiv_8} \n",
      "2025-03-02 17:18:37,039 - ModelPreparer - INFO - Functional         : Adding new module for node: {layers.0.blocks.1.module_add_5} \n",
      "2025-03-02 17:18:37,040 - ModelPreparer - INFO - Reused/Duplicate   : Adding new module for node: {layers.0.blocks.1.mlp.module_drop_1} \n",
      "2025-03-02 17:18:37,040 - ModelPreparer - INFO - Functional         : Adding new module for node: {layers.0.blocks.1.module_add_6} \n",
      "2025-03-02 17:18:37,041 - ModelPreparer - INFO - Functional         : Adding new module for node: {layers.0.downsample.module_cat} \n",
      "2025-03-02 17:18:37,041 - ModelPreparer - INFO - Functional         : Adding new module for node: {layers.0.downsample.module_mul_2} \n",
      "2025-03-02 17:18:37,041 - ModelPreparer - INFO - Functional         : Adding new module for node: {layers.1.blocks.0.module_floordiv_9} \n",
      "2025-03-02 17:18:37,042 - ModelPreparer - INFO - Functional         : Adding new module for node: {layers.1.blocks.0.module_floordiv_10} \n",
      "2025-03-02 17:18:37,042 - ModelPreparer - INFO - Functional         : Adding new module for node: {layers.1.blocks.0.attn.module_floordiv_11} \n",
      "2025-03-02 17:18:37,042 - ModelPreparer - INFO - Functional         : Adding new module for node: {layers.1.blocks.0.attn.module_mul_3} \n",
      "2025-03-02 17:18:37,043 - ModelPreparer - INFO - Functional         : Adding new module for node: {layers.1.blocks.0.attn.module_matmul_4} \n",
      "2025-03-02 17:18:37,043 - ModelPreparer - INFO - Functional         : Adding new module for node: {layers.1.blocks.0.attn.module_add_7} \n",
      "2025-03-02 17:18:37,043 - ModelPreparer - INFO - Functional         : Adding new module for node: {layers.1.blocks.0.attn.module_matmul_5} \n",
      "2025-03-02 17:18:37,044 - ModelPreparer - INFO - Functional         : Adding new module for node: {layers.1.blocks.0.module_floordiv_12} \n",
      "2025-03-02 17:18:37,044 - ModelPreparer - INFO - Functional         : Adding new module for node: {layers.1.blocks.0.module_add_8} \n",
      "2025-03-02 17:18:37,045 - ModelPreparer - INFO - Reused/Duplicate   : Adding new module for node: {layers.1.blocks.0.mlp.module_drop_1} \n",
      "2025-03-02 17:18:37,045 - ModelPreparer - INFO - Functional         : Adding new module for node: {layers.1.blocks.0.module_add_9} \n",
      "2025-03-02 17:18:37,045 - ModelPreparer - INFO - Functional         : Adding new module for node: {layers.1.blocks.1.module_floordiv_13} \n",
      "2025-03-02 17:18:37,046 - ModelPreparer - INFO - Functional         : Adding new module for node: {layers.1.blocks.1.module_floordiv_14} \n",
      "2025-03-02 17:18:37,046 - ModelPreparer - INFO - Functional         : Adding new module for node: {layers.1.blocks.1.attn.module_floordiv_15} \n",
      "2025-03-02 17:18:37,046 - ModelPreparer - INFO - Functional         : Adding new module for node: {layers.1.blocks.1.attn.module_mul_4} \n",
      "2025-03-02 17:18:37,047 - ModelPreparer - INFO - Functional         : Adding new module for node: {layers.1.blocks.1.attn.module_matmul_6} \n",
      "2025-03-02 17:18:37,047 - ModelPreparer - INFO - Functional         : Adding new module for node: {layers.1.blocks.1.attn.module_add_10} \n",
      "2025-03-02 17:18:37,047 - ModelPreparer - INFO - Functional         : Adding new module for node: {layers.1.blocks.1.attn.module_floordiv_16} \n",
      "2025-03-02 17:18:37,048 - ModelPreparer - INFO - Functional         : Adding new module for node: {layers.1.blocks.1.attn.module_add_11} \n",
      "2025-03-02 17:18:37,048 - ModelPreparer - INFO - Functional         : Adding new module for node: {layers.1.blocks.1.attn.module_matmul_7} \n",
      "2025-03-02 17:18:37,048 - ModelPreparer - INFO - Functional         : Adding new module for node: {layers.1.blocks.1.module_floordiv_17} \n",
      "2025-03-02 17:18:37,049 - ModelPreparer - INFO - Functional         : Adding new module for node: {layers.1.blocks.1.module_add_12} \n",
      "2025-03-02 17:18:37,049 - ModelPreparer - INFO - Reused/Duplicate   : Adding new module for node: {layers.1.blocks.1.mlp.module_drop_1} \n",
      "2025-03-02 17:18:37,050 - ModelPreparer - INFO - Functional         : Adding new module for node: {layers.1.blocks.1.module_add_13} \n",
      "2025-03-02 17:18:37,050 - ModelPreparer - INFO - Functional         : Adding new module for node: {layers.1.downsample.module_cat_1} \n",
      "2025-03-02 17:18:37,050 - ModelPreparer - INFO - Functional         : Adding new module for node: {layers.1.downsample.module_mul_5} \n",
      "2025-03-02 17:18:37,051 - ModelPreparer - INFO - Functional         : Adding new module for node: {layers.2.blocks.0.module_floordiv_18} \n",
      "2025-03-02 17:18:37,051 - ModelPreparer - INFO - Functional         : Adding new module for node: {layers.2.blocks.0.module_floordiv_19} \n",
      "2025-03-02 17:18:37,051 - ModelPreparer - INFO - Functional         : Adding new module for node: {layers.2.blocks.0.attn.module_floordiv_20} \n",
      "2025-03-02 17:18:37,052 - ModelPreparer - INFO - Functional         : Adding new module for node: {layers.2.blocks.0.attn.module_mul_6} \n",
      "2025-03-02 17:18:37,052 - ModelPreparer - INFO - Functional         : Adding new module for node: {layers.2.blocks.0.attn.module_matmul_8} \n",
      "2025-03-02 17:18:37,052 - ModelPreparer - INFO - Functional         : Adding new module for node: {layers.2.blocks.0.attn.module_add_14} \n",
      "2025-03-02 17:18:37,053 - ModelPreparer - INFO - Functional         : Adding new module for node: {layers.2.blocks.0.attn.module_matmul_9} \n",
      "2025-03-02 17:18:37,053 - ModelPreparer - INFO - Functional         : Adding new module for node: {layers.2.blocks.0.module_floordiv_21} \n",
      "2025-03-02 17:18:37,053 - ModelPreparer - INFO - Functional         : Adding new module for node: {layers.2.blocks.0.module_add_15} \n",
      "2025-03-02 17:18:37,054 - ModelPreparer - INFO - Reused/Duplicate   : Adding new module for node: {layers.2.blocks.0.mlp.module_drop_1} \n",
      "2025-03-02 17:18:37,054 - ModelPreparer - INFO - Functional         : Adding new module for node: {layers.2.blocks.0.module_add_16} \n",
      "2025-03-02 17:18:37,055 - ModelPreparer - INFO - Functional         : Adding new module for node: {layers.2.blocks.1.module_floordiv_22} \n",
      "2025-03-02 17:18:37,055 - ModelPreparer - INFO - Functional         : Adding new module for node: {layers.2.blocks.1.module_floordiv_23} \n",
      "2025-03-02 17:18:37,055 - ModelPreparer - INFO - Functional         : Adding new module for node: {layers.2.blocks.1.attn.module_floordiv_24} \n",
      "2025-03-02 17:18:37,056 - ModelPreparer - INFO - Functional         : Adding new module for node: {layers.2.blocks.1.attn.module_mul_7} \n",
      "2025-03-02 17:18:37,056 - ModelPreparer - INFO - Functional         : Adding new module for node: {layers.2.blocks.1.attn.module_matmul_10} \n",
      "2025-03-02 17:18:37,056 - ModelPreparer - INFO - Functional         : Adding new module for node: {layers.2.blocks.1.attn.module_add_17} \n",
      "2025-03-02 17:18:37,057 - ModelPreparer - INFO - Functional         : Adding new module for node: {layers.2.blocks.1.attn.module_floordiv_25} \n",
      "2025-03-02 17:18:37,057 - ModelPreparer - INFO - Functional         : Adding new module for node: {layers.2.blocks.1.attn.module_add_18} \n",
      "2025-03-02 17:18:37,057 - ModelPreparer - INFO - Functional         : Adding new module for node: {layers.2.blocks.1.attn.module_matmul_11} \n",
      "2025-03-02 17:18:37,058 - ModelPreparer - INFO - Functional         : Adding new module for node: {layers.2.blocks.1.module_floordiv_26} \n",
      "2025-03-02 17:18:37,058 - ModelPreparer - INFO - Functional         : Adding new module for node: {layers.2.blocks.1.module_add_19} \n",
      "2025-03-02 17:18:37,058 - ModelPreparer - INFO - Reused/Duplicate   : Adding new module for node: {layers.2.blocks.1.mlp.module_drop_1} \n",
      "2025-03-02 17:18:37,059 - ModelPreparer - INFO - Functional         : Adding new module for node: {layers.2.blocks.1.module_add_20} \n",
      "2025-03-02 17:18:37,059 - ModelPreparer - INFO - Functional         : Adding new module for node: {layers.2.blocks.2.module_floordiv_27} \n",
      "2025-03-02 17:18:37,059 - ModelPreparer - INFO - Functional         : Adding new module for node: {layers.2.blocks.2.module_floordiv_28} \n",
      "2025-03-02 17:18:37,060 - ModelPreparer - INFO - Functional         : Adding new module for node: {layers.2.blocks.2.attn.module_floordiv_29} \n",
      "2025-03-02 17:18:37,060 - ModelPreparer - INFO - Functional         : Adding new module for node: {layers.2.blocks.2.attn.module_mul_8} \n",
      "2025-03-02 17:18:37,061 - ModelPreparer - INFO - Functional         : Adding new module for node: {layers.2.blocks.2.attn.module_matmul_12} \n",
      "2025-03-02 17:18:37,061 - ModelPreparer - INFO - Functional         : Adding new module for node: {layers.2.blocks.2.attn.module_add_21} \n",
      "2025-03-02 17:18:37,061 - ModelPreparer - INFO - Functional         : Adding new module for node: {layers.2.blocks.2.attn.module_matmul_13} \n",
      "2025-03-02 17:18:37,062 - ModelPreparer - INFO - Functional         : Adding new module for node: {layers.2.blocks.2.module_floordiv_30} \n",
      "2025-03-02 17:18:37,062 - ModelPreparer - INFO - Functional         : Adding new module for node: {layers.2.blocks.2.module_add_22} \n",
      "2025-03-02 17:18:37,062 - ModelPreparer - INFO - Reused/Duplicate   : Adding new module for node: {layers.2.blocks.2.mlp.module_drop_1} \n",
      "2025-03-02 17:18:37,063 - ModelPreparer - INFO - Functional         : Adding new module for node: {layers.2.blocks.2.module_add_23} \n",
      "2025-03-02 17:18:37,063 - ModelPreparer - INFO - Functional         : Adding new module for node: {layers.2.blocks.3.module_floordiv_31} \n",
      "2025-03-02 17:18:37,063 - ModelPreparer - INFO - Functional         : Adding new module for node: {layers.2.blocks.3.module_floordiv_32} \n",
      "2025-03-02 17:18:37,064 - ModelPreparer - INFO - Functional         : Adding new module for node: {layers.2.blocks.3.attn.module_floordiv_33} \n",
      "2025-03-02 17:18:37,064 - ModelPreparer - INFO - Functional         : Adding new module for node: {layers.2.blocks.3.attn.module_mul_9} \n",
      "2025-03-02 17:18:37,064 - ModelPreparer - INFO - Functional         : Adding new module for node: {layers.2.blocks.3.attn.module_matmul_14} \n",
      "2025-03-02 17:18:37,065 - ModelPreparer - INFO - Functional         : Adding new module for node: {layers.2.blocks.3.attn.module_add_24} \n",
      "2025-03-02 17:18:37,065 - ModelPreparer - INFO - Functional         : Adding new module for node: {layers.2.blocks.3.attn.module_floordiv_34} \n",
      "2025-03-02 17:18:37,065 - ModelPreparer - INFO - Functional         : Adding new module for node: {layers.2.blocks.3.attn.module_add_25} \n",
      "2025-03-02 17:18:37,066 - ModelPreparer - INFO - Functional         : Adding new module for node: {layers.2.blocks.3.attn.module_matmul_15} \n",
      "2025-03-02 17:18:37,066 - ModelPreparer - INFO - Functional         : Adding new module for node: {layers.2.blocks.3.module_floordiv_35} \n",
      "2025-03-02 17:18:37,067 - ModelPreparer - INFO - Functional         : Adding new module for node: {layers.2.blocks.3.module_add_26} \n",
      "2025-03-02 17:18:37,067 - ModelPreparer - INFO - Reused/Duplicate   : Adding new module for node: {layers.2.blocks.3.mlp.module_drop_1} \n",
      "2025-03-02 17:18:37,067 - ModelPreparer - INFO - Functional         : Adding new module for node: {layers.2.blocks.3.module_add_27} \n",
      "2025-03-02 17:18:37,068 - ModelPreparer - INFO - Functional         : Adding new module for node: {layers.2.blocks.4.module_floordiv_36} \n",
      "2025-03-02 17:18:37,068 - ModelPreparer - INFO - Functional         : Adding new module for node: {layers.2.blocks.4.module_floordiv_37} \n",
      "2025-03-02 17:18:37,068 - ModelPreparer - INFO - Functional         : Adding new module for node: {layers.2.blocks.4.attn.module_floordiv_38} \n",
      "2025-03-02 17:18:37,069 - ModelPreparer - INFO - Functional         : Adding new module for node: {layers.2.blocks.4.attn.module_mul_10} \n",
      "2025-03-02 17:18:37,069 - ModelPreparer - INFO - Functional         : Adding new module for node: {layers.2.blocks.4.attn.module_matmul_16} \n",
      "2025-03-02 17:18:37,069 - ModelPreparer - INFO - Functional         : Adding new module for node: {layers.2.blocks.4.attn.module_add_28} \n",
      "2025-03-02 17:18:37,070 - ModelPreparer - INFO - Functional         : Adding new module for node: {layers.2.blocks.4.attn.module_matmul_17} \n",
      "2025-03-02 17:18:37,070 - ModelPreparer - INFO - Functional         : Adding new module for node: {layers.2.blocks.4.module_floordiv_39} \n",
      "2025-03-02 17:18:37,071 - ModelPreparer - INFO - Functional         : Adding new module for node: {layers.2.blocks.4.module_add_29} \n",
      "2025-03-02 17:18:37,076 - ModelPreparer - INFO - Reused/Duplicate   : Adding new module for node: {layers.2.blocks.4.mlp.module_drop_1} \n",
      "2025-03-02 17:18:37,077 - ModelPreparer - INFO - Functional         : Adding new module for node: {layers.2.blocks.4.module_add_30} \n",
      "2025-03-02 17:18:37,077 - ModelPreparer - INFO - Functional         : Adding new module for node: {layers.2.blocks.5.module_floordiv_40} \n",
      "2025-03-02 17:18:37,077 - ModelPreparer - INFO - Functional         : Adding new module for node: {layers.2.blocks.5.module_floordiv_41} \n",
      "2025-03-02 17:18:37,078 - ModelPreparer - INFO - Functional         : Adding new module for node: {layers.2.blocks.5.attn.module_floordiv_42} \n",
      "2025-03-02 17:18:37,078 - ModelPreparer - INFO - Functional         : Adding new module for node: {layers.2.blocks.5.attn.module_mul_11} \n",
      "2025-03-02 17:18:37,079 - ModelPreparer - INFO - Functional         : Adding new module for node: {layers.2.blocks.5.attn.module_matmul_18} \n",
      "2025-03-02 17:18:37,079 - ModelPreparer - INFO - Functional         : Adding new module for node: {layers.2.blocks.5.attn.module_add_31} \n",
      "2025-03-02 17:18:37,079 - ModelPreparer - INFO - Functional         : Adding new module for node: {layers.2.blocks.5.attn.module_floordiv_43} \n",
      "2025-03-02 17:18:37,080 - ModelPreparer - INFO - Functional         : Adding new module for node: {layers.2.blocks.5.attn.module_add_32} \n",
      "2025-03-02 17:18:37,080 - ModelPreparer - INFO - Functional         : Adding new module for node: {layers.2.blocks.5.attn.module_matmul_19} \n",
      "2025-03-02 17:18:37,080 - ModelPreparer - INFO - Functional         : Adding new module for node: {layers.2.blocks.5.module_floordiv_44} \n",
      "2025-03-02 17:18:37,081 - ModelPreparer - INFO - Functional         : Adding new module for node: {layers.2.blocks.5.module_add_33} \n",
      "2025-03-02 17:18:37,081 - ModelPreparer - INFO - Reused/Duplicate   : Adding new module for node: {layers.2.blocks.5.mlp.module_drop_1} \n",
      "2025-03-02 17:18:37,082 - ModelPreparer - INFO - Functional         : Adding new module for node: {layers.2.blocks.5.module_add_34} \n",
      "2025-03-02 17:18:37,082 - ModelPreparer - INFO - Functional         : Adding new module for node: {layers.2.downsample.module_cat_2} \n",
      "2025-03-02 17:18:37,082 - ModelPreparer - INFO - Functional         : Adding new module for node: {layers.2.downsample.module_mul_12} \n",
      "2025-03-02 17:18:37,083 - ModelPreparer - INFO - Functional         : Adding new module for node: {layers.3.blocks.0.module_floordiv_45} \n",
      "2025-03-02 17:18:37,083 - ModelPreparer - INFO - Functional         : Adding new module for node: {layers.3.blocks.0.module_floordiv_46} \n",
      "2025-03-02 17:18:37,083 - ModelPreparer - INFO - Functional         : Adding new module for node: {layers.3.blocks.0.attn.module_floordiv_47} \n",
      "2025-03-02 17:18:37,084 - ModelPreparer - INFO - Functional         : Adding new module for node: {layers.3.blocks.0.attn.module_mul_13} \n",
      "2025-03-02 17:18:37,084 - ModelPreparer - INFO - Functional         : Adding new module for node: {layers.3.blocks.0.attn.module_matmul_20} \n",
      "2025-03-02 17:18:37,084 - ModelPreparer - INFO - Functional         : Adding new module for node: {layers.3.blocks.0.attn.module_add_35} \n",
      "2025-03-02 17:18:37,085 - ModelPreparer - INFO - Functional         : Adding new module for node: {layers.3.blocks.0.attn.module_matmul_21} \n",
      "2025-03-02 17:18:37,085 - ModelPreparer - INFO - Functional         : Adding new module for node: {layers.3.blocks.0.module_floordiv_48} \n",
      "2025-03-02 17:18:37,085 - ModelPreparer - INFO - Functional         : Adding new module for node: {layers.3.blocks.0.module_add_36} \n",
      "2025-03-02 17:18:37,086 - ModelPreparer - INFO - Reused/Duplicate   : Adding new module for node: {layers.3.blocks.0.mlp.module_drop_1} \n",
      "2025-03-02 17:18:37,086 - ModelPreparer - INFO - Functional         : Adding new module for node: {layers.3.blocks.0.module_add_37} \n",
      "2025-03-02 17:18:37,087 - ModelPreparer - INFO - Functional         : Adding new module for node: {layers.3.blocks.1.module_floordiv_49} \n",
      "2025-03-02 17:18:37,087 - ModelPreparer - INFO - Functional         : Adding new module for node: {layers.3.blocks.1.module_floordiv_50} \n",
      "2025-03-02 17:18:37,087 - ModelPreparer - INFO - Functional         : Adding new module for node: {layers.3.blocks.1.attn.module_floordiv_51} \n",
      "2025-03-02 17:18:37,088 - ModelPreparer - INFO - Functional         : Adding new module for node: {layers.3.blocks.1.attn.module_mul_14} \n",
      "2025-03-02 17:18:37,088 - ModelPreparer - INFO - Functional         : Adding new module for node: {layers.3.blocks.1.attn.module_matmul_22} \n",
      "2025-03-02 17:18:37,088 - ModelPreparer - INFO - Functional         : Adding new module for node: {layers.3.blocks.1.attn.module_add_38} \n",
      "2025-03-02 17:18:37,089 - ModelPreparer - INFO - Functional         : Adding new module for node: {layers.3.blocks.1.attn.module_matmul_23} \n",
      "2025-03-02 17:18:37,089 - ModelPreparer - INFO - Functional         : Adding new module for node: {layers.3.blocks.1.module_floordiv_52} \n",
      "2025-03-02 17:18:37,089 - ModelPreparer - INFO - Functional         : Adding new module for node: {layers.3.blocks.1.module_add_39} \n",
      "2025-03-02 17:18:37,090 - ModelPreparer - INFO - Reused/Duplicate   : Adding new module for node: {layers.3.blocks.1.mlp.module_drop_1} \n",
      "2025-03-02 17:18:37,090 - ModelPreparer - INFO - Functional         : Adding new module for node: {layers.3.blocks.1.module_add_40} \n"
     ]
    }
   ],
   "source": [
    "print(\"\\nPreparing and validating the model for quantization...\")\n",
    "prepared_model = prepare_model(model).to(device)"
   ]
  },
  {
   "cell_type": "code",
   "execution_count": 6,
   "metadata": {},
   "outputs": [
    {
     "name": "stdout",
     "output_type": "stream",
     "text": [
      "2025-03-02 17:18:39,088 - Utils - INFO - Running validator check <function validate_for_reused_modules at 0x7f1b19f9f2e0>\n",
      "2025-03-02 17:18:39,147 - Utils - INFO - Running validator check <function validate_for_missing_modules at 0x7f1b19f9f5b0>\n",
      "2025-03-02 17:18:48,986 - ConnectedGraph - WARNING - Unable to isolate model outputs.\n",
      "2025-03-02 17:18:49,011 - Utils - ERROR - Functional ops that are not marked as math invariant were found in the model. AIMET features will not work properly for such ops.\n",
      "Consider the following choices: \n",
      "1. Redefine as a torch.nn.Module in the class definition.\n",
      "2. The op can remain as a functional op due to being math invariant, but the op type has not been added to ConnectedGraph.math_invariant_types set. \n",
      "Add an entry to ignore the op by importing the set and adding the op type:\n",
      "\n",
      "\tfrom aimet_torch.meta.connectedgraph import ConnectedGraph\n",
      "\tConnectedGraph.math_invariant_types.add(...)\n",
      "\n",
      "The following functional ops were found. The parent module is named for ease of locating the ops within the model definition.\n",
      "\troll_235; op_type: roll           parent module: GraphModule\n",
      "\troll_399; op_type: roll           parent module: GraphModule\n",
      "\troll_712; op_type: roll           parent module: GraphModule\n",
      "\troll_876; op_type: roll           parent module: GraphModule\n",
      "\troll_1189; op_type: roll          parent module: GraphModule\n",
      "\troll_1353; op_type: roll          parent module: GraphModule\n",
      "\troll_1562; op_type: roll          parent module: GraphModule\n",
      "\troll_1726; op_type: roll          parent module: GraphModule\n",
      "\troll_1935; op_type: roll          parent module: GraphModule\n",
      "\troll_2099; op_type: roll          parent module: GraphModule\n",
      "\n",
      "2025-03-02 17:18:49,011 - Utils - INFO - The following validator checks failed:\n",
      "2025-03-02 17:18:49,012 - Utils - INFO - \t<function validate_for_missing_modules at 0x7f1b19f9f5b0>\n"
     ]
    }
   ],
   "source": [
    "validation_result = ModelValidator.validate_model(prepared_model, model_input=torch.rand(1, 3, 224, 224).to(device))"
   ]
  },
  {
   "cell_type": "code",
   "execution_count": 7,
   "metadata": {},
   "outputs": [],
   "source": [
    "from aimet_torch.meta.connectedgraph import ConnectedGraph\n",
    "\n",
    "ConnectedGraph.math_invariant_types.add(\"unbind\")\n",
    "ConnectedGraph.math_invariant_types.add(\"roll\")\n",
    "ConnectedGraph.math_invariant_types.add(\"remainder\")\n",
    "ConnectedGraph.math_invariant_types.add(\"floor-divide\")"
   ]
  },
  {
   "cell_type": "code",
   "execution_count": 8,
   "metadata": {},
   "outputs": [
    {
     "name": "stdout",
     "output_type": "stream",
     "text": [
      "2025-03-02 17:18:54,266 - Utils - INFO - Running validator check <function validate_for_reused_modules at 0x7f1b19f9f2e0>\n",
      "2025-03-02 17:18:54,317 - Utils - INFO - Running validator check <function validate_for_missing_modules at 0x7f1b19f9f5b0>\n",
      "2025-03-02 17:19:03,859 - ConnectedGraph - WARNING - Unable to isolate model outputs.\n",
      "2025-03-02 17:19:03,885 - Utils - INFO - All validation checks passed.\n"
     ]
    }
   ],
   "source": [
    "validation_result = ModelValidator.validate_model(prepared_model, model_input=torch.rand(1, 3, 224, 224).to(device))"
   ]
  },
  {
   "cell_type": "code",
   "execution_count": 9,
   "metadata": {},
   "outputs": [],
   "source": [
    "def apply_aimet_quantization(model, device, dataloader):\n",
    "    dummy_input = torch.rand(1, 3, 224, 224).to(device)\n",
    "\n",
    "    # Fold batch normalization layers\n",
    "    fold_all_batch_norms(model, input_shapes=(1, 3, 224, 224), dummy_input=dummy_input)\n",
    "\n",
    "    quant_sim = qsim.QuantizationSimModel(\n",
    "        model,\n",
    "        dummy_input=dummy_input,\n",
    "        quant_scheme='tf_enhanced',\n",
    "        default_param_bw=8,\n",
    "        default_output_bw=8\n",
    "    )\n",
    "\n",
    "    # Calibration using a small dataset\n",
    "    def forward_pass(model, dataloader):\n",
    "        model.eval()\n",
    "        with torch.no_grad():\n",
    "            for i, (images, _) in enumerate(dataloader):\n",
    "                if i >= 10:  # Use only first 10 batches for calibration\n",
    "                    break\n",
    "                model(images.to(device))\n",
    "\n",
    "    quant_sim.compute_encodings(forward_pass, dataloader)\n",
    "    quant_sim.export(path=\"/media/bmw/Akshaya/AIMET/swin/artifacts\",filename_prefix=\"swin_quantized\",dummy_input=dummy_input)\n",
    "    \n",
    "    return quant_sim.model"
   ]
  },
  {
   "cell_type": "code",
   "execution_count": 10,
   "metadata": {},
   "outputs": [
    {
     "name": "stdout",
     "output_type": "stream",
     "text": [
      "2025-03-02 17:19:19,721 - ConnectedGraph - WARNING - Unable to isolate model outputs.\n",
      "2025-03-02 17:19:30,978 - ConnectedGraph - WARNING - Unable to isolate model outputs.\n",
      "2025-03-02 17:19:31,149 - Quant - INFO - No config file provided, defaulting to config file at /home/bmw/anaconda3/envs/swin_bhanu/lib/python3.10/site-packages/aimet_common/quantsim_config/default_config.json\n",
      "2025-03-02 17:19:31,172 - Quant - INFO - Unsupported op type Squeeze\n",
      "2025-03-02 17:19:31,172 - Quant - INFO - Unsupported op type Mean\n",
      "2025-03-02 17:19:31,195 - Quant - INFO - Selecting DefaultOpInstanceConfigGenerator to compute the specialized config. hw_version:default\n",
      "2025-03-02 17:19:31,199 - Quant - WARNING - Multiple input ops exist, traversal to find closest producer is performed based on the first input\n",
      "2025-03-02 17:19:31,199 - Quant - WARNING - Multiple input ops exist, traversal to find closest producer is performed based on the first input\n",
      "2025-03-02 17:19:31,200 - Quant - WARNING - Multiple input ops exist, traversal to find closest producer is performed based on the first input\n",
      "2025-03-02 17:19:31,200 - Quant - WARNING - Multiple input ops exist, traversal to find closest producer is performed based on the first input\n",
      "2025-03-02 17:19:31,201 - Quant - WARNING - Multiple input ops exist, traversal to find closest producer is performed based on the first input\n",
      "2025-03-02 17:19:31,201 - Quant - WARNING - Multiple input ops exist, traversal to find closest producer is performed based on the first input\n",
      "2025-03-02 17:19:31,201 - Quant - WARNING - Multiple input ops exist, traversal to find closest producer is performed based on the first input\n",
      "2025-03-02 17:19:31,202 - Quant - WARNING - Multiple input ops exist, traversal to find closest producer is performed based on the first input\n",
      "2025-03-02 17:19:31,202 - Quant - WARNING - Multiple input ops exist, traversal to find closest producer is performed based on the first input\n",
      "2025-03-02 17:19:31,202 - Quant - WARNING - Multiple input ops exist, traversal to find closest producer is performed based on the first input\n",
      "2025-03-02 17:19:31,203 - Quant - WARNING - Multiple input ops exist, traversal to find closest producer is performed based on the first input\n",
      "2025-03-02 17:19:31,204 - Quant - WARNING - Multiple input ops exist, traversal to find closest producer is performed based on the first input\n",
      "2025-03-02 17:19:31,204 - Quant - WARNING - Multiple input ops exist, traversal to find closest producer is performed based on the first input\n",
      "2025-03-02 17:19:31,205 - Quant - WARNING - Multiple input ops exist, traversal to find closest producer is performed based on the first input\n",
      "2025-03-02 17:19:31,205 - Quant - WARNING - Multiple input ops exist, traversal to find closest producer is performed based on the first input\n",
      "2025-03-02 17:19:31,206 - Quant - WARNING - Multiple input ops exist, traversal to find closest producer is performed based on the first input\n",
      "2025-03-02 17:19:31,206 - Quant - WARNING - Multiple input ops exist, traversal to find closest producer is performed based on the first input\n",
      "2025-03-02 17:19:31,206 - Quant - WARNING - Multiple input ops exist, traversal to find closest producer is performed based on the first input\n",
      "2025-03-02 17:19:31,207 - Quant - WARNING - Multiple input ops exist, traversal to find closest producer is performed based on the first input\n",
      "2025-03-02 17:19:31,207 - Quant - WARNING - Multiple input ops exist, traversal to find closest producer is performed based on the first input\n",
      "2025-03-02 17:19:31,208 - Quant - WARNING - Multiple input ops exist, traversal to find closest producer is performed based on the first input\n",
      "2025-03-02 17:19:31,208 - Quant - WARNING - Multiple input ops exist, traversal to find closest producer is performed based on the first input\n",
      "2025-03-02 17:19:31,208 - Quant - WARNING - Multiple input ops exist, traversal to find closest producer is performed based on the first input\n",
      "2025-03-02 17:19:31,209 - Quant - WARNING - Multiple input ops exist, traversal to find closest producer is performed based on the first input\n",
      "2025-03-02 17:26:25,276 - Utils - INFO - successfully created onnx model with 445/2102 node names updated\n",
      "2025-03-02 17:26:27,186 - Quant - INFO - Layers excluded from quantization: []\n",
      "2025-03-02 17:26:27,190 - Quant - WARNING - \u001b[31;21mQuantsim export will stop exporting encodings for saving and loading in a future AIMET release.\n",
      "To export encodings for saving and loading, use QuantizationSimModel's save_encodings_to_json() utility instead.\u001b[0m\n",
      "\n",
      "Validating quantized model...\n"
     ]
    },
    {
     "name": "stderr",
     "output_type": "stream",
     "text": [
      "                                                                             "
     ]
    },
    {
     "name": "stdout",
     "output_type": "stream",
     "text": [
      "Quantized Model - Top-1 Accuracy: 78.17%, Top-5 Accuracy: 94.12%\n"
     ]
    },
    {
     "name": "stderr",
     "output_type": "stream",
     "text": [
      "\r"
     ]
    }
   ],
   "source": [
    "quantized_model = apply_aimet_quantization(prepared_model, device, dataloader)\n",
    "print(\"\\nValidating quantized model...\")\n",
    "top1_acc, top5_acc = validate_pytorch(quantized_model, dataloader, device)\n",
    "print(f\"Quantized Model - Top-1 Accuracy: {top1_acc:.2f}%, Top-5 Accuracy: {top5_acc:.2f}%\")"
   ]
  },
  {
   "cell_type": "markdown",
   "metadata": {},
   "source": [
    "AUTOQUANT"
   ]
  },
  {
   "cell_type": "code",
   "execution_count": null,
   "metadata": {},
   "outputs": [],
   "source": [
    "import torch\n",
    "import numpy as np\n",
    "\n",
    "from torchvision import transforms, datasets\n",
    "from torch.utils.data import DataLoader, Subset\n",
    "\n",
    "# Set device\n",
    "device = torch.device(\"cpu\")"
   ]
  },
  {
   "cell_type": "code",
   "execution_count": null,
   "metadata": {},
   "outputs": [],
   "source": [
    "\n",
    "# Define batch size\n",
    "BATCH_SIZE = 64\n",
    "SUBSET_SIZE = 1000  # Define how many samples to take\n",
    "\n",
    "# Define transformation function\n",
    "preprocess = transforms.Compose([\n",
    "    transforms.Resize(256),\n",
    "    transforms.CenterCrop(224),\n",
    "    transforms.ToTensor(),\n",
    "    transforms.Normalize(mean=[0.485, 0.456, 0.406], std=[0.229, 0.224, 0.225]),\n",
    "])\n",
    "\n",
    "# Set dataset paths\n",
    "train_data_path = \"/media/bmw/datasets/imagenet-1k/train/\"\n",
    "val_data_path = \"/media/bmw/datasets/imagenet-1k/val/\"\n",
    "\n",
    "# Load dataset using ImageFolder\n",
    "train_dataset = datasets.ImageFolder(root=train_data_path, transform=preprocess)\n",
    "val_dataset = datasets.ImageFolder(root=val_data_path, transform=preprocess)\n",
    "\n",
    "# Take a subset of the validation dataset\n",
    "subset_indices = list(range(SUBSET_SIZE))  # First `SUBSET_SIZE` samples\n",
    "val_subset = Subset(val_dataset, subset_indices)\n",
    "\n",
    "# Create DataLoaders\n",
    "train_loader = DataLoader(train_dataset, batch_size=BATCH_SIZE, shuffle=True, num_workers=4)\n",
    "val_loader = DataLoader(val_subset, batch_size=BATCH_SIZE, shuffle=False, num_workers=4)\n",
    "\n",
    "from typing import Optional\n",
    "# Define evaluation function\n",
    "def eval_callback(model: torch.nn.Module,num_samples: Optional[int] = None) -> float:\n",
    "    acc_top1 = 0\n",
    "    total_samples = 0\n",
    "    \n",
    "    dataloader = DataLoader(val_subset, batch_size=BATCH_SIZE, shuffle=False, num_workers=4)\n",
    "\n",
    "    model.to(device)\n",
    "    model.eval()\n",
    "\n",
    "    with torch.no_grad():\n",
    "        for images, labels in dataloader:\n",
    "            images, labels = images.to(device), labels.to(device)\n",
    "\n",
    "            pred_probs = model(images)\n",
    "            pred_labels = pred_probs.argmax(dim=1)\n",
    "\n",
    "            acc_top1 += (pred_labels == labels).sum().item()\n",
    "            total_samples += labels.size(0)\n",
    "\n",
    "    return acc_top1 / total_samples"
   ]
  },
  {
   "cell_type": "code",
   "execution_count": null,
   "metadata": {},
   "outputs": [
    {
     "name": "stdout",
     "output_type": "stream",
     "text": [
      "Validation Accuracy on Subset: 0.9310\n"
     ]
    }
   ],
   "source": [
    "accuracy = eval_callback(model)\n",
    "print(f\"Validation Accuracy on Subset: {accuracy:.4f}\")"
   ]
  },
  {
   "cell_type": "code",
   "execution_count": null,
   "metadata": {},
   "outputs": [
    {
     "name": "stdout",
     "output_type": "stream",
     "text": [
      "2025-03-01 17:21:34,408 - Utils - INFO - Running validator check <function validate_for_reused_modules at 0x7fee366972e0>\n",
      "2025-03-01 17:21:34,461 - Utils - INFO - Running validator check <function validate_for_missing_modules at 0x7fee366975b0>\n",
      "2025-03-01 17:21:44,257 - ConnectedGraph - WARNING - Unable to isolate model outputs.\n",
      "2025-03-01 17:21:44,282 - Utils - INFO - All validation checks passed.\n"
     ]
    },
    {
     "data": {
      "text/plain": [
       "True"
      ]
     },
     "execution_count": 12,
     "metadata": {},
     "output_type": "execute_result"
    }
   ],
   "source": [
    "from aimet_torch.model_validator.model_validator import ModelValidator\n",
    "\n",
    "ModelValidator.validate_model(prepared_model,torch.randn(1,3,224,224))"
   ]
  },
  {
   "cell_type": "code",
   "execution_count": 36,
   "metadata": {},
   "outputs": [],
   "source": [
    "from torchvision.datasets import ImageFolder\n",
    "\n",
    "def load_unlabelled_data(dataset, batch_size) -> DataLoader :\n",
    "    class UnlabelledDataset(ImageFolder):\n",
    "        def __init__(self, dataset):\n",
    "            self._dataset = dataset\n",
    "\n",
    "        def __len__(self):\n",
    "            return len(self._dataset)\n",
    "\n",
    "        def __getitem__(self, index):\n",
    "            images, _ = self._dataset[index]\n",
    "            return images\n",
    "        \n",
    "    unlabelled_dataset=UnlabelledDataset(dataset)\n",
    "    \n",
    "    unlabelled_dataloader= DataLoader (\n",
    "    unlabelled_dataset,\n",
    "    batch_size=batch_size,\n",
    "    shuffle=False,\n",
    "    num_workers=8,\n",
    "    pin_memory= True\n",
    "    )\n",
    "    \n",
    "    return unlabelled_dataset,unlabelled_dataloader\n"
   ]
  },
  {
   "cell_type": "code",
   "execution_count": 37,
   "metadata": {},
   "outputs": [],
   "source": [
    "unlabelled_val_dataset, unlabelled_val_dataloader  = load_unlabelled_data(val_subset, 64)"
   ]
  },
  {
   "cell_type": "code",
   "execution_count": 38,
   "metadata": {},
   "outputs": [],
   "source": [
    "from aimet_torch.meta.connectedgraph import ConnectedGraph\n",
    "ConnectedGraph.math_invariant_types.add(\"floor_divide\")"
   ]
  },
  {
   "cell_type": "code",
   "execution_count": 39,
   "metadata": {},
   "outputs": [
    {
     "name": "stderr",
     "output_type": "stream",
     "text": [
      "               \r"
     ]
    },
    {
     "name": "stdout",
     "output_type": "stream",
     "text": [
      "2025-03-01 17:24:24,045 - ModelPreparer - INFO - Functional         : Adding new module for node: {module_mul} \n"
     ]
    },
    {
     "name": "stderr",
     "output_type": "stream",
     "text": [
      "               \r"
     ]
    },
    {
     "name": "stdout",
     "output_type": "stream",
     "text": [
      "2025-03-01 17:24:24,046 - ModelPreparer - INFO - Functional         : Adding new module for node: {module_matmul} \n"
     ]
    },
    {
     "name": "stderr",
     "output_type": "stream",
     "text": [
      "               \r"
     ]
    },
    {
     "name": "stdout",
     "output_type": "stream",
     "text": [
      "2025-03-01 17:24:24,048 - ModelPreparer - INFO - Functional         : Adding new module for node: {module_add} \n"
     ]
    },
    {
     "name": "stderr",
     "output_type": "stream",
     "text": [
      "               \r"
     ]
    },
    {
     "name": "stdout",
     "output_type": "stream",
     "text": [
      "2025-03-01 17:24:24,049 - ModelPreparer - INFO - Functional         : Adding new module for node: {module_matmul_1} \n"
     ]
    },
    {
     "name": "stderr",
     "output_type": "stream",
     "text": [
      "               \r"
     ]
    },
    {
     "name": "stdout",
     "output_type": "stream",
     "text": [
      "2025-03-01 17:24:24,050 - ModelPreparer - INFO - Functional         : Adding new module for node: {module_add_1} \n"
     ]
    },
    {
     "name": "stderr",
     "output_type": "stream",
     "text": [
      "               \r"
     ]
    },
    {
     "name": "stdout",
     "output_type": "stream",
     "text": [
      "2025-03-01 17:24:24,052 - ModelPreparer - INFO - Functional         : Adding new module for node: {module_add_2} \n"
     ]
    },
    {
     "name": "stderr",
     "output_type": "stream",
     "text": [
      "               \r"
     ]
    },
    {
     "name": "stdout",
     "output_type": "stream",
     "text": [
      "2025-03-01 17:24:24,053 - ModelPreparer - INFO - Functional         : Adding new module for node: {module_mul_1} \n"
     ]
    },
    {
     "name": "stderr",
     "output_type": "stream",
     "text": [
      "               \r"
     ]
    },
    {
     "name": "stdout",
     "output_type": "stream",
     "text": [
      "2025-03-01 17:24:24,054 - ModelPreparer - INFO - Functional         : Adding new module for node: {module_matmul_2} \n"
     ]
    },
    {
     "name": "stderr",
     "output_type": "stream",
     "text": [
      "               \r"
     ]
    },
    {
     "name": "stdout",
     "output_type": "stream",
     "text": [
      "2025-03-01 17:24:24,056 - ModelPreparer - INFO - Functional         : Adding new module for node: {module_add_3} \n"
     ]
    },
    {
     "name": "stderr",
     "output_type": "stream",
     "text": [
      "               \r"
     ]
    },
    {
     "name": "stdout",
     "output_type": "stream",
     "text": [
      "2025-03-01 17:24:24,057 - ModelPreparer - INFO - Functional         : Adding new module for node: {module_add_4} \n"
     ]
    },
    {
     "name": "stderr",
     "output_type": "stream",
     "text": [
      "               \r"
     ]
    },
    {
     "name": "stdout",
     "output_type": "stream",
     "text": [
      "2025-03-01 17:24:24,058 - ModelPreparer - INFO - Functional         : Adding new module for node: {module_matmul_3} \n"
     ]
    },
    {
     "name": "stderr",
     "output_type": "stream",
     "text": [
      "               \r"
     ]
    },
    {
     "name": "stdout",
     "output_type": "stream",
     "text": [
      "2025-03-01 17:24:24,059 - ModelPreparer - INFO - Functional         : Adding new module for node: {module_add_5} \n"
     ]
    },
    {
     "name": "stderr",
     "output_type": "stream",
     "text": [
      "               \r"
     ]
    },
    {
     "name": "stdout",
     "output_type": "stream",
     "text": [
      "2025-03-01 17:24:24,061 - ModelPreparer - INFO - Functional         : Adding new module for node: {module_add_6} \n"
     ]
    },
    {
     "name": "stderr",
     "output_type": "stream",
     "text": [
      "               \r"
     ]
    },
    {
     "name": "stdout",
     "output_type": "stream",
     "text": [
      "2025-03-01 17:24:24,062 - ModelPreparer - INFO - Functional         : Adding new module for node: {module_cat} \n"
     ]
    },
    {
     "name": "stderr",
     "output_type": "stream",
     "text": [
      "               \r"
     ]
    },
    {
     "name": "stdout",
     "output_type": "stream",
     "text": [
      "2025-03-01 17:24:24,063 - ModelPreparer - INFO - Functional         : Adding new module for node: {module_mul_2} \n"
     ]
    },
    {
     "name": "stderr",
     "output_type": "stream",
     "text": [
      "               \r"
     ]
    },
    {
     "name": "stdout",
     "output_type": "stream",
     "text": [
      "2025-03-01 17:24:24,065 - ModelPreparer - INFO - Functional         : Adding new module for node: {module_mul_3} \n"
     ]
    },
    {
     "name": "stderr",
     "output_type": "stream",
     "text": [
      "               \r"
     ]
    },
    {
     "name": "stdout",
     "output_type": "stream",
     "text": [
      "2025-03-01 17:24:24,066 - ModelPreparer - INFO - Functional         : Adding new module for node: {module_matmul_4} \n"
     ]
    },
    {
     "name": "stderr",
     "output_type": "stream",
     "text": [
      "               \r"
     ]
    },
    {
     "name": "stdout",
     "output_type": "stream",
     "text": [
      "2025-03-01 17:24:24,067 - ModelPreparer - INFO - Functional         : Adding new module for node: {module_add_7} \n"
     ]
    },
    {
     "name": "stderr",
     "output_type": "stream",
     "text": [
      "               \r"
     ]
    },
    {
     "name": "stdout",
     "output_type": "stream",
     "text": [
      "2025-03-01 17:24:24,068 - ModelPreparer - INFO - Functional         : Adding new module for node: {module_matmul_5} \n"
     ]
    },
    {
     "name": "stderr",
     "output_type": "stream",
     "text": [
      "               \r"
     ]
    },
    {
     "name": "stdout",
     "output_type": "stream",
     "text": [
      "2025-03-01 17:24:24,070 - ModelPreparer - INFO - Functional         : Adding new module for node: {module_add_8} \n"
     ]
    },
    {
     "name": "stderr",
     "output_type": "stream",
     "text": [
      "               \r"
     ]
    },
    {
     "name": "stdout",
     "output_type": "stream",
     "text": [
      "2025-03-01 17:24:24,071 - ModelPreparer - INFO - Functional         : Adding new module for node: {module_add_9} \n"
     ]
    },
    {
     "name": "stderr",
     "output_type": "stream",
     "text": [
      "               \r"
     ]
    },
    {
     "name": "stdout",
     "output_type": "stream",
     "text": [
      "2025-03-01 17:24:24,072 - ModelPreparer - INFO - Functional         : Adding new module for node: {module_mul_4} \n"
     ]
    },
    {
     "name": "stderr",
     "output_type": "stream",
     "text": [
      "               \r"
     ]
    },
    {
     "name": "stdout",
     "output_type": "stream",
     "text": [
      "2025-03-01 17:24:24,073 - ModelPreparer - INFO - Functional         : Adding new module for node: {module_matmul_6} \n"
     ]
    },
    {
     "name": "stderr",
     "output_type": "stream",
     "text": [
      "               \r"
     ]
    },
    {
     "name": "stdout",
     "output_type": "stream",
     "text": [
      "2025-03-01 17:24:24,075 - ModelPreparer - INFO - Functional         : Adding new module for node: {module_add_10} \n"
     ]
    },
    {
     "name": "stderr",
     "output_type": "stream",
     "text": [
      "               \r"
     ]
    },
    {
     "name": "stdout",
     "output_type": "stream",
     "text": [
      "2025-03-01 17:24:24,076 - ModelPreparer - INFO - Functional         : Adding new module for node: {module_add_11} \n"
     ]
    },
    {
     "name": "stderr",
     "output_type": "stream",
     "text": [
      "               \r"
     ]
    },
    {
     "name": "stdout",
     "output_type": "stream",
     "text": [
      "2025-03-01 17:24:24,077 - ModelPreparer - INFO - Functional         : Adding new module for node: {module_matmul_7} \n"
     ]
    },
    {
     "name": "stderr",
     "output_type": "stream",
     "text": [
      "               \r"
     ]
    },
    {
     "name": "stdout",
     "output_type": "stream",
     "text": [
      "2025-03-01 17:24:24,079 - ModelPreparer - INFO - Functional         : Adding new module for node: {module_add_12} \n"
     ]
    },
    {
     "name": "stderr",
     "output_type": "stream",
     "text": [
      "               \r"
     ]
    },
    {
     "name": "stdout",
     "output_type": "stream",
     "text": [
      "2025-03-01 17:24:24,080 - ModelPreparer - INFO - Functional         : Adding new module for node: {module_add_13} \n"
     ]
    },
    {
     "name": "stderr",
     "output_type": "stream",
     "text": [
      "               \r"
     ]
    },
    {
     "name": "stdout",
     "output_type": "stream",
     "text": [
      "2025-03-01 17:24:24,081 - ModelPreparer - INFO - Functional         : Adding new module for node: {module_cat_1} \n"
     ]
    },
    {
     "name": "stderr",
     "output_type": "stream",
     "text": [
      "               \r"
     ]
    },
    {
     "name": "stdout",
     "output_type": "stream",
     "text": [
      "2025-03-01 17:24:24,082 - ModelPreparer - INFO - Functional         : Adding new module for node: {module_mul_5} \n"
     ]
    },
    {
     "name": "stderr",
     "output_type": "stream",
     "text": [
      "               \r"
     ]
    },
    {
     "name": "stdout",
     "output_type": "stream",
     "text": [
      "2025-03-01 17:24:24,084 - ModelPreparer - INFO - Functional         : Adding new module for node: {module_mul_6} \n"
     ]
    },
    {
     "name": "stderr",
     "output_type": "stream",
     "text": [
      "               \r"
     ]
    },
    {
     "name": "stdout",
     "output_type": "stream",
     "text": [
      "2025-03-01 17:24:24,085 - ModelPreparer - INFO - Functional         : Adding new module for node: {module_matmul_8} \n"
     ]
    },
    {
     "name": "stderr",
     "output_type": "stream",
     "text": [
      "               \r"
     ]
    },
    {
     "name": "stdout",
     "output_type": "stream",
     "text": [
      "2025-03-01 17:24:24,086 - ModelPreparer - INFO - Functional         : Adding new module for node: {module_add_14} \n"
     ]
    },
    {
     "name": "stderr",
     "output_type": "stream",
     "text": [
      "               \r"
     ]
    },
    {
     "name": "stdout",
     "output_type": "stream",
     "text": [
      "2025-03-01 17:24:24,088 - ModelPreparer - INFO - Functional         : Adding new module for node: {module_matmul_9} \n"
     ]
    },
    {
     "name": "stderr",
     "output_type": "stream",
     "text": [
      "               \r"
     ]
    },
    {
     "name": "stdout",
     "output_type": "stream",
     "text": [
      "2025-03-01 17:24:24,089 - ModelPreparer - INFO - Functional         : Adding new module for node: {module_add_15} \n"
     ]
    },
    {
     "name": "stderr",
     "output_type": "stream",
     "text": [
      "               \r"
     ]
    },
    {
     "name": "stdout",
     "output_type": "stream",
     "text": [
      "2025-03-01 17:24:24,090 - ModelPreparer - INFO - Functional         : Adding new module for node: {module_add_16} \n"
     ]
    },
    {
     "name": "stderr",
     "output_type": "stream",
     "text": [
      "               \r"
     ]
    },
    {
     "name": "stdout",
     "output_type": "stream",
     "text": [
      "2025-03-01 17:24:24,091 - ModelPreparer - INFO - Functional         : Adding new module for node: {module_mul_7} \n"
     ]
    },
    {
     "name": "stderr",
     "output_type": "stream",
     "text": [
      "               \r"
     ]
    },
    {
     "name": "stdout",
     "output_type": "stream",
     "text": [
      "2025-03-01 17:24:24,093 - ModelPreparer - INFO - Functional         : Adding new module for node: {module_matmul_10} \n"
     ]
    },
    {
     "name": "stderr",
     "output_type": "stream",
     "text": [
      "               \r"
     ]
    },
    {
     "name": "stdout",
     "output_type": "stream",
     "text": [
      "2025-03-01 17:24:24,094 - ModelPreparer - INFO - Functional         : Adding new module for node: {module_add_17} \n"
     ]
    },
    {
     "name": "stderr",
     "output_type": "stream",
     "text": [
      "               \r"
     ]
    },
    {
     "name": "stdout",
     "output_type": "stream",
     "text": [
      "2025-03-01 17:24:24,095 - ModelPreparer - INFO - Functional         : Adding new module for node: {module_add_18} \n"
     ]
    },
    {
     "name": "stderr",
     "output_type": "stream",
     "text": [
      "               \r"
     ]
    },
    {
     "name": "stdout",
     "output_type": "stream",
     "text": [
      "2025-03-01 17:24:24,097 - ModelPreparer - INFO - Functional         : Adding new module for node: {module_matmul_11} \n"
     ]
    },
    {
     "name": "stderr",
     "output_type": "stream",
     "text": [
      "               \r"
     ]
    },
    {
     "name": "stdout",
     "output_type": "stream",
     "text": [
      "2025-03-01 17:24:24,098 - ModelPreparer - INFO - Functional         : Adding new module for node: {module_add_19} \n"
     ]
    },
    {
     "name": "stderr",
     "output_type": "stream",
     "text": [
      "               \r"
     ]
    },
    {
     "name": "stdout",
     "output_type": "stream",
     "text": [
      "2025-03-01 17:24:24,099 - ModelPreparer - INFO - Functional         : Adding new module for node: {module_add_20} \n"
     ]
    },
    {
     "name": "stderr",
     "output_type": "stream",
     "text": [
      "               \r"
     ]
    },
    {
     "name": "stdout",
     "output_type": "stream",
     "text": [
      "2025-03-01 17:24:24,100 - ModelPreparer - INFO - Functional         : Adding new module for node: {module_mul_8} \n"
     ]
    },
    {
     "name": "stderr",
     "output_type": "stream",
     "text": [
      "               \r"
     ]
    },
    {
     "name": "stdout",
     "output_type": "stream",
     "text": [
      "2025-03-01 17:24:24,102 - ModelPreparer - INFO - Functional         : Adding new module for node: {module_matmul_12} \n"
     ]
    },
    {
     "name": "stderr",
     "output_type": "stream",
     "text": [
      "               \r"
     ]
    },
    {
     "name": "stdout",
     "output_type": "stream",
     "text": [
      "2025-03-01 17:24:24,103 - ModelPreparer - INFO - Functional         : Adding new module for node: {module_add_21} \n"
     ]
    },
    {
     "name": "stderr",
     "output_type": "stream",
     "text": [
      "               \r"
     ]
    },
    {
     "name": "stdout",
     "output_type": "stream",
     "text": [
      "2025-03-01 17:24:24,104 - ModelPreparer - INFO - Functional         : Adding new module for node: {module_matmul_13} \n"
     ]
    },
    {
     "name": "stderr",
     "output_type": "stream",
     "text": [
      "               \r"
     ]
    },
    {
     "name": "stdout",
     "output_type": "stream",
     "text": [
      "2025-03-01 17:24:24,106 - ModelPreparer - INFO - Functional         : Adding new module for node: {module_add_22} \n"
     ]
    },
    {
     "name": "stderr",
     "output_type": "stream",
     "text": [
      "               \r"
     ]
    },
    {
     "name": "stdout",
     "output_type": "stream",
     "text": [
      "2025-03-01 17:24:24,107 - ModelPreparer - INFO - Functional         : Adding new module for node: {module_add_23} \n"
     ]
    },
    {
     "name": "stderr",
     "output_type": "stream",
     "text": [
      "               \r"
     ]
    },
    {
     "name": "stdout",
     "output_type": "stream",
     "text": [
      "2025-03-01 17:24:24,108 - ModelPreparer - INFO - Functional         : Adding new module for node: {module_mul_9} \n"
     ]
    },
    {
     "name": "stderr",
     "output_type": "stream",
     "text": [
      "               \r"
     ]
    },
    {
     "name": "stdout",
     "output_type": "stream",
     "text": [
      "2025-03-01 17:24:24,109 - ModelPreparer - INFO - Functional         : Adding new module for node: {module_matmul_14} \n"
     ]
    },
    {
     "name": "stderr",
     "output_type": "stream",
     "text": [
      "               \r"
     ]
    },
    {
     "name": "stdout",
     "output_type": "stream",
     "text": [
      "2025-03-01 17:24:24,111 - ModelPreparer - INFO - Functional         : Adding new module for node: {module_add_24} \n"
     ]
    },
    {
     "name": "stderr",
     "output_type": "stream",
     "text": [
      "               \r"
     ]
    },
    {
     "name": "stdout",
     "output_type": "stream",
     "text": [
      "2025-03-01 17:24:24,112 - ModelPreparer - INFO - Functional         : Adding new module for node: {module_add_25} \n"
     ]
    },
    {
     "name": "stderr",
     "output_type": "stream",
     "text": [
      "               \r"
     ]
    },
    {
     "name": "stdout",
     "output_type": "stream",
     "text": [
      "2025-03-01 17:24:24,113 - ModelPreparer - INFO - Functional         : Adding new module for node: {module_matmul_15} \n"
     ]
    },
    {
     "name": "stderr",
     "output_type": "stream",
     "text": [
      "               \r"
     ]
    },
    {
     "name": "stdout",
     "output_type": "stream",
     "text": [
      "2025-03-01 17:24:24,115 - ModelPreparer - INFO - Functional         : Adding new module for node: {module_add_26} \n"
     ]
    },
    {
     "name": "stderr",
     "output_type": "stream",
     "text": [
      "               \r"
     ]
    },
    {
     "name": "stdout",
     "output_type": "stream",
     "text": [
      "2025-03-01 17:24:24,116 - ModelPreparer - INFO - Functional         : Adding new module for node: {module_add_27} \n"
     ]
    },
    {
     "name": "stderr",
     "output_type": "stream",
     "text": [
      "               \r"
     ]
    },
    {
     "name": "stdout",
     "output_type": "stream",
     "text": [
      "2025-03-01 17:24:24,117 - ModelPreparer - INFO - Functional         : Adding new module for node: {module_mul_10} \n"
     ]
    },
    {
     "name": "stderr",
     "output_type": "stream",
     "text": [
      "               \r"
     ]
    },
    {
     "name": "stdout",
     "output_type": "stream",
     "text": [
      "2025-03-01 17:24:24,118 - ModelPreparer - INFO - Functional         : Adding new module for node: {module_matmul_16} \n"
     ]
    },
    {
     "name": "stderr",
     "output_type": "stream",
     "text": [
      "               \r"
     ]
    },
    {
     "name": "stdout",
     "output_type": "stream",
     "text": [
      "2025-03-01 17:24:24,120 - ModelPreparer - INFO - Functional         : Adding new module for node: {module_add_28} \n"
     ]
    },
    {
     "name": "stderr",
     "output_type": "stream",
     "text": [
      "               \r"
     ]
    },
    {
     "name": "stdout",
     "output_type": "stream",
     "text": [
      "2025-03-01 17:24:24,121 - ModelPreparer - INFO - Functional         : Adding new module for node: {module_matmul_17} \n"
     ]
    },
    {
     "name": "stderr",
     "output_type": "stream",
     "text": [
      "               \r"
     ]
    },
    {
     "name": "stdout",
     "output_type": "stream",
     "text": [
      "2025-03-01 17:24:24,122 - ModelPreparer - INFO - Functional         : Adding new module for node: {module_add_29} \n"
     ]
    },
    {
     "name": "stderr",
     "output_type": "stream",
     "text": [
      "               \r"
     ]
    },
    {
     "name": "stdout",
     "output_type": "stream",
     "text": [
      "2025-03-01 17:24:24,124 - ModelPreparer - INFO - Functional         : Adding new module for node: {module_add_30} \n"
     ]
    },
    {
     "name": "stderr",
     "output_type": "stream",
     "text": [
      "               \r"
     ]
    },
    {
     "name": "stdout",
     "output_type": "stream",
     "text": [
      "2025-03-01 17:24:24,125 - ModelPreparer - INFO - Functional         : Adding new module for node: {module_mul_11} \n"
     ]
    },
    {
     "name": "stderr",
     "output_type": "stream",
     "text": [
      "               \r"
     ]
    },
    {
     "name": "stdout",
     "output_type": "stream",
     "text": [
      "2025-03-01 17:24:24,126 - ModelPreparer - INFO - Functional         : Adding new module for node: {module_matmul_18} \n"
     ]
    },
    {
     "name": "stderr",
     "output_type": "stream",
     "text": [
      "               \r"
     ]
    },
    {
     "name": "stdout",
     "output_type": "stream",
     "text": [
      "2025-03-01 17:24:24,128 - ModelPreparer - INFO - Functional         : Adding new module for node: {module_add_31} \n"
     ]
    },
    {
     "name": "stderr",
     "output_type": "stream",
     "text": [
      "               \r"
     ]
    },
    {
     "name": "stdout",
     "output_type": "stream",
     "text": [
      "2025-03-01 17:24:24,129 - ModelPreparer - INFO - Functional         : Adding new module for node: {module_add_32} \n"
     ]
    },
    {
     "name": "stderr",
     "output_type": "stream",
     "text": [
      "               \r"
     ]
    },
    {
     "name": "stdout",
     "output_type": "stream",
     "text": [
      "2025-03-01 17:24:24,130 - ModelPreparer - INFO - Functional         : Adding new module for node: {module_matmul_19} \n"
     ]
    },
    {
     "name": "stderr",
     "output_type": "stream",
     "text": [
      "               \r"
     ]
    },
    {
     "name": "stdout",
     "output_type": "stream",
     "text": [
      "2025-03-01 17:24:24,131 - ModelPreparer - INFO - Functional         : Adding new module for node: {module_add_33} \n"
     ]
    },
    {
     "name": "stderr",
     "output_type": "stream",
     "text": [
      "               \r"
     ]
    },
    {
     "name": "stdout",
     "output_type": "stream",
     "text": [
      "2025-03-01 17:24:24,133 - ModelPreparer - INFO - Functional         : Adding new module for node: {module_add_34} \n"
     ]
    },
    {
     "name": "stderr",
     "output_type": "stream",
     "text": [
      "               \r"
     ]
    },
    {
     "name": "stdout",
     "output_type": "stream",
     "text": [
      "2025-03-01 17:24:24,134 - ModelPreparer - INFO - Functional         : Adding new module for node: {module_cat_2} \n"
     ]
    },
    {
     "name": "stderr",
     "output_type": "stream",
     "text": [
      "               \r"
     ]
    },
    {
     "name": "stdout",
     "output_type": "stream",
     "text": [
      "2025-03-01 17:24:24,135 - ModelPreparer - INFO - Functional         : Adding new module for node: {module_mul_12} \n"
     ]
    },
    {
     "name": "stderr",
     "output_type": "stream",
     "text": [
      "               \r"
     ]
    },
    {
     "name": "stdout",
     "output_type": "stream",
     "text": [
      "2025-03-01 17:24:24,137 - ModelPreparer - INFO - Functional         : Adding new module for node: {module_mul_13} \n"
     ]
    },
    {
     "name": "stderr",
     "output_type": "stream",
     "text": [
      "               \r"
     ]
    },
    {
     "name": "stdout",
     "output_type": "stream",
     "text": [
      "2025-03-01 17:24:24,138 - ModelPreparer - INFO - Functional         : Adding new module for node: {module_matmul_20} \n"
     ]
    },
    {
     "name": "stderr",
     "output_type": "stream",
     "text": [
      "               \r"
     ]
    },
    {
     "name": "stdout",
     "output_type": "stream",
     "text": [
      "2025-03-01 17:24:24,139 - ModelPreparer - INFO - Functional         : Adding new module for node: {module_add_35} \n"
     ]
    },
    {
     "name": "stderr",
     "output_type": "stream",
     "text": [
      "               \r"
     ]
    },
    {
     "name": "stdout",
     "output_type": "stream",
     "text": [
      "2025-03-01 17:24:24,140 - ModelPreparer - INFO - Functional         : Adding new module for node: {module_matmul_21} \n"
     ]
    },
    {
     "name": "stderr",
     "output_type": "stream",
     "text": [
      "               \r"
     ]
    },
    {
     "name": "stdout",
     "output_type": "stream",
     "text": [
      "2025-03-01 17:24:24,142 - ModelPreparer - INFO - Functional         : Adding new module for node: {module_add_36} \n"
     ]
    },
    {
     "name": "stderr",
     "output_type": "stream",
     "text": [
      "               \r"
     ]
    },
    {
     "name": "stdout",
     "output_type": "stream",
     "text": [
      "2025-03-01 17:24:24,143 - ModelPreparer - INFO - Functional         : Adding new module for node: {module_add_37} \n"
     ]
    },
    {
     "name": "stderr",
     "output_type": "stream",
     "text": [
      "               \r"
     ]
    },
    {
     "name": "stdout",
     "output_type": "stream",
     "text": [
      "2025-03-01 17:24:24,144 - ModelPreparer - INFO - Functional         : Adding new module for node: {module_mul_14} \n"
     ]
    },
    {
     "name": "stderr",
     "output_type": "stream",
     "text": [
      "               \r"
     ]
    },
    {
     "name": "stdout",
     "output_type": "stream",
     "text": [
      "2025-03-01 17:24:24,145 - ModelPreparer - INFO - Functional         : Adding new module for node: {module_matmul_22} \n"
     ]
    },
    {
     "name": "stderr",
     "output_type": "stream",
     "text": [
      "               \r"
     ]
    },
    {
     "name": "stdout",
     "output_type": "stream",
     "text": [
      "2025-03-01 17:24:24,147 - ModelPreparer - INFO - Functional         : Adding new module for node: {module_add_38} \n"
     ]
    },
    {
     "name": "stderr",
     "output_type": "stream",
     "text": [
      "               \r"
     ]
    },
    {
     "name": "stdout",
     "output_type": "stream",
     "text": [
      "2025-03-01 17:24:24,148 - ModelPreparer - INFO - Functional         : Adding new module for node: {module_matmul_23} \n"
     ]
    },
    {
     "name": "stderr",
     "output_type": "stream",
     "text": [
      "               \r"
     ]
    },
    {
     "name": "stdout",
     "output_type": "stream",
     "text": [
      "2025-03-01 17:24:24,149 - ModelPreparer - INFO - Functional         : Adding new module for node: {module_add_39} \n"
     ]
    },
    {
     "name": "stderr",
     "output_type": "stream",
     "text": [
      "               \r"
     ]
    },
    {
     "name": "stdout",
     "output_type": "stream",
     "text": [
      "2025-03-01 17:24:24,151 - ModelPreparer - INFO - Functional         : Adding new module for node: {module_add_40} \n"
     ]
    },
    {
     "name": "stderr",
     "output_type": "stream",
     "text": [
      "               \r"
     ]
    },
    {
     "name": "stdout",
     "output_type": "stream",
     "text": [
      "2025-03-01 17:24:24,172 - Utils - INFO - Running validator check <function validate_for_reused_modules at 0x7fee366972e0>\n"
     ]
    },
    {
     "name": "stderr",
     "output_type": "stream",
     "text": [
      "               \r"
     ]
    },
    {
     "name": "stdout",
     "output_type": "stream",
     "text": [
      "2025-03-01 17:24:24,219 - Utils - INFO - Running validator check <function validate_for_missing_modules at 0x7fee366975b0>\n"
     ]
    },
    {
     "name": "stderr",
     "output_type": "stream",
     "text": [
      "               \r"
     ]
    },
    {
     "name": "stdout",
     "output_type": "stream",
     "text": [
      "2025-03-01 17:24:33,226 - ConnectedGraph - WARNING - Unable to isolate model outputs.\n"
     ]
    },
    {
     "name": "stderr",
     "output_type": "stream",
     "text": [
      "               \r"
     ]
    },
    {
     "name": "stdout",
     "output_type": "stream",
     "text": [
      "2025-03-01 17:24:33,254 - Utils - INFO - All validation checks passed.\n"
     ]
    },
    {
     "name": "stderr",
     "output_type": "stream",
     "text": [
      "               \r"
     ]
    },
    {
     "name": "stdout",
     "output_type": "stream",
     "text": [
      "2025-03-01 17:24:33,255 - AutoQuant - INFO - Model validation has succeeded. Proceeding to AutoQuant algorithm.\n"
     ]
    },
    {
     "name": "stderr",
     "output_type": "stream",
     "text": [
      "\\ Prepare Model\n",
      "                   \r"
     ]
    },
    {
     "name": "stdout",
     "output_type": "stream",
     "text": [
      "2025-03-01 17:24:43,660 - ConnectedGraph - WARNING - Unable to isolate model outputs.\n"
     ]
    },
    {
     "name": "stderr",
     "output_type": "stream",
     "text": [
      "                   \r"
     ]
    },
    {
     "name": "stdout",
     "output_type": "stream",
     "text": [
      "2025-03-01 17:24:53,672 - ConnectedGraph - WARNING - Unable to isolate model outputs.\n"
     ]
    },
    {
     "name": "stderr",
     "output_type": "stream",
     "text": [
      "                   \r"
     ]
    },
    {
     "name": "stdout",
     "output_type": "stream",
     "text": [
      "2025-03-01 17:24:53,835 - Quant - INFO - No config file provided, defaulting to config file at /home/bmw/anaconda3/envs/swin_bhanu/lib/python3.10/site-packages/aimet_common/quantsim_config/default_config.json\n"
     ]
    },
    {
     "name": "stderr",
     "output_type": "stream",
     "text": [
      "                   \r"
     ]
    },
    {
     "name": "stdout",
     "output_type": "stream",
     "text": [
      "2025-03-01 17:24:53,858 - Quant - INFO - Unsupported op type Squeeze\n"
     ]
    },
    {
     "name": "stderr",
     "output_type": "stream",
     "text": [
      "                   \r"
     ]
    },
    {
     "name": "stdout",
     "output_type": "stream",
     "text": [
      "2025-03-01 17:24:53,859 - Quant - INFO - Unsupported op type Mean\n"
     ]
    },
    {
     "name": "stderr",
     "output_type": "stream",
     "text": [
      "                   \r"
     ]
    },
    {
     "name": "stdout",
     "output_type": "stream",
     "text": [
      "2025-03-01 17:24:53,880 - Quant - INFO - Selecting DefaultOpInstanceConfigGenerator to compute the specialized config. hw_version:default\n"
     ]
    },
    {
     "name": "stderr",
     "output_type": "stream",
     "text": [
      "                   \r"
     ]
    },
    {
     "name": "stdout",
     "output_type": "stream",
     "text": [
      "2025-03-01 17:24:53,885 - Quant - WARNING - Multiple input ops exist, traversal to find closest producer is performed based on the first input\n"
     ]
    },
    {
     "name": "stderr",
     "output_type": "stream",
     "text": [
      "                   \r"
     ]
    },
    {
     "name": "stdout",
     "output_type": "stream",
     "text": [
      "2025-03-01 17:24:53,887 - Quant - WARNING - Multiple input ops exist, traversal to find closest producer is performed based on the first input\n"
     ]
    },
    {
     "name": "stderr",
     "output_type": "stream",
     "text": [
      "                   \r"
     ]
    },
    {
     "name": "stdout",
     "output_type": "stream",
     "text": [
      "2025-03-01 17:24:53,888 - Quant - WARNING - Multiple input ops exist, traversal to find closest producer is performed based on the first input\n"
     ]
    },
    {
     "name": "stderr",
     "output_type": "stream",
     "text": [
      "                   \r"
     ]
    },
    {
     "name": "stdout",
     "output_type": "stream",
     "text": [
      "2025-03-01 17:24:53,889 - Quant - WARNING - Multiple input ops exist, traversal to find closest producer is performed based on the first input\n"
     ]
    },
    {
     "name": "stderr",
     "output_type": "stream",
     "text": [
      "                   \r"
     ]
    },
    {
     "name": "stdout",
     "output_type": "stream",
     "text": [
      "2025-03-01 17:24:53,890 - Quant - WARNING - Multiple input ops exist, traversal to find closest producer is performed based on the first input\n"
     ]
    },
    {
     "name": "stderr",
     "output_type": "stream",
     "text": [
      "                   \r"
     ]
    },
    {
     "name": "stdout",
     "output_type": "stream",
     "text": [
      "2025-03-01 17:24:53,892 - Quant - WARNING - Multiple input ops exist, traversal to find closest producer is performed based on the first input\n"
     ]
    },
    {
     "name": "stderr",
     "output_type": "stream",
     "text": [
      "                   \r"
     ]
    },
    {
     "name": "stdout",
     "output_type": "stream",
     "text": [
      "2025-03-01 17:24:53,893 - Quant - WARNING - Multiple input ops exist, traversal to find closest producer is performed based on the first input\n"
     ]
    },
    {
     "name": "stderr",
     "output_type": "stream",
     "text": [
      "                   \r"
     ]
    },
    {
     "name": "stdout",
     "output_type": "stream",
     "text": [
      "2025-03-01 17:24:53,894 - Quant - WARNING - Multiple input ops exist, traversal to find closest producer is performed based on the first input\n"
     ]
    },
    {
     "name": "stderr",
     "output_type": "stream",
     "text": [
      "                   \r"
     ]
    },
    {
     "name": "stdout",
     "output_type": "stream",
     "text": [
      "2025-03-01 17:24:53,895 - Quant - WARNING - Multiple input ops exist, traversal to find closest producer is performed based on the first input\n"
     ]
    },
    {
     "name": "stderr",
     "output_type": "stream",
     "text": [
      "                   \r"
     ]
    },
    {
     "name": "stdout",
     "output_type": "stream",
     "text": [
      "2025-03-01 17:24:53,897 - Quant - WARNING - Multiple input ops exist, traversal to find closest producer is performed based on the first input\n"
     ]
    },
    {
     "name": "stderr",
     "output_type": "stream",
     "text": [
      "                   \r"
     ]
    },
    {
     "name": "stdout",
     "output_type": "stream",
     "text": [
      "2025-03-01 17:24:53,898 - Quant - WARNING - Multiple input ops exist, traversal to find closest producer is performed based on the first input\n"
     ]
    },
    {
     "name": "stderr",
     "output_type": "stream",
     "text": [
      "                   \r"
     ]
    },
    {
     "name": "stdout",
     "output_type": "stream",
     "text": [
      "2025-03-01 17:24:53,899 - Quant - WARNING - Multiple input ops exist, traversal to find closest producer is performed based on the first input\n"
     ]
    },
    {
     "name": "stderr",
     "output_type": "stream",
     "text": [
      "                   \r"
     ]
    },
    {
     "name": "stdout",
     "output_type": "stream",
     "text": [
      "2025-03-01 17:24:53,900 - Quant - WARNING - Multiple input ops exist, traversal to find closest producer is performed based on the first input\n"
     ]
    },
    {
     "name": "stderr",
     "output_type": "stream",
     "text": [
      "                   \r"
     ]
    },
    {
     "name": "stdout",
     "output_type": "stream",
     "text": [
      "2025-03-01 17:24:53,901 - Quant - WARNING - Multiple input ops exist, traversal to find closest producer is performed based on the first input\n"
     ]
    },
    {
     "name": "stderr",
     "output_type": "stream",
     "text": [
      "                   \r"
     ]
    },
    {
     "name": "stdout",
     "output_type": "stream",
     "text": [
      "2025-03-01 17:24:53,903 - Quant - WARNING - Multiple input ops exist, traversal to find closest producer is performed based on the first input\n"
     ]
    },
    {
     "name": "stderr",
     "output_type": "stream",
     "text": [
      "                   \r"
     ]
    },
    {
     "name": "stdout",
     "output_type": "stream",
     "text": [
      "2025-03-01 17:24:53,904 - Quant - WARNING - Multiple input ops exist, traversal to find closest producer is performed based on the first input\n"
     ]
    },
    {
     "name": "stderr",
     "output_type": "stream",
     "text": [
      "                   \r"
     ]
    },
    {
     "name": "stdout",
     "output_type": "stream",
     "text": [
      "2025-03-01 17:24:53,905 - Quant - WARNING - Multiple input ops exist, traversal to find closest producer is performed based on the first input\n"
     ]
    },
    {
     "name": "stderr",
     "output_type": "stream",
     "text": [
      "                   \r"
     ]
    },
    {
     "name": "stdout",
     "output_type": "stream",
     "text": [
      "2025-03-01 17:24:53,906 - Quant - WARNING - Multiple input ops exist, traversal to find closest producer is performed based on the first input\n"
     ]
    },
    {
     "name": "stderr",
     "output_type": "stream",
     "text": [
      "                   \r"
     ]
    },
    {
     "name": "stdout",
     "output_type": "stream",
     "text": [
      "2025-03-01 17:24:53,908 - Quant - WARNING - Multiple input ops exist, traversal to find closest producer is performed based on the first input\n"
     ]
    },
    {
     "name": "stderr",
     "output_type": "stream",
     "text": [
      "                   \r"
     ]
    },
    {
     "name": "stdout",
     "output_type": "stream",
     "text": [
      "2025-03-01 17:24:53,909 - Quant - WARNING - Multiple input ops exist, traversal to find closest producer is performed based on the first input\n"
     ]
    },
    {
     "name": "stderr",
     "output_type": "stream",
     "text": [
      "                   \r"
     ]
    },
    {
     "name": "stdout",
     "output_type": "stream",
     "text": [
      "2025-03-01 17:24:53,910 - Quant - WARNING - Multiple input ops exist, traversal to find closest producer is performed based on the first input\n"
     ]
    },
    {
     "name": "stderr",
     "output_type": "stream",
     "text": [
      "                   \r"
     ]
    },
    {
     "name": "stdout",
     "output_type": "stream",
     "text": [
      "2025-03-01 17:24:53,911 - Quant - WARNING - Multiple input ops exist, traversal to find closest producer is performed based on the first input\n"
     ]
    },
    {
     "name": "stderr",
     "output_type": "stream",
     "text": [
      "                   \r"
     ]
    },
    {
     "name": "stdout",
     "output_type": "stream",
     "text": [
      "2025-03-01 17:24:53,913 - Quant - WARNING - Multiple input ops exist, traversal to find closest producer is performed based on the first input\n"
     ]
    },
    {
     "name": "stderr",
     "output_type": "stream",
     "text": [
      "                   \r"
     ]
    },
    {
     "name": "stdout",
     "output_type": "stream",
     "text": [
      "2025-03-01 17:24:53,914 - Quant - WARNING - Multiple input ops exist, traversal to find closest producer is performed based on the first input\n"
     ]
    },
    {
     "name": "stderr",
     "output_type": "stream",
     "text": [
      "100%|██████████| 16/16 [09:43<00:00, 36.48s/it]\n",
      "                   \r"
     ]
    },
    {
     "name": "stdout",
     "output_type": "stream",
     "text": [
      "2025-03-01 17:36:08,160 - Utils - INFO - successfully created onnx model with 286/1981 node names updated\n"
     ]
    },
    {
     "name": "stderr",
     "output_type": "stream",
     "text": [
      "                   \r"
     ]
    },
    {
     "name": "stdout",
     "output_type": "stream",
     "text": [
      "2025-03-01 17:36:09,157 - Quant - INFO - Layers excluded from quantization: []\n"
     ]
    },
    {
     "name": "stderr",
     "output_type": "stream",
     "text": [
      "                   \r"
     ]
    },
    {
     "name": "stdout",
     "output_type": "stream",
     "text": [
      "2025-03-01 17:36:09,167 - Quant - WARNING - \u001b[31;21mQuantsim export will stop exporting encodings for saving and loading in a future AIMET release.\n",
      "To export encodings for saving and loading, use QuantizationSimModel's save_encodings_to_json() utility instead.\u001b[0m\n"
     ]
    },
    {
     "name": "stderr",
     "output_type": "stream",
     "text": [
      "                   \r"
     ]
    },
    {
     "name": "stdout",
     "output_type": "stream",
     "text": [
      "2025-03-01 17:36:09,181 - AutoQuant - INFO - The results of Batchnorm Folding is saved in /tmp/.trace/batchnorm_folding.pth and /tmp/.trace/batchnorm_folding.encodings.\n"
     ]
    },
    {
     "name": "stderr",
     "output_type": "stream",
     "text": [
      "                   \r"
     ]
    },
    {
     "name": "stdout",
     "output_type": "stream",
     "text": [
      "2025-03-01 17:36:09,186 - AutoQuant - INFO - Session finished: Batchnorm Folding. (eval score: 0.913000)\n"
     ]
    },
    {
     "name": "stderr",
     "output_type": "stream",
     "text": [
      "\\ Batchnorm Folding\n"
     ]
    },
    {
     "name": "stdout",
     "output_type": "stream",
     "text": [
      "2025-03-01 17:36:20,529 - ConnectedGraph - WARNING - Unable to isolate model outputs.\n",
      "2025-03-01 17:36:20,694 - Quant - INFO - No config file provided, defaulting to config file at /home/bmw/anaconda3/envs/swin_bhanu/lib/python3.10/site-packages/aimet_common/quantsim_config/default_config.json\n",
      "2025-03-01 17:36:20,715 - Quant - INFO - Unsupported op type Squeeze\n",
      "2025-03-01 17:36:20,716 - Quant - INFO - Unsupported op type Mean\n",
      "2025-03-01 17:36:20,736 - Quant - INFO - Selecting DefaultOpInstanceConfigGenerator to compute the specialized config. hw_version:default\n",
      "2025-03-01 17:36:20,740 - Quant - WARNING - Multiple input ops exist, traversal to find closest producer is performed based on the first input\n",
      "2025-03-01 17:36:20,740 - Quant - WARNING - Multiple input ops exist, traversal to find closest producer is performed based on the first input\n",
      "2025-03-01 17:36:20,741 - Quant - WARNING - Multiple input ops exist, traversal to find closest producer is performed based on the first input\n",
      "2025-03-01 17:36:20,741 - Quant - WARNING - Multiple input ops exist, traversal to find closest producer is performed based on the first input\n",
      "2025-03-01 17:36:20,741 - Quant - WARNING - Multiple input ops exist, traversal to find closest producer is performed based on the first input\n",
      "2025-03-01 17:36:20,742 - Quant - WARNING - Multiple input ops exist, traversal to find closest producer is performed based on the first input\n",
      "2025-03-01 17:36:20,742 - Quant - WARNING - Multiple input ops exist, traversal to find closest producer is performed based on the first input\n",
      "2025-03-01 17:36:20,742 - Quant - WARNING - Multiple input ops exist, traversal to find closest producer is performed based on the first input\n",
      "2025-03-01 17:36:20,743 - Quant - WARNING - Multiple input ops exist, traversal to find closest producer is performed based on the first input\n",
      "2025-03-01 17:36:20,743 - Quant - WARNING - Multiple input ops exist, traversal to find closest producer is performed based on the first input\n",
      "2025-03-01 17:36:20,743 - Quant - WARNING - Multiple input ops exist, traversal to find closest producer is performed based on the first input\n",
      "2025-03-01 17:36:20,743 - Quant - WARNING - Multiple input ops exist, traversal to find closest producer is performed based on the first input\n",
      "2025-03-01 17:36:20,744 - Quant - WARNING - Multiple input ops exist, traversal to find closest producer is performed based on the first input\n",
      "2025-03-01 17:36:20,744 - Quant - WARNING - Multiple input ops exist, traversal to find closest producer is performed based on the first input\n",
      "2025-03-01 17:36:20,744 - Quant - WARNING - Multiple input ops exist, traversal to find closest producer is performed based on the first input\n",
      "2025-03-01 17:36:20,745 - Quant - WARNING - Multiple input ops exist, traversal to find closest producer is performed based on the first input\n",
      "2025-03-01 17:36:20,745 - Quant - WARNING - Multiple input ops exist, traversal to find closest producer is performed based on the first input\n",
      "2025-03-01 17:36:20,745 - Quant - WARNING - Multiple input ops exist, traversal to find closest producer is performed based on the first input\n",
      "2025-03-01 17:36:20,746 - Quant - WARNING - Multiple input ops exist, traversal to find closest producer is performed based on the first input\n",
      "2025-03-01 17:36:20,746 - Quant - WARNING - Multiple input ops exist, traversal to find closest producer is performed based on the first input\n",
      "2025-03-01 17:36:20,746 - Quant - WARNING - Multiple input ops exist, traversal to find closest producer is performed based on the first input\n",
      "2025-03-01 17:36:20,747 - Quant - WARNING - Multiple input ops exist, traversal to find closest producer is performed based on the first input\n",
      "2025-03-01 17:36:20,747 - Quant - WARNING - Multiple input ops exist, traversal to find closest producer is performed based on the first input\n",
      "2025-03-01 17:36:20,747 - Quant - WARNING - Multiple input ops exist, traversal to find closest producer is performed based on the first input\n"
     ]
    },
    {
     "name": "stderr",
     "output_type": "stream",
     "text": [
      "100%|██████████| 16/16 [09:37<00:00, 36.11s/it]\n"
     ]
    },
    {
     "name": "stdout",
     "output_type": "stream",
     "text": [
      "Quantization accuracy before optmization 0.913\n"
     ]
    }
   ],
   "source": [
    "from aimet_torch.auto_quant import AutoQuant\n",
    "dummy_input = torch.randn(1,3,224,224)\n",
    "\n",
    "auto_quant= AutoQuant(prepared_model,dummy_input=dummy_input,data_loader=unlabelled_val_dataloader,eval_callback=eval_callback)\n",
    "\n",
    "sim, initial_accuracy = auto_quant.run_inference()\n",
    "print(f\"Quantization accuracy before optmization {initial_accuracy}\")"
   ]
  },
  {
   "cell_type": "code",
   "execution_count": 40,
   "metadata": {},
   "outputs": [],
   "source": [
    "from aimet_torch.meta.connectedgraph import ConnectedGraph\n",
    "ConnectedGraph.math_invariant_types.add(\"floor_divide\")"
   ]
  },
  {
   "cell_type": "code",
   "execution_count": 41,
   "metadata": {},
   "outputs": [],
   "source": [
    "from aimet_torch.adaround.adaround_weight import AdaroundParameters\n",
    "\n",
    "adaround_data_loader = val_loader\n",
    "\n",
    "adaround_params = AdaroundParameters(adaround_data_loader, num_batches=len(adaround_data_loader), default_num_iterations=100)\n",
    "auto_quant.set_adaround_params(adaround_params)"
   ]
  },
  {
   "cell_type": "code",
   "execution_count": 42,
   "metadata": {},
   "outputs": [
    {
     "name": "stdout",
     "output_type": "stream",
     "text": [
      "2025-03-01 17:54:57,184 - AutoQuant - INFO - Starting AutoQuant\n",
      "2025-03-01 17:55:29,930 - AutoQuant - INFO - Target eval score: 0.921000\n",
      "2025-03-01 17:55:29,931 - AutoQuant - INFO - FP32 eval score (W32A32): 0.931000\n"
     ]
    },
    {
     "name": "stderr",
     "output_type": "stream",
     "text": [
      "- Prepare Model\n",
      "                       \r"
     ]
    },
    {
     "name": "stdout",
     "output_type": "stream",
     "text": [
      "2025-03-01 17:55:43,180 - ConnectedGraph - WARNING - Unable to isolate model outputs.\n"
     ]
    },
    {
     "name": "stderr",
     "output_type": "stream",
     "text": [
      "                       \r"
     ]
    },
    {
     "name": "stdout",
     "output_type": "stream",
     "text": [
      "2025-03-01 17:55:43,364 - Quant - INFO - No config file provided, defaulting to config file at /home/bmw/anaconda3/envs/swin_bhanu/lib/python3.10/site-packages/aimet_common/quantsim_config/default_config.json\n"
     ]
    },
    {
     "name": "stderr",
     "output_type": "stream",
     "text": [
      "                       \r"
     ]
    },
    {
     "name": "stdout",
     "output_type": "stream",
     "text": [
      "2025-03-01 17:55:43,386 - Quant - INFO - Unsupported op type Squeeze\n"
     ]
    },
    {
     "name": "stderr",
     "output_type": "stream",
     "text": [
      "                       \r"
     ]
    },
    {
     "name": "stdout",
     "output_type": "stream",
     "text": [
      "2025-03-01 17:55:43,387 - Quant - INFO - Unsupported op type Mean\n"
     ]
    },
    {
     "name": "stderr",
     "output_type": "stream",
     "text": [
      "                       \r"
     ]
    },
    {
     "name": "stdout",
     "output_type": "stream",
     "text": [
      "2025-03-01 17:55:43,414 - Quant - INFO - Selecting DefaultOpInstanceConfigGenerator to compute the specialized config. hw_version:default\n"
     ]
    },
    {
     "name": "stderr",
     "output_type": "stream",
     "text": [
      "                       \r"
     ]
    },
    {
     "name": "stdout",
     "output_type": "stream",
     "text": [
      "2025-03-01 17:55:43,418 - Quant - WARNING - Multiple input ops exist, traversal to find closest producer is performed based on the first input\n"
     ]
    },
    {
     "name": "stderr",
     "output_type": "stream",
     "text": [
      "                       \r"
     ]
    },
    {
     "name": "stdout",
     "output_type": "stream",
     "text": [
      "2025-03-01 17:55:43,420 - Quant - WARNING - Multiple input ops exist, traversal to find closest producer is performed based on the first input\n"
     ]
    },
    {
     "name": "stderr",
     "output_type": "stream",
     "text": [
      "                       \r"
     ]
    },
    {
     "name": "stdout",
     "output_type": "stream",
     "text": [
      "2025-03-01 17:55:43,421 - Quant - WARNING - Multiple input ops exist, traversal to find closest producer is performed based on the first input\n"
     ]
    },
    {
     "name": "stderr",
     "output_type": "stream",
     "text": [
      "                       \r"
     ]
    },
    {
     "name": "stdout",
     "output_type": "stream",
     "text": [
      "2025-03-01 17:55:43,423 - Quant - WARNING - Multiple input ops exist, traversal to find closest producer is performed based on the first input\n"
     ]
    },
    {
     "name": "stderr",
     "output_type": "stream",
     "text": [
      "                       \r"
     ]
    },
    {
     "name": "stdout",
     "output_type": "stream",
     "text": [
      "2025-03-01 17:55:43,424 - Quant - WARNING - Multiple input ops exist, traversal to find closest producer is performed based on the first input\n"
     ]
    },
    {
     "name": "stderr",
     "output_type": "stream",
     "text": [
      "                       \r"
     ]
    },
    {
     "name": "stdout",
     "output_type": "stream",
     "text": [
      "2025-03-01 17:55:43,426 - Quant - WARNING - Multiple input ops exist, traversal to find closest producer is performed based on the first input\n"
     ]
    },
    {
     "name": "stderr",
     "output_type": "stream",
     "text": [
      "                       \r"
     ]
    },
    {
     "name": "stdout",
     "output_type": "stream",
     "text": [
      "2025-03-01 17:55:43,427 - Quant - WARNING - Multiple input ops exist, traversal to find closest producer is performed based on the first input\n"
     ]
    },
    {
     "name": "stderr",
     "output_type": "stream",
     "text": [
      "                       \r"
     ]
    },
    {
     "name": "stdout",
     "output_type": "stream",
     "text": [
      "2025-03-01 17:55:43,429 - Quant - WARNING - Multiple input ops exist, traversal to find closest producer is performed based on the first input\n"
     ]
    },
    {
     "name": "stderr",
     "output_type": "stream",
     "text": [
      "                       \r"
     ]
    },
    {
     "name": "stdout",
     "output_type": "stream",
     "text": [
      "2025-03-01 17:55:43,431 - Quant - WARNING - Multiple input ops exist, traversal to find closest producer is performed based on the first input\n"
     ]
    },
    {
     "name": "stderr",
     "output_type": "stream",
     "text": [
      "                       \r"
     ]
    },
    {
     "name": "stdout",
     "output_type": "stream",
     "text": [
      "2025-03-01 17:55:43,433 - Quant - WARNING - Multiple input ops exist, traversal to find closest producer is performed based on the first input\n"
     ]
    },
    {
     "name": "stderr",
     "output_type": "stream",
     "text": [
      "                       \r"
     ]
    },
    {
     "name": "stdout",
     "output_type": "stream",
     "text": [
      "2025-03-01 17:55:43,434 - Quant - WARNING - Multiple input ops exist, traversal to find closest producer is performed based on the first input\n"
     ]
    },
    {
     "name": "stderr",
     "output_type": "stream",
     "text": [
      "                       \r"
     ]
    },
    {
     "name": "stdout",
     "output_type": "stream",
     "text": [
      "2025-03-01 17:55:43,435 - Quant - WARNING - Multiple input ops exist, traversal to find closest producer is performed based on the first input\n"
     ]
    },
    {
     "name": "stderr",
     "output_type": "stream",
     "text": [
      "                       \r"
     ]
    },
    {
     "name": "stdout",
     "output_type": "stream",
     "text": [
      "2025-03-01 17:55:43,437 - Quant - WARNING - Multiple input ops exist, traversal to find closest producer is performed based on the first input\n"
     ]
    },
    {
     "name": "stderr",
     "output_type": "stream",
     "text": [
      "                       \r"
     ]
    },
    {
     "name": "stdout",
     "output_type": "stream",
     "text": [
      "2025-03-01 17:55:43,438 - Quant - WARNING - Multiple input ops exist, traversal to find closest producer is performed based on the first input\n"
     ]
    },
    {
     "name": "stderr",
     "output_type": "stream",
     "text": [
      "                       \r"
     ]
    },
    {
     "name": "stdout",
     "output_type": "stream",
     "text": [
      "2025-03-01 17:55:43,440 - Quant - WARNING - Multiple input ops exist, traversal to find closest producer is performed based on the first input\n"
     ]
    },
    {
     "name": "stderr",
     "output_type": "stream",
     "text": [
      "                       \r"
     ]
    },
    {
     "name": "stdout",
     "output_type": "stream",
     "text": [
      "2025-03-01 17:55:43,441 - Quant - WARNING - Multiple input ops exist, traversal to find closest producer is performed based on the first input\n"
     ]
    },
    {
     "name": "stderr",
     "output_type": "stream",
     "text": [
      "                       \r"
     ]
    },
    {
     "name": "stdout",
     "output_type": "stream",
     "text": [
      "2025-03-01 17:55:43,443 - Quant - WARNING - Multiple input ops exist, traversal to find closest producer is performed based on the first input\n"
     ]
    },
    {
     "name": "stderr",
     "output_type": "stream",
     "text": [
      "                       \r"
     ]
    },
    {
     "name": "stdout",
     "output_type": "stream",
     "text": [
      "2025-03-01 17:55:43,444 - Quant - WARNING - Multiple input ops exist, traversal to find closest producer is performed based on the first input\n"
     ]
    },
    {
     "name": "stderr",
     "output_type": "stream",
     "text": [
      "                       \r"
     ]
    },
    {
     "name": "stdout",
     "output_type": "stream",
     "text": [
      "2025-03-01 17:55:43,446 - Quant - WARNING - Multiple input ops exist, traversal to find closest producer is performed based on the first input\n"
     ]
    },
    {
     "name": "stderr",
     "output_type": "stream",
     "text": [
      "                       \r"
     ]
    },
    {
     "name": "stdout",
     "output_type": "stream",
     "text": [
      "2025-03-01 17:55:43,447 - Quant - WARNING - Multiple input ops exist, traversal to find closest producer is performed based on the first input\n"
     ]
    },
    {
     "name": "stderr",
     "output_type": "stream",
     "text": [
      "                       \r"
     ]
    },
    {
     "name": "stdout",
     "output_type": "stream",
     "text": [
      "2025-03-01 17:55:43,448 - Quant - WARNING - Multiple input ops exist, traversal to find closest producer is performed based on the first input\n"
     ]
    },
    {
     "name": "stderr",
     "output_type": "stream",
     "text": [
      "                       \r"
     ]
    },
    {
     "name": "stdout",
     "output_type": "stream",
     "text": [
      "2025-03-01 17:55:43,450 - Quant - WARNING - Multiple input ops exist, traversal to find closest producer is performed based on the first input\n"
     ]
    },
    {
     "name": "stderr",
     "output_type": "stream",
     "text": [
      "                       \r"
     ]
    },
    {
     "name": "stdout",
     "output_type": "stream",
     "text": [
      "2025-03-01 17:55:43,451 - Quant - WARNING - Multiple input ops exist, traversal to find closest producer is performed based on the first input\n"
     ]
    },
    {
     "name": "stderr",
     "output_type": "stream",
     "text": [
      "                       \r"
     ]
    },
    {
     "name": "stdout",
     "output_type": "stream",
     "text": [
      "2025-03-01 17:55:43,453 - Quant - WARNING - Multiple input ops exist, traversal to find closest producer is performed based on the first input\n"
     ]
    },
    {
     "name": "stderr",
     "output_type": "stream",
     "text": [
      "100%|██████████| 16/16 [01:19<00:00,  4.98s/it]\n",
      "                       \r"
     ]
    },
    {
     "name": "stdout",
     "output_type": "stream",
     "text": [
      "2025-03-01 17:58:28,785 - AutoQuant - INFO - Evaluation finished: W@tf / A@tf (eval score: 0.838000)\n"
     ]
    },
    {
     "name": "stderr",
     "output_type": "stream",
     "text": [
      "                       \r"
     ]
    },
    {
     "name": "stdout",
     "output_type": "stream",
     "text": [
      "2025-03-01 17:58:41,396 - ConnectedGraph - WARNING - Unable to isolate model outputs.\n"
     ]
    },
    {
     "name": "stderr",
     "output_type": "stream",
     "text": [
      "                       \r"
     ]
    },
    {
     "name": "stdout",
     "output_type": "stream",
     "text": [
      "2025-03-01 17:58:41,788 - Quant - INFO - No config file provided, defaulting to config file at /home/bmw/anaconda3/envs/swin_bhanu/lib/python3.10/site-packages/aimet_common/quantsim_config/default_config.json\n"
     ]
    },
    {
     "name": "stderr",
     "output_type": "stream",
     "text": [
      "                       \r"
     ]
    },
    {
     "name": "stdout",
     "output_type": "stream",
     "text": [
      "2025-03-01 17:58:41,810 - Quant - INFO - Unsupported op type Squeeze\n"
     ]
    },
    {
     "name": "stderr",
     "output_type": "stream",
     "text": [
      "                       \r"
     ]
    },
    {
     "name": "stdout",
     "output_type": "stream",
     "text": [
      "2025-03-01 17:58:41,811 - Quant - INFO - Unsupported op type Mean\n"
     ]
    },
    {
     "name": "stderr",
     "output_type": "stream",
     "text": [
      "                       \r"
     ]
    },
    {
     "name": "stdout",
     "output_type": "stream",
     "text": [
      "2025-03-01 17:58:41,836 - Quant - INFO - Selecting DefaultOpInstanceConfigGenerator to compute the specialized config. hw_version:default\n"
     ]
    },
    {
     "name": "stderr",
     "output_type": "stream",
     "text": [
      "                       \r"
     ]
    },
    {
     "name": "stdout",
     "output_type": "stream",
     "text": [
      "2025-03-01 17:58:41,841 - Quant - WARNING - Multiple input ops exist, traversal to find closest producer is performed based on the first input\n"
     ]
    },
    {
     "name": "stderr",
     "output_type": "stream",
     "text": [
      "                       \r"
     ]
    },
    {
     "name": "stdout",
     "output_type": "stream",
     "text": [
      "2025-03-01 17:58:41,842 - Quant - WARNING - Multiple input ops exist, traversal to find closest producer is performed based on the first input\n"
     ]
    },
    {
     "name": "stderr",
     "output_type": "stream",
     "text": [
      "                       \r"
     ]
    },
    {
     "name": "stdout",
     "output_type": "stream",
     "text": [
      "2025-03-01 17:58:41,843 - Quant - WARNING - Multiple input ops exist, traversal to find closest producer is performed based on the first input\n"
     ]
    },
    {
     "name": "stderr",
     "output_type": "stream",
     "text": [
      "                       \r"
     ]
    },
    {
     "name": "stdout",
     "output_type": "stream",
     "text": [
      "2025-03-01 17:58:41,845 - Quant - WARNING - Multiple input ops exist, traversal to find closest producer is performed based on the first input\n"
     ]
    },
    {
     "name": "stderr",
     "output_type": "stream",
     "text": [
      "                       \r"
     ]
    },
    {
     "name": "stdout",
     "output_type": "stream",
     "text": [
      "2025-03-01 17:58:41,846 - Quant - WARNING - Multiple input ops exist, traversal to find closest producer is performed based on the first input\n"
     ]
    },
    {
     "name": "stderr",
     "output_type": "stream",
     "text": [
      "                       \r"
     ]
    },
    {
     "name": "stdout",
     "output_type": "stream",
     "text": [
      "2025-03-01 17:58:41,847 - Quant - WARNING - Multiple input ops exist, traversal to find closest producer is performed based on the first input\n"
     ]
    },
    {
     "name": "stderr",
     "output_type": "stream",
     "text": [
      "                       \r"
     ]
    },
    {
     "name": "stdout",
     "output_type": "stream",
     "text": [
      "2025-03-01 17:58:41,849 - Quant - WARNING - Multiple input ops exist, traversal to find closest producer is performed based on the first input\n"
     ]
    },
    {
     "name": "stderr",
     "output_type": "stream",
     "text": [
      "                       \r"
     ]
    },
    {
     "name": "stdout",
     "output_type": "stream",
     "text": [
      "2025-03-01 17:58:41,850 - Quant - WARNING - Multiple input ops exist, traversal to find closest producer is performed based on the first input\n"
     ]
    },
    {
     "name": "stderr",
     "output_type": "stream",
     "text": [
      "                       \r"
     ]
    },
    {
     "name": "stdout",
     "output_type": "stream",
     "text": [
      "2025-03-01 17:58:41,852 - Quant - WARNING - Multiple input ops exist, traversal to find closest producer is performed based on the first input\n"
     ]
    },
    {
     "name": "stderr",
     "output_type": "stream",
     "text": [
      "                       \r"
     ]
    },
    {
     "name": "stdout",
     "output_type": "stream",
     "text": [
      "2025-03-01 17:58:41,853 - Quant - WARNING - Multiple input ops exist, traversal to find closest producer is performed based on the first input\n"
     ]
    },
    {
     "name": "stderr",
     "output_type": "stream",
     "text": [
      "                       \r"
     ]
    },
    {
     "name": "stdout",
     "output_type": "stream",
     "text": [
      "2025-03-01 17:58:41,855 - Quant - WARNING - Multiple input ops exist, traversal to find closest producer is performed based on the first input\n"
     ]
    },
    {
     "name": "stderr",
     "output_type": "stream",
     "text": [
      "                       \r"
     ]
    },
    {
     "name": "stdout",
     "output_type": "stream",
     "text": [
      "2025-03-01 17:58:41,856 - Quant - WARNING - Multiple input ops exist, traversal to find closest producer is performed based on the first input\n"
     ]
    },
    {
     "name": "stderr",
     "output_type": "stream",
     "text": [
      "                       \r"
     ]
    },
    {
     "name": "stdout",
     "output_type": "stream",
     "text": [
      "2025-03-01 17:58:41,858 - Quant - WARNING - Multiple input ops exist, traversal to find closest producer is performed based on the first input\n"
     ]
    },
    {
     "name": "stderr",
     "output_type": "stream",
     "text": [
      "                       \r"
     ]
    },
    {
     "name": "stdout",
     "output_type": "stream",
     "text": [
      "2025-03-01 17:58:41,859 - Quant - WARNING - Multiple input ops exist, traversal to find closest producer is performed based on the first input\n"
     ]
    },
    {
     "name": "stderr",
     "output_type": "stream",
     "text": [
      "                       \r"
     ]
    },
    {
     "name": "stdout",
     "output_type": "stream",
     "text": [
      "2025-03-01 17:58:41,861 - Quant - WARNING - Multiple input ops exist, traversal to find closest producer is performed based on the first input\n"
     ]
    },
    {
     "name": "stderr",
     "output_type": "stream",
     "text": [
      "                       \r"
     ]
    },
    {
     "name": "stdout",
     "output_type": "stream",
     "text": [
      "2025-03-01 17:58:41,862 - Quant - WARNING - Multiple input ops exist, traversal to find closest producer is performed based on the first input\n"
     ]
    },
    {
     "name": "stderr",
     "output_type": "stream",
     "text": [
      "                       \r"
     ]
    },
    {
     "name": "stdout",
     "output_type": "stream",
     "text": [
      "2025-03-01 17:58:41,864 - Quant - WARNING - Multiple input ops exist, traversal to find closest producer is performed based on the first input\n"
     ]
    },
    {
     "name": "stderr",
     "output_type": "stream",
     "text": [
      "                       \r"
     ]
    },
    {
     "name": "stdout",
     "output_type": "stream",
     "text": [
      "2025-03-01 17:58:41,866 - Quant - WARNING - Multiple input ops exist, traversal to find closest producer is performed based on the first input\n"
     ]
    },
    {
     "name": "stderr",
     "output_type": "stream",
     "text": [
      "                       \r"
     ]
    },
    {
     "name": "stdout",
     "output_type": "stream",
     "text": [
      "2025-03-01 17:58:41,867 - Quant - WARNING - Multiple input ops exist, traversal to find closest producer is performed based on the first input\n"
     ]
    },
    {
     "name": "stderr",
     "output_type": "stream",
     "text": [
      "                       \r"
     ]
    },
    {
     "name": "stdout",
     "output_type": "stream",
     "text": [
      "2025-03-01 17:58:41,868 - Quant - WARNING - Multiple input ops exist, traversal to find closest producer is performed based on the first input\n"
     ]
    },
    {
     "name": "stderr",
     "output_type": "stream",
     "text": [
      "                       \r"
     ]
    },
    {
     "name": "stdout",
     "output_type": "stream",
     "text": [
      "2025-03-01 17:58:41,870 - Quant - WARNING - Multiple input ops exist, traversal to find closest producer is performed based on the first input\n"
     ]
    },
    {
     "name": "stderr",
     "output_type": "stream",
     "text": [
      "                       \r"
     ]
    },
    {
     "name": "stdout",
     "output_type": "stream",
     "text": [
      "2025-03-01 17:58:41,871 - Quant - WARNING - Multiple input ops exist, traversal to find closest producer is performed based on the first input\n"
     ]
    },
    {
     "name": "stderr",
     "output_type": "stream",
     "text": [
      "                       \r"
     ]
    },
    {
     "name": "stdout",
     "output_type": "stream",
     "text": [
      "2025-03-01 17:58:41,873 - Quant - WARNING - Multiple input ops exist, traversal to find closest producer is performed based on the first input\n"
     ]
    },
    {
     "name": "stderr",
     "output_type": "stream",
     "text": [
      "                       \r"
     ]
    },
    {
     "name": "stdout",
     "output_type": "stream",
     "text": [
      "2025-03-01 17:58:41,874 - Quant - WARNING - Multiple input ops exist, traversal to find closest producer is performed based on the first input\n"
     ]
    },
    {
     "name": "stderr",
     "output_type": "stream",
     "text": [
      "100%|██████████| 16/16 [01:19<00:00,  4.96s/it]\n",
      "                       \r"
     ]
    },
    {
     "name": "stdout",
     "output_type": "stream",
     "text": [
      "2025-03-01 18:01:26,773 - AutoQuant - INFO - Evaluation finished: W@tf-enhanced / A@tf (eval score: 0.896000)\n"
     ]
    },
    {
     "name": "stderr",
     "output_type": "stream",
     "text": [
      "                       \r"
     ]
    },
    {
     "name": "stdout",
     "output_type": "stream",
     "text": [
      "2025-03-01 18:01:39,295 - ConnectedGraph - WARNING - Unable to isolate model outputs.\n"
     ]
    },
    {
     "name": "stderr",
     "output_type": "stream",
     "text": [
      "                       \r"
     ]
    },
    {
     "name": "stdout",
     "output_type": "stream",
     "text": [
      "2025-03-01 18:01:39,476 - Quant - INFO - No config file provided, defaulting to config file at /home/bmw/anaconda3/envs/swin_bhanu/lib/python3.10/site-packages/aimet_common/quantsim_config/default_config.json\n"
     ]
    },
    {
     "name": "stderr",
     "output_type": "stream",
     "text": [
      "                       \r"
     ]
    },
    {
     "name": "stdout",
     "output_type": "stream",
     "text": [
      "2025-03-01 18:01:39,498 - Quant - INFO - Unsupported op type Squeeze\n"
     ]
    },
    {
     "name": "stderr",
     "output_type": "stream",
     "text": [
      "                       \r"
     ]
    },
    {
     "name": "stdout",
     "output_type": "stream",
     "text": [
      "2025-03-01 18:01:39,500 - Quant - INFO - Unsupported op type Mean\n"
     ]
    },
    {
     "name": "stderr",
     "output_type": "stream",
     "text": [
      "                       \r"
     ]
    },
    {
     "name": "stdout",
     "output_type": "stream",
     "text": [
      "2025-03-01 18:01:39,525 - Quant - INFO - Selecting DefaultOpInstanceConfigGenerator to compute the specialized config. hw_version:default\n"
     ]
    },
    {
     "name": "stderr",
     "output_type": "stream",
     "text": [
      "                       \r"
     ]
    },
    {
     "name": "stdout",
     "output_type": "stream",
     "text": [
      "2025-03-01 18:01:39,529 - Quant - WARNING - Multiple input ops exist, traversal to find closest producer is performed based on the first input\n"
     ]
    },
    {
     "name": "stderr",
     "output_type": "stream",
     "text": [
      "                       \r"
     ]
    },
    {
     "name": "stdout",
     "output_type": "stream",
     "text": [
      "2025-03-01 18:01:39,530 - Quant - WARNING - Multiple input ops exist, traversal to find closest producer is performed based on the first input\n"
     ]
    },
    {
     "name": "stderr",
     "output_type": "stream",
     "text": [
      "                       \r"
     ]
    },
    {
     "name": "stdout",
     "output_type": "stream",
     "text": [
      "2025-03-01 18:01:39,532 - Quant - WARNING - Multiple input ops exist, traversal to find closest producer is performed based on the first input\n"
     ]
    },
    {
     "name": "stderr",
     "output_type": "stream",
     "text": [
      "                       \r"
     ]
    },
    {
     "name": "stdout",
     "output_type": "stream",
     "text": [
      "2025-03-01 18:01:39,533 - Quant - WARNING - Multiple input ops exist, traversal to find closest producer is performed based on the first input\n"
     ]
    },
    {
     "name": "stderr",
     "output_type": "stream",
     "text": [
      "                       \r"
     ]
    },
    {
     "name": "stdout",
     "output_type": "stream",
     "text": [
      "2025-03-01 18:01:39,535 - Quant - WARNING - Multiple input ops exist, traversal to find closest producer is performed based on the first input\n"
     ]
    },
    {
     "name": "stderr",
     "output_type": "stream",
     "text": [
      "                       \r"
     ]
    },
    {
     "name": "stdout",
     "output_type": "stream",
     "text": [
      "2025-03-01 18:01:39,536 - Quant - WARNING - Multiple input ops exist, traversal to find closest producer is performed based on the first input\n"
     ]
    },
    {
     "name": "stderr",
     "output_type": "stream",
     "text": [
      "                       \r"
     ]
    },
    {
     "name": "stdout",
     "output_type": "stream",
     "text": [
      "2025-03-01 18:01:39,538 - Quant - WARNING - Multiple input ops exist, traversal to find closest producer is performed based on the first input\n"
     ]
    },
    {
     "name": "stderr",
     "output_type": "stream",
     "text": [
      "                       \r"
     ]
    },
    {
     "name": "stdout",
     "output_type": "stream",
     "text": [
      "2025-03-01 18:01:39,539 - Quant - WARNING - Multiple input ops exist, traversal to find closest producer is performed based on the first input\n"
     ]
    },
    {
     "name": "stderr",
     "output_type": "stream",
     "text": [
      "                       \r"
     ]
    },
    {
     "name": "stdout",
     "output_type": "stream",
     "text": [
      "2025-03-01 18:01:39,541 - Quant - WARNING - Multiple input ops exist, traversal to find closest producer is performed based on the first input\n"
     ]
    },
    {
     "name": "stderr",
     "output_type": "stream",
     "text": [
      "                       \r"
     ]
    },
    {
     "name": "stdout",
     "output_type": "stream",
     "text": [
      "2025-03-01 18:01:39,542 - Quant - WARNING - Multiple input ops exist, traversal to find closest producer is performed based on the first input\n"
     ]
    },
    {
     "name": "stderr",
     "output_type": "stream",
     "text": [
      "                       \r"
     ]
    },
    {
     "name": "stdout",
     "output_type": "stream",
     "text": [
      "2025-03-01 18:01:39,544 - Quant - WARNING - Multiple input ops exist, traversal to find closest producer is performed based on the first input\n"
     ]
    },
    {
     "name": "stderr",
     "output_type": "stream",
     "text": [
      "                       \r"
     ]
    },
    {
     "name": "stdout",
     "output_type": "stream",
     "text": [
      "2025-03-01 18:01:39,545 - Quant - WARNING - Multiple input ops exist, traversal to find closest producer is performed based on the first input\n"
     ]
    },
    {
     "name": "stderr",
     "output_type": "stream",
     "text": [
      "                       \r"
     ]
    },
    {
     "name": "stdout",
     "output_type": "stream",
     "text": [
      "2025-03-01 18:01:39,546 - Quant - WARNING - Multiple input ops exist, traversal to find closest producer is performed based on the first input\n"
     ]
    },
    {
     "name": "stderr",
     "output_type": "stream",
     "text": [
      "                       \r"
     ]
    },
    {
     "name": "stdout",
     "output_type": "stream",
     "text": [
      "2025-03-01 18:01:39,548 - Quant - WARNING - Multiple input ops exist, traversal to find closest producer is performed based on the first input\n"
     ]
    },
    {
     "name": "stderr",
     "output_type": "stream",
     "text": [
      "                       \r"
     ]
    },
    {
     "name": "stdout",
     "output_type": "stream",
     "text": [
      "2025-03-01 18:01:39,549 - Quant - WARNING - Multiple input ops exist, traversal to find closest producer is performed based on the first input\n"
     ]
    },
    {
     "name": "stderr",
     "output_type": "stream",
     "text": [
      "                       \r"
     ]
    },
    {
     "name": "stdout",
     "output_type": "stream",
     "text": [
      "2025-03-01 18:01:39,551 - Quant - WARNING - Multiple input ops exist, traversal to find closest producer is performed based on the first input\n"
     ]
    },
    {
     "name": "stderr",
     "output_type": "stream",
     "text": [
      "                       \r"
     ]
    },
    {
     "name": "stdout",
     "output_type": "stream",
     "text": [
      "2025-03-01 18:01:39,552 - Quant - WARNING - Multiple input ops exist, traversal to find closest producer is performed based on the first input\n"
     ]
    },
    {
     "name": "stderr",
     "output_type": "stream",
     "text": [
      "                       \r"
     ]
    },
    {
     "name": "stdout",
     "output_type": "stream",
     "text": [
      "2025-03-01 18:01:39,554 - Quant - WARNING - Multiple input ops exist, traversal to find closest producer is performed based on the first input\n"
     ]
    },
    {
     "name": "stderr",
     "output_type": "stream",
     "text": [
      "                       \r"
     ]
    },
    {
     "name": "stdout",
     "output_type": "stream",
     "text": [
      "2025-03-01 18:01:39,555 - Quant - WARNING - Multiple input ops exist, traversal to find closest producer is performed based on the first input\n"
     ]
    },
    {
     "name": "stderr",
     "output_type": "stream",
     "text": [
      "                       \r"
     ]
    },
    {
     "name": "stdout",
     "output_type": "stream",
     "text": [
      "2025-03-01 18:01:39,557 - Quant - WARNING - Multiple input ops exist, traversal to find closest producer is performed based on the first input\n"
     ]
    },
    {
     "name": "stderr",
     "output_type": "stream",
     "text": [
      "                       \r"
     ]
    },
    {
     "name": "stdout",
     "output_type": "stream",
     "text": [
      "2025-03-01 18:01:39,558 - Quant - WARNING - Multiple input ops exist, traversal to find closest producer is performed based on the first input\n"
     ]
    },
    {
     "name": "stderr",
     "output_type": "stream",
     "text": [
      "                       \r"
     ]
    },
    {
     "name": "stdout",
     "output_type": "stream",
     "text": [
      "2025-03-01 18:01:39,560 - Quant - WARNING - Multiple input ops exist, traversal to find closest producer is performed based on the first input\n"
     ]
    },
    {
     "name": "stderr",
     "output_type": "stream",
     "text": [
      "                       \r"
     ]
    },
    {
     "name": "stdout",
     "output_type": "stream",
     "text": [
      "2025-03-01 18:01:39,561 - Quant - WARNING - Multiple input ops exist, traversal to find closest producer is performed based on the first input\n"
     ]
    },
    {
     "name": "stderr",
     "output_type": "stream",
     "text": [
      "                       \r"
     ]
    },
    {
     "name": "stdout",
     "output_type": "stream",
     "text": [
      "2025-03-01 18:01:39,563 - Quant - WARNING - Multiple input ops exist, traversal to find closest producer is performed based on the first input\n"
     ]
    },
    {
     "name": "stderr",
     "output_type": "stream",
     "text": [
      "100%|██████████| 16/16 [10:29<00:00, 39.33s/it]\n",
      "                       \r"
     ]
    },
    {
     "name": "stdout",
     "output_type": "stream",
     "text": [
      "2025-03-01 18:13:39,686 - AutoQuant - INFO - Evaluation finished: W@tf-enhanced / A@tf-enhanced (eval score: 0.913000)\n"
     ]
    },
    {
     "name": "stderr",
     "output_type": "stream",
     "text": [
      "                       \r"
     ]
    },
    {
     "name": "stdout",
     "output_type": "stream",
     "text": [
      "2025-03-01 18:13:52,473 - ConnectedGraph - WARNING - Unable to isolate model outputs.\n"
     ]
    },
    {
     "name": "stderr",
     "output_type": "stream",
     "text": [
      "                       \r"
     ]
    },
    {
     "name": "stdout",
     "output_type": "stream",
     "text": [
      "2025-03-01 18:13:52,653 - Quant - INFO - No config file provided, defaulting to config file at /home/bmw/anaconda3/envs/swin_bhanu/lib/python3.10/site-packages/aimet_common/quantsim_config/default_config.json\n"
     ]
    },
    {
     "name": "stderr",
     "output_type": "stream",
     "text": [
      "                       \r"
     ]
    },
    {
     "name": "stdout",
     "output_type": "stream",
     "text": [
      "2025-03-01 18:13:52,676 - Quant - INFO - Unsupported op type Squeeze\n"
     ]
    },
    {
     "name": "stderr",
     "output_type": "stream",
     "text": [
      "                       \r"
     ]
    },
    {
     "name": "stdout",
     "output_type": "stream",
     "text": [
      "2025-03-01 18:13:52,677 - Quant - INFO - Unsupported op type Mean\n"
     ]
    },
    {
     "name": "stderr",
     "output_type": "stream",
     "text": [
      "                       \r"
     ]
    },
    {
     "name": "stdout",
     "output_type": "stream",
     "text": [
      "2025-03-01 18:13:52,702 - Quant - INFO - Selecting DefaultOpInstanceConfigGenerator to compute the specialized config. hw_version:default\n"
     ]
    },
    {
     "name": "stderr",
     "output_type": "stream",
     "text": [
      "                       \r"
     ]
    },
    {
     "name": "stdout",
     "output_type": "stream",
     "text": [
      "2025-03-01 18:13:52,707 - Quant - WARNING - Multiple input ops exist, traversal to find closest producer is performed based on the first input\n"
     ]
    },
    {
     "name": "stderr",
     "output_type": "stream",
     "text": [
      "                       \r"
     ]
    },
    {
     "name": "stdout",
     "output_type": "stream",
     "text": [
      "2025-03-01 18:13:52,708 - Quant - WARNING - Multiple input ops exist, traversal to find closest producer is performed based on the first input\n"
     ]
    },
    {
     "name": "stderr",
     "output_type": "stream",
     "text": [
      "                       \r"
     ]
    },
    {
     "name": "stdout",
     "output_type": "stream",
     "text": [
      "2025-03-01 18:13:52,710 - Quant - WARNING - Multiple input ops exist, traversal to find closest producer is performed based on the first input\n"
     ]
    },
    {
     "name": "stderr",
     "output_type": "stream",
     "text": [
      "                       \r"
     ]
    },
    {
     "name": "stdout",
     "output_type": "stream",
     "text": [
      "2025-03-01 18:13:52,711 - Quant - WARNING - Multiple input ops exist, traversal to find closest producer is performed based on the first input\n"
     ]
    },
    {
     "name": "stderr",
     "output_type": "stream",
     "text": [
      "                       \r"
     ]
    },
    {
     "name": "stdout",
     "output_type": "stream",
     "text": [
      "2025-03-01 18:13:52,712 - Quant - WARNING - Multiple input ops exist, traversal to find closest producer is performed based on the first input\n"
     ]
    },
    {
     "name": "stderr",
     "output_type": "stream",
     "text": [
      "                       \r"
     ]
    },
    {
     "name": "stdout",
     "output_type": "stream",
     "text": [
      "2025-03-01 18:13:52,714 - Quant - WARNING - Multiple input ops exist, traversal to find closest producer is performed based on the first input\n"
     ]
    },
    {
     "name": "stderr",
     "output_type": "stream",
     "text": [
      "                       \r"
     ]
    },
    {
     "name": "stdout",
     "output_type": "stream",
     "text": [
      "2025-03-01 18:13:52,715 - Quant - WARNING - Multiple input ops exist, traversal to find closest producer is performed based on the first input\n"
     ]
    },
    {
     "name": "stderr",
     "output_type": "stream",
     "text": [
      "                       \r"
     ]
    },
    {
     "name": "stdout",
     "output_type": "stream",
     "text": [
      "2025-03-01 18:13:52,717 - Quant - WARNING - Multiple input ops exist, traversal to find closest producer is performed based on the first input\n"
     ]
    },
    {
     "name": "stderr",
     "output_type": "stream",
     "text": [
      "                       \r"
     ]
    },
    {
     "name": "stdout",
     "output_type": "stream",
     "text": [
      "2025-03-01 18:13:52,718 - Quant - WARNING - Multiple input ops exist, traversal to find closest producer is performed based on the first input\n"
     ]
    },
    {
     "name": "stderr",
     "output_type": "stream",
     "text": [
      "                       \r"
     ]
    },
    {
     "name": "stdout",
     "output_type": "stream",
     "text": [
      "2025-03-01 18:13:52,720 - Quant - WARNING - Multiple input ops exist, traversal to find closest producer is performed based on the first input\n"
     ]
    },
    {
     "name": "stderr",
     "output_type": "stream",
     "text": [
      "                       \r"
     ]
    },
    {
     "name": "stdout",
     "output_type": "stream",
     "text": [
      "2025-03-01 18:13:52,721 - Quant - WARNING - Multiple input ops exist, traversal to find closest producer is performed based on the first input\n"
     ]
    },
    {
     "name": "stderr",
     "output_type": "stream",
     "text": [
      "                       \r"
     ]
    },
    {
     "name": "stdout",
     "output_type": "stream",
     "text": [
      "2025-03-01 18:13:52,723 - Quant - WARNING - Multiple input ops exist, traversal to find closest producer is performed based on the first input\n"
     ]
    },
    {
     "name": "stderr",
     "output_type": "stream",
     "text": [
      "                       \r"
     ]
    },
    {
     "name": "stdout",
     "output_type": "stream",
     "text": [
      "2025-03-01 18:13:52,724 - Quant - WARNING - Multiple input ops exist, traversal to find closest producer is performed based on the first input\n"
     ]
    },
    {
     "name": "stderr",
     "output_type": "stream",
     "text": [
      "                       \r"
     ]
    },
    {
     "name": "stdout",
     "output_type": "stream",
     "text": [
      "2025-03-01 18:13:52,726 - Quant - WARNING - Multiple input ops exist, traversal to find closest producer is performed based on the first input\n"
     ]
    },
    {
     "name": "stderr",
     "output_type": "stream",
     "text": [
      "                       \r"
     ]
    },
    {
     "name": "stdout",
     "output_type": "stream",
     "text": [
      "2025-03-01 18:13:52,727 - Quant - WARNING - Multiple input ops exist, traversal to find closest producer is performed based on the first input\n"
     ]
    },
    {
     "name": "stderr",
     "output_type": "stream",
     "text": [
      "                       \r"
     ]
    },
    {
     "name": "stdout",
     "output_type": "stream",
     "text": [
      "2025-03-01 18:13:52,729 - Quant - WARNING - Multiple input ops exist, traversal to find closest producer is performed based on the first input\n"
     ]
    },
    {
     "name": "stderr",
     "output_type": "stream",
     "text": [
      "                       \r"
     ]
    },
    {
     "name": "stdout",
     "output_type": "stream",
     "text": [
      "2025-03-01 18:13:52,730 - Quant - WARNING - Multiple input ops exist, traversal to find closest producer is performed based on the first input\n"
     ]
    },
    {
     "name": "stderr",
     "output_type": "stream",
     "text": [
      "                       \r"
     ]
    },
    {
     "name": "stdout",
     "output_type": "stream",
     "text": [
      "2025-03-01 18:13:52,732 - Quant - WARNING - Multiple input ops exist, traversal to find closest producer is performed based on the first input\n"
     ]
    },
    {
     "name": "stderr",
     "output_type": "stream",
     "text": [
      "                       \r"
     ]
    },
    {
     "name": "stdout",
     "output_type": "stream",
     "text": [
      "2025-03-01 18:13:52,733 - Quant - WARNING - Multiple input ops exist, traversal to find closest producer is performed based on the first input\n"
     ]
    },
    {
     "name": "stderr",
     "output_type": "stream",
     "text": [
      "                       \r"
     ]
    },
    {
     "name": "stdout",
     "output_type": "stream",
     "text": [
      "2025-03-01 18:13:52,734 - Quant - WARNING - Multiple input ops exist, traversal to find closest producer is performed based on the first input\n"
     ]
    },
    {
     "name": "stderr",
     "output_type": "stream",
     "text": [
      "                       \r"
     ]
    },
    {
     "name": "stdout",
     "output_type": "stream",
     "text": [
      "2025-03-01 18:13:52,736 - Quant - WARNING - Multiple input ops exist, traversal to find closest producer is performed based on the first input\n"
     ]
    },
    {
     "name": "stderr",
     "output_type": "stream",
     "text": [
      "                       \r"
     ]
    },
    {
     "name": "stdout",
     "output_type": "stream",
     "text": [
      "2025-03-01 18:13:52,737 - Quant - WARNING - Multiple input ops exist, traversal to find closest producer is performed based on the first input\n"
     ]
    },
    {
     "name": "stderr",
     "output_type": "stream",
     "text": [
      "                       \r"
     ]
    },
    {
     "name": "stdout",
     "output_type": "stream",
     "text": [
      "2025-03-01 18:13:52,739 - Quant - WARNING - Multiple input ops exist, traversal to find closest producer is performed based on the first input\n"
     ]
    },
    {
     "name": "stderr",
     "output_type": "stream",
     "text": [
      "                       \r"
     ]
    },
    {
     "name": "stdout",
     "output_type": "stream",
     "text": [
      "2025-03-01 18:13:52,740 - Quant - WARNING - Multiple input ops exist, traversal to find closest producer is performed based on the first input\n"
     ]
    },
    {
     "name": "stderr",
     "output_type": "stream",
     "text": [
      "100%|██████████| 16/16 [10:13<00:00, 38.36s/it]\n",
      "                       \r"
     ]
    },
    {
     "name": "stdout",
     "output_type": "stream",
     "text": [
      "2025-03-01 18:25:39,921 - AutoQuant - INFO - Evaluation finished: W@tf-enhanced / A@99.9%ile (eval score: 0.887000)\n"
     ]
    },
    {
     "name": "stderr",
     "output_type": "stream",
     "text": [
      "                       \r"
     ]
    },
    {
     "name": "stdout",
     "output_type": "stream",
     "text": [
      "2025-03-01 18:25:52,723 - ConnectedGraph - WARNING - Unable to isolate model outputs.\n"
     ]
    },
    {
     "name": "stderr",
     "output_type": "stream",
     "text": [
      "                       \r"
     ]
    },
    {
     "name": "stdout",
     "output_type": "stream",
     "text": [
      "2025-03-01 18:25:52,904 - Quant - INFO - No config file provided, defaulting to config file at /home/bmw/anaconda3/envs/swin_bhanu/lib/python3.10/site-packages/aimet_common/quantsim_config/default_config.json\n"
     ]
    },
    {
     "name": "stderr",
     "output_type": "stream",
     "text": [
      "                       \r"
     ]
    },
    {
     "name": "stdout",
     "output_type": "stream",
     "text": [
      "2025-03-01 18:25:52,926 - Quant - INFO - Unsupported op type Squeeze\n"
     ]
    },
    {
     "name": "stderr",
     "output_type": "stream",
     "text": [
      "                       \r"
     ]
    },
    {
     "name": "stdout",
     "output_type": "stream",
     "text": [
      "2025-03-01 18:25:52,928 - Quant - INFO - Unsupported op type Mean\n"
     ]
    },
    {
     "name": "stderr",
     "output_type": "stream",
     "text": [
      "                       \r"
     ]
    },
    {
     "name": "stdout",
     "output_type": "stream",
     "text": [
      "2025-03-01 18:25:52,953 - Quant - INFO - Selecting DefaultOpInstanceConfigGenerator to compute the specialized config. hw_version:default\n"
     ]
    },
    {
     "name": "stderr",
     "output_type": "stream",
     "text": [
      "                       \r"
     ]
    },
    {
     "name": "stdout",
     "output_type": "stream",
     "text": [
      "2025-03-01 18:25:52,957 - Quant - WARNING - Multiple input ops exist, traversal to find closest producer is performed based on the first input\n"
     ]
    },
    {
     "name": "stderr",
     "output_type": "stream",
     "text": [
      "                       \r"
     ]
    },
    {
     "name": "stdout",
     "output_type": "stream",
     "text": [
      "2025-03-01 18:25:52,958 - Quant - WARNING - Multiple input ops exist, traversal to find closest producer is performed based on the first input\n"
     ]
    },
    {
     "name": "stderr",
     "output_type": "stream",
     "text": [
      "                       \r"
     ]
    },
    {
     "name": "stdout",
     "output_type": "stream",
     "text": [
      "2025-03-01 18:25:52,960 - Quant - WARNING - Multiple input ops exist, traversal to find closest producer is performed based on the first input\n"
     ]
    },
    {
     "name": "stderr",
     "output_type": "stream",
     "text": [
      "                       \r"
     ]
    },
    {
     "name": "stdout",
     "output_type": "stream",
     "text": [
      "2025-03-01 18:25:52,961 - Quant - WARNING - Multiple input ops exist, traversal to find closest producer is performed based on the first input\n"
     ]
    },
    {
     "name": "stderr",
     "output_type": "stream",
     "text": [
      "                       \r"
     ]
    },
    {
     "name": "stdout",
     "output_type": "stream",
     "text": [
      "2025-03-01 18:25:52,963 - Quant - WARNING - Multiple input ops exist, traversal to find closest producer is performed based on the first input\n"
     ]
    },
    {
     "name": "stderr",
     "output_type": "stream",
     "text": [
      "                       \r"
     ]
    },
    {
     "name": "stdout",
     "output_type": "stream",
     "text": [
      "2025-03-01 18:25:52,964 - Quant - WARNING - Multiple input ops exist, traversal to find closest producer is performed based on the first input\n"
     ]
    },
    {
     "name": "stderr",
     "output_type": "stream",
     "text": [
      "                       \r"
     ]
    },
    {
     "name": "stdout",
     "output_type": "stream",
     "text": [
      "2025-03-01 18:25:52,965 - Quant - WARNING - Multiple input ops exist, traversal to find closest producer is performed based on the first input\n"
     ]
    },
    {
     "name": "stderr",
     "output_type": "stream",
     "text": [
      "                       \r"
     ]
    },
    {
     "name": "stdout",
     "output_type": "stream",
     "text": [
      "2025-03-01 18:25:52,966 - Quant - WARNING - Multiple input ops exist, traversal to find closest producer is performed based on the first input\n"
     ]
    },
    {
     "name": "stderr",
     "output_type": "stream",
     "text": [
      "                       \r"
     ]
    },
    {
     "name": "stdout",
     "output_type": "stream",
     "text": [
      "2025-03-01 18:25:52,968 - Quant - WARNING - Multiple input ops exist, traversal to find closest producer is performed based on the first input\n"
     ]
    },
    {
     "name": "stderr",
     "output_type": "stream",
     "text": [
      "                       \r"
     ]
    },
    {
     "name": "stdout",
     "output_type": "stream",
     "text": [
      "2025-03-01 18:25:52,969 - Quant - WARNING - Multiple input ops exist, traversal to find closest producer is performed based on the first input\n"
     ]
    },
    {
     "name": "stderr",
     "output_type": "stream",
     "text": [
      "                       \r"
     ]
    },
    {
     "name": "stdout",
     "output_type": "stream",
     "text": [
      "2025-03-01 18:25:52,970 - Quant - WARNING - Multiple input ops exist, traversal to find closest producer is performed based on the first input\n"
     ]
    },
    {
     "name": "stderr",
     "output_type": "stream",
     "text": [
      "                       \r"
     ]
    },
    {
     "name": "stdout",
     "output_type": "stream",
     "text": [
      "2025-03-01 18:25:52,972 - Quant - WARNING - Multiple input ops exist, traversal to find closest producer is performed based on the first input\n"
     ]
    },
    {
     "name": "stderr",
     "output_type": "stream",
     "text": [
      "                       \r"
     ]
    },
    {
     "name": "stdout",
     "output_type": "stream",
     "text": [
      "2025-03-01 18:25:52,973 - Quant - WARNING - Multiple input ops exist, traversal to find closest producer is performed based on the first input\n"
     ]
    },
    {
     "name": "stderr",
     "output_type": "stream",
     "text": [
      "                       \r"
     ]
    },
    {
     "name": "stdout",
     "output_type": "stream",
     "text": [
      "2025-03-01 18:25:52,974 - Quant - WARNING - Multiple input ops exist, traversal to find closest producer is performed based on the first input\n"
     ]
    },
    {
     "name": "stderr",
     "output_type": "stream",
     "text": [
      "                       \r"
     ]
    },
    {
     "name": "stdout",
     "output_type": "stream",
     "text": [
      "2025-03-01 18:25:52,976 - Quant - WARNING - Multiple input ops exist, traversal to find closest producer is performed based on the first input\n"
     ]
    },
    {
     "name": "stderr",
     "output_type": "stream",
     "text": [
      "                       \r"
     ]
    },
    {
     "name": "stdout",
     "output_type": "stream",
     "text": [
      "2025-03-01 18:25:52,977 - Quant - WARNING - Multiple input ops exist, traversal to find closest producer is performed based on the first input\n"
     ]
    },
    {
     "name": "stderr",
     "output_type": "stream",
     "text": [
      "                       \r"
     ]
    },
    {
     "name": "stdout",
     "output_type": "stream",
     "text": [
      "2025-03-01 18:25:52,978 - Quant - WARNING - Multiple input ops exist, traversal to find closest producer is performed based on the first input\n"
     ]
    },
    {
     "name": "stderr",
     "output_type": "stream",
     "text": [
      "                       \r"
     ]
    },
    {
     "name": "stdout",
     "output_type": "stream",
     "text": [
      "2025-03-01 18:25:52,980 - Quant - WARNING - Multiple input ops exist, traversal to find closest producer is performed based on the first input\n"
     ]
    },
    {
     "name": "stderr",
     "output_type": "stream",
     "text": [
      "                       \r"
     ]
    },
    {
     "name": "stdout",
     "output_type": "stream",
     "text": [
      "2025-03-01 18:25:52,981 - Quant - WARNING - Multiple input ops exist, traversal to find closest producer is performed based on the first input\n"
     ]
    },
    {
     "name": "stderr",
     "output_type": "stream",
     "text": [
      "                       \r"
     ]
    },
    {
     "name": "stdout",
     "output_type": "stream",
     "text": [
      "2025-03-01 18:25:52,982 - Quant - WARNING - Multiple input ops exist, traversal to find closest producer is performed based on the first input\n"
     ]
    },
    {
     "name": "stderr",
     "output_type": "stream",
     "text": [
      "                       \r"
     ]
    },
    {
     "name": "stdout",
     "output_type": "stream",
     "text": [
      "2025-03-01 18:25:52,984 - Quant - WARNING - Multiple input ops exist, traversal to find closest producer is performed based on the first input\n"
     ]
    },
    {
     "name": "stderr",
     "output_type": "stream",
     "text": [
      "                       \r"
     ]
    },
    {
     "name": "stdout",
     "output_type": "stream",
     "text": [
      "2025-03-01 18:25:52,985 - Quant - WARNING - Multiple input ops exist, traversal to find closest producer is performed based on the first input\n"
     ]
    },
    {
     "name": "stderr",
     "output_type": "stream",
     "text": [
      "                       \r"
     ]
    },
    {
     "name": "stdout",
     "output_type": "stream",
     "text": [
      "2025-03-01 18:25:52,987 - Quant - WARNING - Multiple input ops exist, traversal to find closest producer is performed based on the first input\n"
     ]
    },
    {
     "name": "stderr",
     "output_type": "stream",
     "text": [
      "                       \r"
     ]
    },
    {
     "name": "stdout",
     "output_type": "stream",
     "text": [
      "2025-03-01 18:25:52,988 - Quant - WARNING - Multiple input ops exist, traversal to find closest producer is performed based on the first input\n"
     ]
    },
    {
     "name": "stderr",
     "output_type": "stream",
     "text": [
      "100%|██████████| 16/16 [10:16<00:00, 38.52s/it]\n",
      "                       \r"
     ]
    },
    {
     "name": "stdout",
     "output_type": "stream",
     "text": [
      "2025-03-01 18:37:40,940 - AutoQuant - INFO - Evaluation finished: W@tf-enhanced / A@99.99%ile (eval score: 0.935000)\n"
     ]
    },
    {
     "name": "stderr",
     "output_type": "stream",
     "text": [
      "\\ QuantScheme Selection\n",
      "                \r"
     ]
    },
    {
     "name": "stdout",
     "output_type": "stream",
     "text": [
      "2025-03-01 18:37:52,356 - ConnectedGraph - WARNING - Unable to isolate model outputs.\n"
     ]
    },
    {
     "name": "stderr",
     "output_type": "stream",
     "text": [
      "                \r"
     ]
    },
    {
     "name": "stdout",
     "output_type": "stream",
     "text": [
      "2025-03-01 18:37:52,522 - Quant - INFO - No config file provided, defaulting to config file at /home/bmw/anaconda3/envs/swin_bhanu/lib/python3.10/site-packages/aimet_common/quantsim_config/default_config.json\n"
     ]
    },
    {
     "name": "stderr",
     "output_type": "stream",
     "text": [
      "                \r"
     ]
    },
    {
     "name": "stdout",
     "output_type": "stream",
     "text": [
      "2025-03-01 18:37:52,545 - Quant - INFO - Unsupported op type Squeeze\n"
     ]
    },
    {
     "name": "stderr",
     "output_type": "stream",
     "text": [
      "                \r"
     ]
    },
    {
     "name": "stdout",
     "output_type": "stream",
     "text": [
      "2025-03-01 18:37:52,546 - Quant - INFO - Unsupported op type Mean\n"
     ]
    },
    {
     "name": "stderr",
     "output_type": "stream",
     "text": [
      "                \r"
     ]
    },
    {
     "name": "stdout",
     "output_type": "stream",
     "text": [
      "2025-03-01 18:37:52,567 - Quant - INFO - Selecting DefaultOpInstanceConfigGenerator to compute the specialized config. hw_version:default\n"
     ]
    },
    {
     "name": "stderr",
     "output_type": "stream",
     "text": [
      "                \r"
     ]
    },
    {
     "name": "stdout",
     "output_type": "stream",
     "text": [
      "2025-03-01 18:37:52,572 - Quant - WARNING - Multiple input ops exist, traversal to find closest producer is performed based on the first input\n"
     ]
    },
    {
     "name": "stderr",
     "output_type": "stream",
     "text": [
      "                \r"
     ]
    },
    {
     "name": "stdout",
     "output_type": "stream",
     "text": [
      "2025-03-01 18:37:52,574 - Quant - WARNING - Multiple input ops exist, traversal to find closest producer is performed based on the first input\n"
     ]
    },
    {
     "name": "stderr",
     "output_type": "stream",
     "text": [
      "                \r"
     ]
    },
    {
     "name": "stdout",
     "output_type": "stream",
     "text": [
      "2025-03-01 18:37:52,575 - Quant - WARNING - Multiple input ops exist, traversal to find closest producer is performed based on the first input\n"
     ]
    },
    {
     "name": "stderr",
     "output_type": "stream",
     "text": [
      "                \r"
     ]
    },
    {
     "name": "stdout",
     "output_type": "stream",
     "text": [
      "2025-03-01 18:37:52,576 - Quant - WARNING - Multiple input ops exist, traversal to find closest producer is performed based on the first input\n"
     ]
    },
    {
     "name": "stderr",
     "output_type": "stream",
     "text": [
      "                \r"
     ]
    },
    {
     "name": "stdout",
     "output_type": "stream",
     "text": [
      "2025-03-01 18:37:52,578 - Quant - WARNING - Multiple input ops exist, traversal to find closest producer is performed based on the first input\n"
     ]
    },
    {
     "name": "stderr",
     "output_type": "stream",
     "text": [
      "                \r"
     ]
    },
    {
     "name": "stdout",
     "output_type": "stream",
     "text": [
      "2025-03-01 18:37:52,579 - Quant - WARNING - Multiple input ops exist, traversal to find closest producer is performed based on the first input\n"
     ]
    },
    {
     "name": "stderr",
     "output_type": "stream",
     "text": [
      "                \r"
     ]
    },
    {
     "name": "stdout",
     "output_type": "stream",
     "text": [
      "2025-03-01 18:37:52,580 - Quant - WARNING - Multiple input ops exist, traversal to find closest producer is performed based on the first input\n"
     ]
    },
    {
     "name": "stderr",
     "output_type": "stream",
     "text": [
      "                \r"
     ]
    },
    {
     "name": "stdout",
     "output_type": "stream",
     "text": [
      "2025-03-01 18:37:52,582 - Quant - WARNING - Multiple input ops exist, traversal to find closest producer is performed based on the first input\n"
     ]
    },
    {
     "name": "stderr",
     "output_type": "stream",
     "text": [
      "                \r"
     ]
    },
    {
     "name": "stdout",
     "output_type": "stream",
     "text": [
      "2025-03-01 18:37:52,583 - Quant - WARNING - Multiple input ops exist, traversal to find closest producer is performed based on the first input\n"
     ]
    },
    {
     "name": "stderr",
     "output_type": "stream",
     "text": [
      "                \r"
     ]
    },
    {
     "name": "stdout",
     "output_type": "stream",
     "text": [
      "2025-03-01 18:37:52,584 - Quant - WARNING - Multiple input ops exist, traversal to find closest producer is performed based on the first input\n"
     ]
    },
    {
     "name": "stderr",
     "output_type": "stream",
     "text": [
      "                \r"
     ]
    },
    {
     "name": "stdout",
     "output_type": "stream",
     "text": [
      "2025-03-01 18:37:52,586 - Quant - WARNING - Multiple input ops exist, traversal to find closest producer is performed based on the first input\n"
     ]
    },
    {
     "name": "stderr",
     "output_type": "stream",
     "text": [
      "                \r"
     ]
    },
    {
     "name": "stdout",
     "output_type": "stream",
     "text": [
      "2025-03-01 18:37:52,587 - Quant - WARNING - Multiple input ops exist, traversal to find closest producer is performed based on the first input\n"
     ]
    },
    {
     "name": "stderr",
     "output_type": "stream",
     "text": [
      "                \r"
     ]
    },
    {
     "name": "stdout",
     "output_type": "stream",
     "text": [
      "2025-03-01 18:37:52,588 - Quant - WARNING - Multiple input ops exist, traversal to find closest producer is performed based on the first input\n"
     ]
    },
    {
     "name": "stderr",
     "output_type": "stream",
     "text": [
      "                \r"
     ]
    },
    {
     "name": "stdout",
     "output_type": "stream",
     "text": [
      "2025-03-01 18:37:52,589 - Quant - WARNING - Multiple input ops exist, traversal to find closest producer is performed based on the first input\n"
     ]
    },
    {
     "name": "stderr",
     "output_type": "stream",
     "text": [
      "                \r"
     ]
    },
    {
     "name": "stdout",
     "output_type": "stream",
     "text": [
      "2025-03-01 18:37:52,591 - Quant - WARNING - Multiple input ops exist, traversal to find closest producer is performed based on the first input\n"
     ]
    },
    {
     "name": "stderr",
     "output_type": "stream",
     "text": [
      "                \r"
     ]
    },
    {
     "name": "stdout",
     "output_type": "stream",
     "text": [
      "2025-03-01 18:37:52,592 - Quant - WARNING - Multiple input ops exist, traversal to find closest producer is performed based on the first input\n"
     ]
    },
    {
     "name": "stderr",
     "output_type": "stream",
     "text": [
      "                \r"
     ]
    },
    {
     "name": "stdout",
     "output_type": "stream",
     "text": [
      "2025-03-01 18:37:52,593 - Quant - WARNING - Multiple input ops exist, traversal to find closest producer is performed based on the first input\n"
     ]
    },
    {
     "name": "stderr",
     "output_type": "stream",
     "text": [
      "                \r"
     ]
    },
    {
     "name": "stdout",
     "output_type": "stream",
     "text": [
      "2025-03-01 18:37:52,595 - Quant - WARNING - Multiple input ops exist, traversal to find closest producer is performed based on the first input\n"
     ]
    },
    {
     "name": "stderr",
     "output_type": "stream",
     "text": [
      "                \r"
     ]
    },
    {
     "name": "stdout",
     "output_type": "stream",
     "text": [
      "2025-03-01 18:37:52,596 - Quant - WARNING - Multiple input ops exist, traversal to find closest producer is performed based on the first input\n"
     ]
    },
    {
     "name": "stderr",
     "output_type": "stream",
     "text": [
      "                \r"
     ]
    },
    {
     "name": "stdout",
     "output_type": "stream",
     "text": [
      "2025-03-01 18:37:52,597 - Quant - WARNING - Multiple input ops exist, traversal to find closest producer is performed based on the first input\n"
     ]
    },
    {
     "name": "stderr",
     "output_type": "stream",
     "text": [
      "                \r"
     ]
    },
    {
     "name": "stdout",
     "output_type": "stream",
     "text": [
      "2025-03-01 18:37:52,599 - Quant - WARNING - Multiple input ops exist, traversal to find closest producer is performed based on the first input\n"
     ]
    },
    {
     "name": "stderr",
     "output_type": "stream",
     "text": [
      "                \r"
     ]
    },
    {
     "name": "stdout",
     "output_type": "stream",
     "text": [
      "2025-03-01 18:37:52,600 - Quant - WARNING - Multiple input ops exist, traversal to find closest producer is performed based on the first input\n"
     ]
    },
    {
     "name": "stderr",
     "output_type": "stream",
     "text": [
      "                \r"
     ]
    },
    {
     "name": "stdout",
     "output_type": "stream",
     "text": [
      "2025-03-01 18:37:52,601 - Quant - WARNING - Multiple input ops exist, traversal to find closest producer is performed based on the first input\n"
     ]
    },
    {
     "name": "stderr",
     "output_type": "stream",
     "text": [
      "                \r"
     ]
    },
    {
     "name": "stdout",
     "output_type": "stream",
     "text": [
      "2025-03-01 18:37:52,603 - Quant - WARNING - Multiple input ops exist, traversal to find closest producer is performed based on the first input\n"
     ]
    },
    {
     "name": "stderr",
     "output_type": "stream",
     "text": [
      "100%|██████████| 16/16 [10:16<00:00, 38.52s/it]\n",
      "                \r"
     ]
    },
    {
     "name": "stdout",
     "output_type": "stream",
     "text": [
      "2025-03-01 18:49:38,457 - AutoQuant - INFO - Evaluation finished: W32A8 (eval score: 0.927000)\n"
     ]
    },
    {
     "name": "stderr",
     "output_type": "stream",
     "text": [
      "- W32 Evaluation\n",
      "                   \r"
     ]
    },
    {
     "name": "stdout",
     "output_type": "stream",
     "text": [
      "2025-03-01 18:49:39,013 - AutoQuant - INFO - Session finished: Batchnorm Folding. (eval score: 0.913000)\n"
     ]
    },
    {
     "name": "stderr",
     "output_type": "stream",
     "text": [
      "- Batchnorm Folding\n",
      "                          \r"
     ]
    },
    {
     "name": "stdout",
     "output_type": "stream",
     "text": [
      "2025-03-01 18:49:49,660 - ConnectedGraph - WARNING - Unable to isolate model outputs.\n"
     ]
    },
    {
     "name": "stderr",
     "output_type": "stream",
     "text": [
      "                          \r"
     ]
    },
    {
     "name": "stdout",
     "output_type": "stream",
     "text": [
      "2025-03-01 18:50:01,312 - ConnectedGraph - WARNING - Unable to isolate model outputs.\n"
     ]
    },
    {
     "name": "stderr",
     "output_type": "stream",
     "text": [
      "                          \r"
     ]
    },
    {
     "name": "stdout",
     "output_type": "stream",
     "text": [
      "2025-03-01 18:50:01,439 - CrossLayerEqualization - INFO - High Bias folding is not supported for models without BatchNorm Layers\n"
     ]
    },
    {
     "name": "stderr",
     "output_type": "stream",
     "text": [
      "                          \r"
     ]
    },
    {
     "name": "stdout",
     "output_type": "stream",
     "text": [
      "2025-03-01 18:50:14,034 - ConnectedGraph - WARNING - Unable to isolate model outputs.\n"
     ]
    },
    {
     "name": "stderr",
     "output_type": "stream",
     "text": [
      "                          \r"
     ]
    },
    {
     "name": "stdout",
     "output_type": "stream",
     "text": [
      "2025-03-01 18:50:14,200 - Quant - INFO - No config file provided, defaulting to config file at /home/bmw/anaconda3/envs/swin_bhanu/lib/python3.10/site-packages/aimet_common/quantsim_config/default_config.json\n"
     ]
    },
    {
     "name": "stderr",
     "output_type": "stream",
     "text": [
      "                          \r"
     ]
    },
    {
     "name": "stdout",
     "output_type": "stream",
     "text": [
      "2025-03-01 18:50:14,223 - Quant - INFO - Unsupported op type Squeeze\n"
     ]
    },
    {
     "name": "stderr",
     "output_type": "stream",
     "text": [
      "                          \r"
     ]
    },
    {
     "name": "stdout",
     "output_type": "stream",
     "text": [
      "2025-03-01 18:50:14,224 - Quant - INFO - Unsupported op type Mean\n"
     ]
    },
    {
     "name": "stderr",
     "output_type": "stream",
     "text": [
      "                          \r"
     ]
    },
    {
     "name": "stdout",
     "output_type": "stream",
     "text": [
      "2025-03-01 18:50:14,245 - Quant - INFO - Selecting DefaultOpInstanceConfigGenerator to compute the specialized config. hw_version:default\n"
     ]
    },
    {
     "name": "stderr",
     "output_type": "stream",
     "text": [
      "                          \r"
     ]
    },
    {
     "name": "stdout",
     "output_type": "stream",
     "text": [
      "2025-03-01 18:50:14,250 - Quant - WARNING - Multiple input ops exist, traversal to find closest producer is performed based on the first input\n"
     ]
    },
    {
     "name": "stderr",
     "output_type": "stream",
     "text": [
      "                          \r"
     ]
    },
    {
     "name": "stdout",
     "output_type": "stream",
     "text": [
      "2025-03-01 18:50:14,252 - Quant - WARNING - Multiple input ops exist, traversal to find closest producer is performed based on the first input\n"
     ]
    },
    {
     "name": "stderr",
     "output_type": "stream",
     "text": [
      "                          \r"
     ]
    },
    {
     "name": "stdout",
     "output_type": "stream",
     "text": [
      "2025-03-01 18:50:14,253 - Quant - WARNING - Multiple input ops exist, traversal to find closest producer is performed based on the first input\n"
     ]
    },
    {
     "name": "stderr",
     "output_type": "stream",
     "text": [
      "                          \r"
     ]
    },
    {
     "name": "stdout",
     "output_type": "stream",
     "text": [
      "2025-03-01 18:50:14,254 - Quant - WARNING - Multiple input ops exist, traversal to find closest producer is performed based on the first input\n"
     ]
    },
    {
     "name": "stderr",
     "output_type": "stream",
     "text": [
      "                          \r"
     ]
    },
    {
     "name": "stdout",
     "output_type": "stream",
     "text": [
      "2025-03-01 18:50:14,255 - Quant - WARNING - Multiple input ops exist, traversal to find closest producer is performed based on the first input\n"
     ]
    },
    {
     "name": "stderr",
     "output_type": "stream",
     "text": [
      "                          \r"
     ]
    },
    {
     "name": "stdout",
     "output_type": "stream",
     "text": [
      "2025-03-01 18:50:14,257 - Quant - WARNING - Multiple input ops exist, traversal to find closest producer is performed based on the first input\n"
     ]
    },
    {
     "name": "stderr",
     "output_type": "stream",
     "text": [
      "                          \r"
     ]
    },
    {
     "name": "stdout",
     "output_type": "stream",
     "text": [
      "2025-03-01 18:50:14,258 - Quant - WARNING - Multiple input ops exist, traversal to find closest producer is performed based on the first input\n"
     ]
    },
    {
     "name": "stderr",
     "output_type": "stream",
     "text": [
      "                          \r"
     ]
    },
    {
     "name": "stdout",
     "output_type": "stream",
     "text": [
      "2025-03-01 18:50:14,259 - Quant - WARNING - Multiple input ops exist, traversal to find closest producer is performed based on the first input\n"
     ]
    },
    {
     "name": "stderr",
     "output_type": "stream",
     "text": [
      "                          \r"
     ]
    },
    {
     "name": "stdout",
     "output_type": "stream",
     "text": [
      "2025-03-01 18:50:14,261 - Quant - WARNING - Multiple input ops exist, traversal to find closest producer is performed based on the first input\n"
     ]
    },
    {
     "name": "stderr",
     "output_type": "stream",
     "text": [
      "                          \r"
     ]
    },
    {
     "name": "stdout",
     "output_type": "stream",
     "text": [
      "2025-03-01 18:50:14,262 - Quant - WARNING - Multiple input ops exist, traversal to find closest producer is performed based on the first input\n"
     ]
    },
    {
     "name": "stderr",
     "output_type": "stream",
     "text": [
      "                          \r"
     ]
    },
    {
     "name": "stdout",
     "output_type": "stream",
     "text": [
      "2025-03-01 18:50:14,263 - Quant - WARNING - Multiple input ops exist, traversal to find closest producer is performed based on the first input\n"
     ]
    },
    {
     "name": "stderr",
     "output_type": "stream",
     "text": [
      "                          \r"
     ]
    },
    {
     "name": "stdout",
     "output_type": "stream",
     "text": [
      "2025-03-01 18:50:14,264 - Quant - WARNING - Multiple input ops exist, traversal to find closest producer is performed based on the first input\n"
     ]
    },
    {
     "name": "stderr",
     "output_type": "stream",
     "text": [
      "                          \r"
     ]
    },
    {
     "name": "stdout",
     "output_type": "stream",
     "text": [
      "2025-03-01 18:50:14,266 - Quant - WARNING - Multiple input ops exist, traversal to find closest producer is performed based on the first input\n"
     ]
    },
    {
     "name": "stderr",
     "output_type": "stream",
     "text": [
      "                          \r"
     ]
    },
    {
     "name": "stdout",
     "output_type": "stream",
     "text": [
      "2025-03-01 18:50:14,267 - Quant - WARNING - Multiple input ops exist, traversal to find closest producer is performed based on the first input\n"
     ]
    },
    {
     "name": "stderr",
     "output_type": "stream",
     "text": [
      "                          \r"
     ]
    },
    {
     "name": "stdout",
     "output_type": "stream",
     "text": [
      "2025-03-01 18:50:14,268 - Quant - WARNING - Multiple input ops exist, traversal to find closest producer is performed based on the first input\n"
     ]
    },
    {
     "name": "stderr",
     "output_type": "stream",
     "text": [
      "                          \r"
     ]
    },
    {
     "name": "stdout",
     "output_type": "stream",
     "text": [
      "2025-03-01 18:50:14,269 - Quant - WARNING - Multiple input ops exist, traversal to find closest producer is performed based on the first input\n"
     ]
    },
    {
     "name": "stderr",
     "output_type": "stream",
     "text": [
      "                          \r"
     ]
    },
    {
     "name": "stdout",
     "output_type": "stream",
     "text": [
      "2025-03-01 18:50:14,271 - Quant - WARNING - Multiple input ops exist, traversal to find closest producer is performed based on the first input\n"
     ]
    },
    {
     "name": "stderr",
     "output_type": "stream",
     "text": [
      "                          \r"
     ]
    },
    {
     "name": "stdout",
     "output_type": "stream",
     "text": [
      "2025-03-01 18:50:14,272 - Quant - WARNING - Multiple input ops exist, traversal to find closest producer is performed based on the first input\n"
     ]
    },
    {
     "name": "stderr",
     "output_type": "stream",
     "text": [
      "                          \r"
     ]
    },
    {
     "name": "stdout",
     "output_type": "stream",
     "text": [
      "2025-03-01 18:50:14,273 - Quant - WARNING - Multiple input ops exist, traversal to find closest producer is performed based on the first input\n"
     ]
    },
    {
     "name": "stderr",
     "output_type": "stream",
     "text": [
      "                          \r"
     ]
    },
    {
     "name": "stdout",
     "output_type": "stream",
     "text": [
      "2025-03-01 18:50:14,275 - Quant - WARNING - Multiple input ops exist, traversal to find closest producer is performed based on the first input\n"
     ]
    },
    {
     "name": "stderr",
     "output_type": "stream",
     "text": [
      "                          \r"
     ]
    },
    {
     "name": "stdout",
     "output_type": "stream",
     "text": [
      "2025-03-01 18:50:14,276 - Quant - WARNING - Multiple input ops exist, traversal to find closest producer is performed based on the first input\n"
     ]
    },
    {
     "name": "stderr",
     "output_type": "stream",
     "text": [
      "                          \r"
     ]
    },
    {
     "name": "stdout",
     "output_type": "stream",
     "text": [
      "2025-03-01 18:50:14,277 - Quant - WARNING - Multiple input ops exist, traversal to find closest producer is performed based on the first input\n"
     ]
    },
    {
     "name": "stderr",
     "output_type": "stream",
     "text": [
      "                          \r"
     ]
    },
    {
     "name": "stdout",
     "output_type": "stream",
     "text": [
      "2025-03-01 18:50:14,278 - Quant - WARNING - Multiple input ops exist, traversal to find closest producer is performed based on the first input\n"
     ]
    },
    {
     "name": "stderr",
     "output_type": "stream",
     "text": [
      "                          \r"
     ]
    },
    {
     "name": "stdout",
     "output_type": "stream",
     "text": [
      "2025-03-01 18:50:14,280 - Quant - WARNING - Multiple input ops exist, traversal to find closest producer is performed based on the first input\n"
     ]
    },
    {
     "name": "stderr",
     "output_type": "stream",
     "text": [
      "100%|██████████| 16/16 [09:55<00:00, 37.23s/it]\n",
      "                          \r"
     ]
    },
    {
     "name": "stdout",
     "output_type": "stream",
     "text": [
      "2025-03-01 19:01:45,277 - Utils - INFO - successfully created onnx model with 286/1981 node names updated\n"
     ]
    },
    {
     "name": "stderr",
     "output_type": "stream",
     "text": [
      "                          \r"
     ]
    },
    {
     "name": "stdout",
     "output_type": "stream",
     "text": [
      "2025-03-01 19:01:45,831 - Quant - INFO - Layers excluded from quantization: []\n"
     ]
    },
    {
     "name": "stderr",
     "output_type": "stream",
     "text": [
      "                          \r"
     ]
    },
    {
     "name": "stdout",
     "output_type": "stream",
     "text": [
      "2025-03-01 19:01:45,836 - Quant - WARNING - \u001b[31;21mQuantsim export will stop exporting encodings for saving and loading in a future AIMET release.\n",
      "To export encodings for saving and loading, use QuantizationSimModel's save_encodings_to_json() utility instead.\u001b[0m\n"
     ]
    },
    {
     "name": "stderr",
     "output_type": "stream",
     "text": [
      "                          \r"
     ]
    },
    {
     "name": "stdout",
     "output_type": "stream",
     "text": [
      "2025-03-01 19:01:45,842 - AutoQuant - INFO - The results of Cross-Layer Equalization is saved in /tmp/.trace/cross_layer_equalization.pth and /tmp/.trace/cross_layer_equalization.encodings.\n"
     ]
    },
    {
     "name": "stderr",
     "output_type": "stream",
     "text": [
      "                          \r"
     ]
    },
    {
     "name": "stdout",
     "output_type": "stream",
     "text": [
      "2025-03-01 19:01:45,844 - AutoQuant - INFO - Session finished: Cross-Layer Equalization. (eval score: 0.935000)\n"
     ]
    },
    {
     "name": "stderr",
     "output_type": "stream",
     "text": [
      "- Cross-Layer Equalization\n"
     ]
    },
    {
     "name": "stdout",
     "output_type": "stream",
     "text": [
      "2025-03-01 19:01:46,154 - AutoQuant - INFO - Best eval score: 0.935000\n",
      "- Quantized Accuracy (after optimization):  0.935\n"
     ]
    }
   ],
   "source": [
    "model, optimized_accuracy, encoding_path = auto_quant.optimize(allowed_accuracy_drop=0.01)\n",
    "print(f\"- Quantized Accuracy (after optimization):  {optimized_accuracy}\")"
   ]
  },
  {
   "cell_type": "code",
   "execution_count": null,
   "metadata": {},
   "outputs": [],
   "source": []
  }
 ],
 "metadata": {
  "kernelspec": {
   "display_name": "swin_bhanu",
   "language": "python",
   "name": "python3"
  },
  "language_info": {
   "codemirror_mode": {
    "name": "ipython",
    "version": 3
   },
   "file_extension": ".py",
   "mimetype": "text/x-python",
   "name": "python",
   "nbconvert_exporter": "python",
   "pygments_lexer": "ipython3",
   "version": "3.10.16"
  }
 },
 "nbformat": 4,
 "nbformat_minor": 2
}
