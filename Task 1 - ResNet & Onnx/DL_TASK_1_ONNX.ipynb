{
  "nbformat": 4,
  "nbformat_minor": 0,
  "metadata": {
    "colab": {
      "provenance": []
    },
    "kernelspec": {
      "name": "python3",
      "display_name": "Python 3"
    },
    "language_info": {
      "name": "python"
    }
  },
  "cells": [
    {
      "cell_type": "markdown",
      "source": [
        "# TASK 1: Write a DL model using a pytorch framework and export to onnx , do onnx simplification (resnet18)"
      ],
      "metadata": {
        "id": "zR-5oojEBor-"
      }
    },
    {
      "cell_type": "code",
      "execution_count": null,
      "metadata": {
        "colab": {
          "base_uri": "https://localhost:8080/"
        },
        "id": "VQbTWRsXVBSp",
        "outputId": "8263cdde-6622-4441-88d6-797a2deb2c2b"
      },
      "outputs": [
        {
          "output_type": "stream",
          "name": "stdout",
          "text": [
            "Requirement already satisfied: onnx in /usr/local/lib/python3.11/dist-packages (1.17.0)\n",
            "Requirement already satisfied: numpy>=1.20 in /usr/local/lib/python3.11/dist-packages (from onnx) (1.26.4)\n",
            "Requirement already satisfied: protobuf>=3.20.2 in /usr/local/lib/python3.11/dist-packages (from onnx) (4.25.6)\n",
            "Requirement already satisfied: onnxsim in /usr/local/lib/python3.11/dist-packages (0.4.36)\n",
            "Requirement already satisfied: onnx in /usr/local/lib/python3.11/dist-packages (from onnxsim) (1.17.0)\n",
            "Requirement already satisfied: rich in /usr/local/lib/python3.11/dist-packages (from onnxsim) (13.9.4)\n",
            "Requirement already satisfied: numpy>=1.20 in /usr/local/lib/python3.11/dist-packages (from onnx->onnxsim) (1.26.4)\n",
            "Requirement already satisfied: protobuf>=3.20.2 in /usr/local/lib/python3.11/dist-packages (from onnx->onnxsim) (4.25.6)\n",
            "Requirement already satisfied: markdown-it-py>=2.2.0 in /usr/local/lib/python3.11/dist-packages (from rich->onnxsim) (3.0.0)\n",
            "Requirement already satisfied: pygments<3.0.0,>=2.13.0 in /usr/local/lib/python3.11/dist-packages (from rich->onnxsim) (2.18.0)\n",
            "Requirement already satisfied: mdurl~=0.1 in /usr/local/lib/python3.11/dist-packages (from markdown-it-py>=2.2.0->rich->onnxsim) (0.1.2)\n"
          ]
        }
      ],
      "source": [
        "!pip install onnx\n",
        "!pip install onnxsim"
      ]
    },
    {
      "cell_type": "code",
      "source": [
        "!pip install torch\n",
        "!pip install torchvision"
      ],
      "metadata": {
        "colab": {
          "base_uri": "https://localhost:8080/"
        },
        "id": "wDx4fa2fVLJa",
        "outputId": "889eeed5-b88b-425e-8a05-0e5786df5fe3"
      },
      "execution_count": null,
      "outputs": [
        {
          "output_type": "stream",
          "name": "stdout",
          "text": [
            "Requirement already satisfied: torch in /usr/local/lib/python3.11/dist-packages (2.5.1+cu124)\n",
            "Requirement already satisfied: filelock in /usr/local/lib/python3.11/dist-packages (from torch) (3.17.0)\n",
            "Requirement already satisfied: typing-extensions>=4.8.0 in /usr/local/lib/python3.11/dist-packages (from torch) (4.12.2)\n",
            "Requirement already satisfied: networkx in /usr/local/lib/python3.11/dist-packages (from torch) (3.4.2)\n",
            "Requirement already satisfied: jinja2 in /usr/local/lib/python3.11/dist-packages (from torch) (3.1.5)\n",
            "Requirement already satisfied: fsspec in /usr/local/lib/python3.11/dist-packages (from torch) (2024.10.0)\n",
            "Requirement already satisfied: nvidia-cuda-nvrtc-cu12==12.4.127 in /usr/local/lib/python3.11/dist-packages (from torch) (12.4.127)\n",
            "Requirement already satisfied: nvidia-cuda-runtime-cu12==12.4.127 in /usr/local/lib/python3.11/dist-packages (from torch) (12.4.127)\n",
            "Requirement already satisfied: nvidia-cuda-cupti-cu12==12.4.127 in /usr/local/lib/python3.11/dist-packages (from torch) (12.4.127)\n",
            "Requirement already satisfied: nvidia-cudnn-cu12==9.1.0.70 in /usr/local/lib/python3.11/dist-packages (from torch) (9.1.0.70)\n",
            "Requirement already satisfied: nvidia-cublas-cu12==12.4.5.8 in /usr/local/lib/python3.11/dist-packages (from torch) (12.4.5.8)\n",
            "Requirement already satisfied: nvidia-cufft-cu12==11.2.1.3 in /usr/local/lib/python3.11/dist-packages (from torch) (11.2.1.3)\n",
            "Requirement already satisfied: nvidia-curand-cu12==10.3.5.147 in /usr/local/lib/python3.11/dist-packages (from torch) (10.3.5.147)\n",
            "Requirement already satisfied: nvidia-cusolver-cu12==11.6.1.9 in /usr/local/lib/python3.11/dist-packages (from torch) (11.6.1.9)\n",
            "Requirement already satisfied: nvidia-cusparse-cu12==12.3.1.170 in /usr/local/lib/python3.11/dist-packages (from torch) (12.3.1.170)\n",
            "Requirement already satisfied: nvidia-nccl-cu12==2.21.5 in /usr/local/lib/python3.11/dist-packages (from torch) (2.21.5)\n",
            "Requirement already satisfied: nvidia-nvtx-cu12==12.4.127 in /usr/local/lib/python3.11/dist-packages (from torch) (12.4.127)\n",
            "Requirement already satisfied: nvidia-nvjitlink-cu12==12.4.127 in /usr/local/lib/python3.11/dist-packages (from torch) (12.4.127)\n",
            "Requirement already satisfied: triton==3.1.0 in /usr/local/lib/python3.11/dist-packages (from torch) (3.1.0)\n",
            "Requirement already satisfied: sympy==1.13.1 in /usr/local/lib/python3.11/dist-packages (from torch) (1.13.1)\n",
            "Requirement already satisfied: mpmath<1.4,>=1.1.0 in /usr/local/lib/python3.11/dist-packages (from sympy==1.13.1->torch) (1.3.0)\n",
            "Requirement already satisfied: MarkupSafe>=2.0 in /usr/local/lib/python3.11/dist-packages (from jinja2->torch) (3.0.2)\n",
            "Requirement already satisfied: torchvision in /usr/local/lib/python3.11/dist-packages (0.20.1+cu124)\n",
            "Requirement already satisfied: numpy in /usr/local/lib/python3.11/dist-packages (from torchvision) (1.26.4)\n",
            "Requirement already satisfied: torch==2.5.1 in /usr/local/lib/python3.11/dist-packages (from torchvision) (2.5.1+cu124)\n",
            "Requirement already satisfied: pillow!=8.3.*,>=5.3.0 in /usr/local/lib/python3.11/dist-packages (from torchvision) (11.1.0)\n",
            "Requirement already satisfied: filelock in /usr/local/lib/python3.11/dist-packages (from torch==2.5.1->torchvision) (3.17.0)\n",
            "Requirement already satisfied: typing-extensions>=4.8.0 in /usr/local/lib/python3.11/dist-packages (from torch==2.5.1->torchvision) (4.12.2)\n",
            "Requirement already satisfied: networkx in /usr/local/lib/python3.11/dist-packages (from torch==2.5.1->torchvision) (3.4.2)\n",
            "Requirement already satisfied: jinja2 in /usr/local/lib/python3.11/dist-packages (from torch==2.5.1->torchvision) (3.1.5)\n",
            "Requirement already satisfied: fsspec in /usr/local/lib/python3.11/dist-packages (from torch==2.5.1->torchvision) (2024.10.0)\n",
            "Requirement already satisfied: nvidia-cuda-nvrtc-cu12==12.4.127 in /usr/local/lib/python3.11/dist-packages (from torch==2.5.1->torchvision) (12.4.127)\n",
            "Requirement already satisfied: nvidia-cuda-runtime-cu12==12.4.127 in /usr/local/lib/python3.11/dist-packages (from torch==2.5.1->torchvision) (12.4.127)\n",
            "Requirement already satisfied: nvidia-cuda-cupti-cu12==12.4.127 in /usr/local/lib/python3.11/dist-packages (from torch==2.5.1->torchvision) (12.4.127)\n",
            "Requirement already satisfied: nvidia-cudnn-cu12==9.1.0.70 in /usr/local/lib/python3.11/dist-packages (from torch==2.5.1->torchvision) (9.1.0.70)\n",
            "Requirement already satisfied: nvidia-cublas-cu12==12.4.5.8 in /usr/local/lib/python3.11/dist-packages (from torch==2.5.1->torchvision) (12.4.5.8)\n",
            "Requirement already satisfied: nvidia-cufft-cu12==11.2.1.3 in /usr/local/lib/python3.11/dist-packages (from torch==2.5.1->torchvision) (11.2.1.3)\n",
            "Requirement already satisfied: nvidia-curand-cu12==10.3.5.147 in /usr/local/lib/python3.11/dist-packages (from torch==2.5.1->torchvision) (10.3.5.147)\n",
            "Requirement already satisfied: nvidia-cusolver-cu12==11.6.1.9 in /usr/local/lib/python3.11/dist-packages (from torch==2.5.1->torchvision) (11.6.1.9)\n",
            "Requirement already satisfied: nvidia-cusparse-cu12==12.3.1.170 in /usr/local/lib/python3.11/dist-packages (from torch==2.5.1->torchvision) (12.3.1.170)\n",
            "Requirement already satisfied: nvidia-nccl-cu12==2.21.5 in /usr/local/lib/python3.11/dist-packages (from torch==2.5.1->torchvision) (2.21.5)\n",
            "Requirement already satisfied: nvidia-nvtx-cu12==12.4.127 in /usr/local/lib/python3.11/dist-packages (from torch==2.5.1->torchvision) (12.4.127)\n",
            "Requirement already satisfied: nvidia-nvjitlink-cu12==12.4.127 in /usr/local/lib/python3.11/dist-packages (from torch==2.5.1->torchvision) (12.4.127)\n",
            "Requirement already satisfied: triton==3.1.0 in /usr/local/lib/python3.11/dist-packages (from torch==2.5.1->torchvision) (3.1.0)\n",
            "Requirement already satisfied: sympy==1.13.1 in /usr/local/lib/python3.11/dist-packages (from torch==2.5.1->torchvision) (1.13.1)\n",
            "Requirement already satisfied: mpmath<1.4,>=1.1.0 in /usr/local/lib/python3.11/dist-packages (from sympy==1.13.1->torch==2.5.1->torchvision) (1.3.0)\n",
            "Requirement already satisfied: MarkupSafe>=2.0 in /usr/local/lib/python3.11/dist-packages (from jinja2->torch==2.5.1->torchvision) (3.0.2)\n"
          ]
        }
      ]
    },
    {
      "cell_type": "code",
      "source": [
        "import torch\n",
        "import torch.onnx\n",
        "import onnx\n",
        "import onnxsim\n",
        "from torchvision import models"
      ],
      "metadata": {
        "id": "uo0hczPVVaQm"
      },
      "execution_count": null,
      "outputs": []
    },
    {
      "cell_type": "code",
      "source": [
        "# Load Pretrained ResNet-18 Model\n",
        "\n",
        "model = models.resnet18(pretrained=True)\n",
        "model.eval()  # Set to evaluation mode"
      ],
      "metadata": {
        "colab": {
          "base_uri": "https://localhost:8080/"
        },
        "id": "3tbICpL3V_fQ",
        "outputId": "f686afd8-e1a1-4cd8-847e-c3eae7754f68"
      },
      "execution_count": null,
      "outputs": [
        {
          "output_type": "stream",
          "name": "stderr",
          "text": [
            "/usr/local/lib/python3.11/dist-packages/torchvision/models/_utils.py:223: UserWarning: Arguments other than a weight enum or `None` for 'weights' are deprecated since 0.13 and may be removed in the future. The current behavior is equivalent to passing `weights=ResNet18_Weights.IMAGENET1K_V1`. You can also use `weights=ResNet18_Weights.DEFAULT` to get the most up-to-date weights.\n",
            "  warnings.warn(msg)\n",
            "Downloading: \"https://download.pytorch.org/models/resnet18-f37072fd.pth\" to /root/.cache/torch/hub/checkpoints/resnet18-f37072fd.pth\n",
            "100%|██████████| 44.7M/44.7M [00:00<00:00, 125MB/s]\n"
          ]
        },
        {
          "output_type": "execute_result",
          "data": {
            "text/plain": [
              "ResNet(\n",
              "  (conv1): Conv2d(3, 64, kernel_size=(7, 7), stride=(2, 2), padding=(3, 3), bias=False)\n",
              "  (bn1): BatchNorm2d(64, eps=1e-05, momentum=0.1, affine=True, track_running_stats=True)\n",
              "  (relu): ReLU(inplace=True)\n",
              "  (maxpool): MaxPool2d(kernel_size=3, stride=2, padding=1, dilation=1, ceil_mode=False)\n",
              "  (layer1): Sequential(\n",
              "    (0): BasicBlock(\n",
              "      (conv1): Conv2d(64, 64, kernel_size=(3, 3), stride=(1, 1), padding=(1, 1), bias=False)\n",
              "      (bn1): BatchNorm2d(64, eps=1e-05, momentum=0.1, affine=True, track_running_stats=True)\n",
              "      (relu): ReLU(inplace=True)\n",
              "      (conv2): Conv2d(64, 64, kernel_size=(3, 3), stride=(1, 1), padding=(1, 1), bias=False)\n",
              "      (bn2): BatchNorm2d(64, eps=1e-05, momentum=0.1, affine=True, track_running_stats=True)\n",
              "    )\n",
              "    (1): BasicBlock(\n",
              "      (conv1): Conv2d(64, 64, kernel_size=(3, 3), stride=(1, 1), padding=(1, 1), bias=False)\n",
              "      (bn1): BatchNorm2d(64, eps=1e-05, momentum=0.1, affine=True, track_running_stats=True)\n",
              "      (relu): ReLU(inplace=True)\n",
              "      (conv2): Conv2d(64, 64, kernel_size=(3, 3), stride=(1, 1), padding=(1, 1), bias=False)\n",
              "      (bn2): BatchNorm2d(64, eps=1e-05, momentum=0.1, affine=True, track_running_stats=True)\n",
              "    )\n",
              "  )\n",
              "  (layer2): Sequential(\n",
              "    (0): BasicBlock(\n",
              "      (conv1): Conv2d(64, 128, kernel_size=(3, 3), stride=(2, 2), padding=(1, 1), bias=False)\n",
              "      (bn1): BatchNorm2d(128, eps=1e-05, momentum=0.1, affine=True, track_running_stats=True)\n",
              "      (relu): ReLU(inplace=True)\n",
              "      (conv2): Conv2d(128, 128, kernel_size=(3, 3), stride=(1, 1), padding=(1, 1), bias=False)\n",
              "      (bn2): BatchNorm2d(128, eps=1e-05, momentum=0.1, affine=True, track_running_stats=True)\n",
              "      (downsample): Sequential(\n",
              "        (0): Conv2d(64, 128, kernel_size=(1, 1), stride=(2, 2), bias=False)\n",
              "        (1): BatchNorm2d(128, eps=1e-05, momentum=0.1, affine=True, track_running_stats=True)\n",
              "      )\n",
              "    )\n",
              "    (1): BasicBlock(\n",
              "      (conv1): Conv2d(128, 128, kernel_size=(3, 3), stride=(1, 1), padding=(1, 1), bias=False)\n",
              "      (bn1): BatchNorm2d(128, eps=1e-05, momentum=0.1, affine=True, track_running_stats=True)\n",
              "      (relu): ReLU(inplace=True)\n",
              "      (conv2): Conv2d(128, 128, kernel_size=(3, 3), stride=(1, 1), padding=(1, 1), bias=False)\n",
              "      (bn2): BatchNorm2d(128, eps=1e-05, momentum=0.1, affine=True, track_running_stats=True)\n",
              "    )\n",
              "  )\n",
              "  (layer3): Sequential(\n",
              "    (0): BasicBlock(\n",
              "      (conv1): Conv2d(128, 256, kernel_size=(3, 3), stride=(2, 2), padding=(1, 1), bias=False)\n",
              "      (bn1): BatchNorm2d(256, eps=1e-05, momentum=0.1, affine=True, track_running_stats=True)\n",
              "      (relu): ReLU(inplace=True)\n",
              "      (conv2): Conv2d(256, 256, kernel_size=(3, 3), stride=(1, 1), padding=(1, 1), bias=False)\n",
              "      (bn2): BatchNorm2d(256, eps=1e-05, momentum=0.1, affine=True, track_running_stats=True)\n",
              "      (downsample): Sequential(\n",
              "        (0): Conv2d(128, 256, kernel_size=(1, 1), stride=(2, 2), bias=False)\n",
              "        (1): BatchNorm2d(256, eps=1e-05, momentum=0.1, affine=True, track_running_stats=True)\n",
              "      )\n",
              "    )\n",
              "    (1): BasicBlock(\n",
              "      (conv1): Conv2d(256, 256, kernel_size=(3, 3), stride=(1, 1), padding=(1, 1), bias=False)\n",
              "      (bn1): BatchNorm2d(256, eps=1e-05, momentum=0.1, affine=True, track_running_stats=True)\n",
              "      (relu): ReLU(inplace=True)\n",
              "      (conv2): Conv2d(256, 256, kernel_size=(3, 3), stride=(1, 1), padding=(1, 1), bias=False)\n",
              "      (bn2): BatchNorm2d(256, eps=1e-05, momentum=0.1, affine=True, track_running_stats=True)\n",
              "    )\n",
              "  )\n",
              "  (layer4): Sequential(\n",
              "    (0): BasicBlock(\n",
              "      (conv1): Conv2d(256, 512, kernel_size=(3, 3), stride=(2, 2), padding=(1, 1), bias=False)\n",
              "      (bn1): BatchNorm2d(512, eps=1e-05, momentum=0.1, affine=True, track_running_stats=True)\n",
              "      (relu): ReLU(inplace=True)\n",
              "      (conv2): Conv2d(512, 512, kernel_size=(3, 3), stride=(1, 1), padding=(1, 1), bias=False)\n",
              "      (bn2): BatchNorm2d(512, eps=1e-05, momentum=0.1, affine=True, track_running_stats=True)\n",
              "      (downsample): Sequential(\n",
              "        (0): Conv2d(256, 512, kernel_size=(1, 1), stride=(2, 2), bias=False)\n",
              "        (1): BatchNorm2d(512, eps=1e-05, momentum=0.1, affine=True, track_running_stats=True)\n",
              "      )\n",
              "    )\n",
              "    (1): BasicBlock(\n",
              "      (conv1): Conv2d(512, 512, kernel_size=(3, 3), stride=(1, 1), padding=(1, 1), bias=False)\n",
              "      (bn1): BatchNorm2d(512, eps=1e-05, momentum=0.1, affine=True, track_running_stats=True)\n",
              "      (relu): ReLU(inplace=True)\n",
              "      (conv2): Conv2d(512, 512, kernel_size=(3, 3), stride=(1, 1), padding=(1, 1), bias=False)\n",
              "      (bn2): BatchNorm2d(512, eps=1e-05, momentum=0.1, affine=True, track_running_stats=True)\n",
              "    )\n",
              "  )\n",
              "  (avgpool): AdaptiveAvgPool2d(output_size=(1, 1))\n",
              "  (fc): Linear(in_features=512, out_features=1000, bias=True)\n",
              ")"
            ]
          },
          "metadata": {},
          "execution_count": 9
        }
      ]
    },
    {
      "cell_type": "code",
      "source": [
        "# Input for Export (Batch Size, Color Channels, Image pixels)\n",
        "dummy_input = torch.randn(1, 3, 224, 224)"
      ],
      "metadata": {
        "id": "hLTFkj3SWIUF"
      },
      "execution_count": null,
      "outputs": []
    },
    {
      "cell_type": "code",
      "source": [
        "# Define ONNX Export Parameters\n",
        "onnx_filename = \"resnet18.onnx\"\n",
        "torch.onnx.export(\n",
        "    model,              # Model to export\n",
        "    dummy_input,        # Input tensor\n",
        "    onnx_filename,      # Output filename\n",
        "    input_names=[\"input\"],  # Input tensor name\n",
        "    output_names=[\"output\"], # Output tensor name\n",
        "    dynamic_axes={\"input\": {0: \"batch_size\"}, \"output\": {0: \"batch_size\"}}, # Allow batch size flexibility\n",
        "    opset_version=11    # ONNX Opset version\n",
        ")\n",
        "print(f\"Model exported to {onnx_filename}\")"
      ],
      "metadata": {
        "colab": {
          "base_uri": "https://localhost:8080/"
        },
        "id": "j5F1RmzoWZJ0",
        "outputId": "60aaa522-e9c1-4546-b09c-6192278076c6"
      },
      "execution_count": null,
      "outputs": [
        {
          "output_type": "stream",
          "name": "stdout",
          "text": [
            "Model exported to resnet18.onnx\n"
          ]
        }
      ]
    },
    {
      "cell_type": "code",
      "source": [
        "# Load and Verify ONNX Model\n",
        "onnx_model = onnx.load(onnx_filename)  # Load model\n",
        "onnx.checker.check_model(onnx_model)   # Validate model\n",
        "print(\"ONNX model is valid!\")"
      ],
      "metadata": {
        "colab": {
          "base_uri": "https://localhost:8080/"
        },
        "id": "Z9ke2k4cWcL4",
        "outputId": "362d607c-8f0b-4963-8380-6447dee0843d"
      },
      "execution_count": null,
      "outputs": [
        {
          "output_type": "stream",
          "name": "stdout",
          "text": [
            "ONNX model is valid!\n"
          ]
        }
      ]
    },
    {
      "cell_type": "code",
      "source": [
        "# Checking if the file is simplifiable\n",
        "model_path = \"resnet18.onnx\"\n",
        "simplified_model_path = \"resnet18_simplified.onnx\"\n",
        "\n",
        "# Load ONNX model\n",
        "model = onnx.load(model_path)\n",
        "\n",
        "# Simplify model with debugging enabled\n",
        "simplified_model, check = onnxsim.simplify(model, check_n=3)\n",
        "\n",
        "if not check:\n",
        "    print(\"\\nSimplification check failed! The model may not be simplified.\")\n",
        "else:\n",
        "    print(\"\\nSimplification successful!\")\n",
        "\n",
        "# Save the new model\n",
        "onnx.save(simplified_model, simplified_model_path)\n",
        "print(f\"\\nSimplified model saved as {simplified_model_path}\")"
      ],
      "metadata": {
        "colab": {
          "base_uri": "https://localhost:8080/"
        },
        "id": "KwrjjaBmXjKk",
        "outputId": "73d62620-6a4e-49e8-8117-734543757626"
      },
      "execution_count": null,
      "outputs": [
        {
          "output_type": "stream",
          "name": "stdout",
          "text": [
            "Checking 0/3...\n",
            "shape[0] of input \"input\" is dynamic, we assume it presents batch size and set it as 1 when testing. If it is not wanted, please set the it manually by --test-input-shape (see `onnxsim -h` for the details).\n",
            "Checking 1/3...\n",
            "shape[0] of input \"input\" is dynamic, we assume it presents batch size and set it as 1 when testing. If it is not wanted, please set the it manually by --test-input-shape (see `onnxsim -h` for the details).\n",
            "Checking 2/3...\n",
            "shape[0] of input \"input\" is dynamic, we assume it presents batch size and set it as 1 when testing. If it is not wanted, please set the it manually by --test-input-shape (see `onnxsim -h` for the details).\n",
            "Simplification successful!\n",
            "Simplified model saved as resnet18_simplified.onnx\n"
          ]
        }
      ]
    },
    {
      "cell_type": "markdown",
      "source": [
        "#COMPARING SIMPLIFIED MODEL AND UNSIMPLIFIED PRETRAINED MODEL"
      ],
      "metadata": {
        "id": "OArvdy8TXZAq"
      }
    },
    {
      "cell_type": "code",
      "source": [
        "import os\n",
        "import time\n",
        "import numpy as np\n",
        "import onnxruntime as ort\n",
        "\n",
        "# Load original and simplified ONNX models\n",
        "original_model = \"resnet18.onnx\"\n",
        "simplified_model = \"resnet18_simplified.onnx\"\n",
        "\n",
        "# Compare file sizes\n",
        "original_size = os.path.getsize(original_model) / 1024  # KB\n",
        "simplified_size = os.path.getsize(simplified_model) / 1024  # KB\n",
        "print(f\"Original Model Size: {original_size:.2f} KB\")\n",
        "print(f\"Simplified Model Size: {simplified_size:.2f} KB\")\n",
        "\n",
        "# Load ONNX models into ONNX Runtime\n",
        "sess_orig = ort.InferenceSession(original_model)\n",
        "sess_simp = ort.InferenceSession(simplified_model)\n",
        "\n",
        "# Create a dummy input (batch size 1)\n",
        "input_name = sess_orig.get_inputs()[0].name\n",
        "dummy_input = np.random.randn(1, 3, 224, 224).astype(np.float32)\n",
        "\n",
        "# Measure inference time\n",
        "start = time.time()\n",
        "sess_orig.run(None, {input_name: dummy_input})\n",
        "orig_time = time.time() - start\n",
        "\n",
        "start = time.time()\n",
        "sess_simp.run(None, {input_name: dummy_input})\n",
        "simp_time = time.time() - start\n",
        "\n",
        "print(f\"Original Model Inference Time: {orig_time:.5f} sec\")\n",
        "print(f\"Simplified Model Inference Time: {simp_time:.5f} sec\")\n",
        "\n",
        "# Compare number of nodes\n",
        "orig_nodes = len(onnx.load(original_model).graph.node)\n",
        "simp_nodes = len(onnx.load(simplified_model).graph.node)\n",
        "print(f\"Original Model Nodes: {orig_nodes}\")\n",
        "print(f\"Simplified Model Nodes: {simp_nodes}\")"
      ],
      "metadata": {
        "colab": {
          "base_uri": "https://localhost:8080/"
        },
        "id": "zi2f84xYWpVh",
        "outputId": "d817ebf7-29c9-41c6-fc80-a8644109a534"
      },
      "execution_count": null,
      "outputs": [
        {
          "output_type": "stream",
          "name": "stdout",
          "text": [
            "Original Model Size: 45652.90 KB\n",
            "Simplified Model Size: 45656.33 KB\n",
            "Original Model Inference Time: 0.05338 sec\n",
            "Simplified Model Inference Time: 0.05951 sec\n",
            "Original Model Nodes: 49\n",
            "Simplified Model Nodes: 49\n"
          ]
        }
      ]
    },
    {
      "cell_type": "markdown",
      "source": [
        "Output => Not much of a difference between the original and the simplifies model\n",
        "#Inference:\n",
        "1. Model Already Optimized: If the ONNX model is already exported in an efficient format (e.g., via PyTorch’s ONNX exporter with optimizations enabled), onnxsim may not find redundant nodes to remove.\n",
        "\n",
        "2. Redundant Nodes Not Present: The simplifier mainly removes unnecessary Transpose, Reshape, and Identity layers. If your model doesn’t have these, there won’t be much change.\n",
        "\n",
        "3. Constant Folding Already Done: If all constant expressions were already precomputed in the original model, simplification won’t further optimize it."
      ],
      "metadata": {
        "id": "FuCXBqGw9akP"
      }
    },
    {
      "cell_type": "code",
      "source": [
        "# Load Un-Pretrained ResNet-18 Model\n",
        "model = models.resnet18(pretrained=False)\n",
        "model.eval()  # Set to evaluation mode\n",
        "\n",
        "# Input for Export (Batch Size, Color Channels, Image Size)\n",
        "dummy_input = torch.randn(1, 3, 224, 224)\n",
        "\n",
        "# Define ONNX Export Parameters\n",
        "onnx_filename = \"resnet18.onnx\"\n",
        "torch.onnx.export(\n",
        "    model,              # Model to export\n",
        "    dummy_input,        # Input tensor\n",
        "    onnx_filename,      # Output filename\n",
        "    input_names=[\"input\"],  # Input tensor name\n",
        "    output_names=[\"output\"], # Output tensor name\n",
        "    dynamic_axes={\"input\": {0: \"batch_size\"}, \"output\": {0: \"batch_size\"}}, # Allow batch size flexibility\n",
        "    opset_version=11    # ONNX Opset version\n",
        ")\n",
        "print(f\"Model exported to {onnx_filename}\")\n",
        "\n",
        "# Load and Verify ONNX Model\n",
        "onnx_model = onnx.load(onnx_filename)  # Load model\n",
        "onnx.checker.check_model(onnx_model)   # Validate model\n",
        "print(\"ONNX model is valid!\")\n",
        "\n",
        "# Simplify the ONNX Model\n",
        "simplified_model, check = onnxsim.simplify(onnx_model)\n",
        "assert check, \"Simplified ONNX model is incorrect!\"\n",
        "\n",
        "simplified_filename = \"resnet18_simplified.onnx\"\n",
        "onnx.save(simplified_model, simplified_filename)\n",
        "print(f\"Simplified model saved as {simplified_filename}\")\n"
      ],
      "metadata": {
        "id": "S2AxZ0ZmYMGf",
        "colab": {
          "base_uri": "https://localhost:8080/"
        },
        "outputId": "feb453e4-b600-414e-c34c-8f7f86c75f45"
      },
      "execution_count": null,
      "outputs": [
        {
          "output_type": "stream",
          "name": "stdout",
          "text": [
            "Model exported to resnet18.onnx\n",
            "ONNX model is valid!\n",
            "Simplified model saved as resnet18_simplified.onnx\n"
          ]
        }
      ]
    },
    {
      "cell_type": "markdown",
      "source": [
        "#COMPARING SIMPLIFIED MODEL AND UNSIMPLIFIED UN-PRETRAINED MODEL"
      ],
      "metadata": {
        "id": "jCu8MoIIR0Fb"
      }
    },
    {
      "cell_type": "code",
      "source": [
        "# Load original and simplified ONNX models\n",
        "original_model = \"resnet18.onnx\"\n",
        "simplified_model = \"resnet18_simplified.onnx\"\n",
        "\n",
        "# Compare file sizes\n",
        "original_size = os.path.getsize(original_model) / 1024  # KB\n",
        "simplified_size = os.path.getsize(simplified_model) / 1024  # KB\n",
        "print(f\"Original Model Size: {original_size:.2f} KB\")\n",
        "print(f\"Simplified Model Size: {simplified_size:.2f} KB\")\n",
        "\n",
        "# Load ONNX models into ONNX Runtime\n",
        "sess_orig = ort.InferenceSession(original_model)\n",
        "sess_simp = ort.InferenceSession(simplified_model)\n",
        "\n",
        "# Create a dummy input (batch size 1)\n",
        "input_name = sess_orig.get_inputs()[0].name\n",
        "dummy_input = np.random.randn(1, 3, 224, 224).astype(np.float32)\n",
        "\n",
        "# Measure inference time\n",
        "start = time.time()\n",
        "sess_orig.run(None, {input_name: dummy_input})\n",
        "orig_time = time.time() - start\n",
        "\n",
        "start = time.time()\n",
        "sess_simp.run(None, {input_name: dummy_input})\n",
        "simp_time = time.time() - start\n",
        "\n",
        "print(f\"Original Model Inference Time: {orig_time:.5f} sec\")\n",
        "print(f\"Simplified Model Inference Time: {simp_time:.5f} sec\")\n",
        "\n",
        "# Compare number of nodes\n",
        "orig_nodes = len(onnx.load(original_model).graph.node)\n",
        "simp_nodes = len(onnx.load(simplified_model).graph.node)\n",
        "print(f\"Original Model Nodes: {orig_nodes}\")\n",
        "print(f\"Simplified Model Nodes: {simp_nodes}\")"
      ],
      "metadata": {
        "colab": {
          "base_uri": "https://localhost:8080/"
        },
        "outputId": "60d3d105-4415-473c-c2ed-fcc589961a8c",
        "id": "fQzcgs3NAZcN"
      },
      "execution_count": null,
      "outputs": [
        {
          "output_type": "stream",
          "name": "stdout",
          "text": [
            "Original Model Size: 45638.36 KB\n",
            "Simplified Model Size: 45640.92 KB\n",
            "Original Model Inference Time: 0.05495 sec\n",
            "Simplified Model Inference Time: 0.05611 sec\n",
            "Original Model Nodes: 65\n",
            "Simplified Model Nodes: 49\n"
          ]
        }
      ]
    },
    {
      "cell_type": "markdown",
      "source": [
        "#Inference:\n",
        "The un-pretrained model has variation in the number of model nodes!"
      ],
      "metadata": {
        "id": "hHtUrrjnCxz9"
      }
    }
  ]
}